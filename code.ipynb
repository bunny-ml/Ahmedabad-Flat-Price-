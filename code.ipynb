{
  "cells": [
    {
      "cell_type": "code",
      "execution_count": 258,
      "metadata": {
        "_cell_guid": "b1076dfc-b9ad-4769-8c92-a6c4dae69d19",
        "_uuid": "8f2839f25d086af736a60e9eeb907d3b93b6e0e5",
        "id": "oXOZEVDj0u_b"
      },
      "outputs": [],
      "source": [
        "# importing some libs so that we can work with data easily :)\n",
        "import pandas as pd\n",
        "import numpy as np\n",
        "import matplotlib.pyplot as plt\n",
        "import seaborn as sns"
      ]
    },
    {
      "cell_type": "code",
      "execution_count": 259,
      "metadata": {
        "id": "OLLnJtdN0u_f"
      },
      "outputs": [],
      "source": [
        "# reading the csv file by using pandas :)\n",
        "df = pd.read_csv('dataset/ahmedabad.csv' , encoding='utf-8')"
      ]
    },
    {
      "cell_type": "code",
      "execution_count": null,
      "metadata": {},
      "outputs": [
        {
          "data": {
            "text/plain": [
              "RangeIndex(start=0, stop=6853, step=1)"
            ]
          },
          "execution_count": 260,
          "metadata": {},
          "output_type": "execute_result"
        }
      ],
      "source": [
        "df.index"
      ]
    },
    {
      "cell_type": "code",
      "execution_count": 285,
      "metadata": {},
      "outputs": [
        {
          "name": "stdout",
          "output_type": "stream",
          "text": [
            "<class 'pandas.core.frame.DataFrame'>\n",
            "Index: 6334 entries, 0 to 6852\n",
            "Data columns (total 11 columns):\n",
            " #   Column        Non-Null Count  Dtype \n",
            "---  ------        --------------  ----- \n",
            " 0   Title         6334 non-null   object\n",
            " 1   type_area     6334 non-null   object\n",
            " 2   value_area    6334 non-null   object\n",
            " 3   floor         6334 non-null   object\n",
            " 4   transaction   6334 non-null   object\n",
            " 5   furnishing    6334 non-null   object\n",
            " 6   facing        6334 non-null   object\n",
            " 7   price         6334 non-null   object\n",
            " 8   price_sqft    6334 non-null   object\n",
            " 9   status_type   6334 non-null   object\n",
            " 10  status_value  6334 non-null   object\n",
            "dtypes: object(11)\n",
            "memory usage: 593.8+ KB\n"
          ]
        }
      ],
      "source": [
        "df.info()"
      ]
    },
    {
      "cell_type": "code",
      "execution_count": 261,
      "metadata": {},
      "outputs": [
        {
          "data": {
            "text/plain": [
              "Unnamed: 0        0\n",
              "Title             0\n",
              "type_area         0\n",
              "value_area        0\n",
              "status            0\n",
              "floor             8\n",
              "transaction      21\n",
              "furnishing       37\n",
              "facing           89\n",
              "price             0\n",
              "price_sqft      448\n",
              "description    1766\n",
              "dtype: int64"
            ]
          },
          "execution_count": 261,
          "metadata": {},
          "output_type": "execute_result"
        }
      ],
      "source": [
        "df.isnull().sum()"
      ]
    },
    {
      "cell_type": "code",
      "execution_count": 262,
      "metadata": {},
      "outputs": [
        {
          "data": {
            "text/plain": [
              "np.int64(448)"
            ]
          },
          "execution_count": 262,
          "metadata": {},
          "output_type": "execute_result"
        }
      ],
      "source": [
        "df['price_sqft'].isnull().sum()"
      ]
    },
    {
      "cell_type": "code",
      "execution_count": 263,
      "metadata": {},
      "outputs": [],
      "source": [
        "# DROP the description\n",
        "df = df.drop(['description', 'Unnamed: 0'], axis=1)"
      ]
    },
    {
      "cell_type": "code",
      "execution_count": 264,
      "metadata": {
        "colab": {
          "base_uri": "https://localhost:8080/",
          "height": 363
        },
        "id": "AbdlPzmL0u_g",
        "outputId": "946243d3-9565-43b1-c7e3-ab5a7e3a9562"
      },
      "outputs": [
        {
          "data": {
            "text/html": [
              "<div>\n",
              "<style scoped>\n",
              "    .dataframe tbody tr th:only-of-type {\n",
              "        vertical-align: middle;\n",
              "    }\n",
              "\n",
              "    .dataframe tbody tr th {\n",
              "        vertical-align: top;\n",
              "    }\n",
              "\n",
              "    .dataframe thead th {\n",
              "        text-align: right;\n",
              "    }\n",
              "</style>\n",
              "<table border=\"1\" class=\"dataframe\">\n",
              "  <thead>\n",
              "    <tr style=\"text-align: right;\">\n",
              "      <th></th>\n",
              "      <th>Title</th>\n",
              "      <th>type_area</th>\n",
              "      <th>value_area</th>\n",
              "      <th>status</th>\n",
              "      <th>floor</th>\n",
              "      <th>transaction</th>\n",
              "      <th>furnishing</th>\n",
              "      <th>facing</th>\n",
              "      <th>price</th>\n",
              "      <th>price_sqft</th>\n",
              "    </tr>\n",
              "  </thead>\n",
              "  <tbody>\n",
              "    <tr>\n",
              "      <th>0</th>\n",
              "      <td>2 BHK Apartment for Sale in Vivaan Aura, Zunda...</td>\n",
              "      <td>Super Area</td>\n",
              "      <td>155 sqyrd</td>\n",
              "      <td>Poss. by Dec '26</td>\n",
              "      <td>New Property</td>\n",
              "      <td>Unfurnished</td>\n",
              "      <td>Vivaan Aura</td>\n",
              "      <td>2</td>\n",
              "      <td>â‚¹48.1 Lac</td>\n",
              "      <td>â‚¹3,444 per sqft</td>\n",
              "    </tr>\n",
              "    <tr>\n",
              "      <th>1</th>\n",
              "      <td>2 BHK Apartment for Sale in SP Epitome, Shela ...</td>\n",
              "      <td>Carpet Area</td>\n",
              "      <td>710 sqft</td>\n",
              "      <td>Poss. by Jun '27</td>\n",
              "      <td>New Property</td>\n",
              "      <td>Unfurnished</td>\n",
              "      <td>SP Epitome</td>\n",
              "      <td>2</td>\n",
              "      <td>â‚¹50 Lac</td>\n",
              "      <td>â‚¹3,876 per sqft</td>\n",
              "    </tr>\n",
              "    <tr>\n",
              "      <th>2</th>\n",
              "      <td>2 BHK Apartment for Sale in Pacifica Amara, Sa...</td>\n",
              "      <td>Carpet Area</td>\n",
              "      <td>588 sqft</td>\n",
              "      <td>Poss. by Dec '25</td>\n",
              "      <td>New Property</td>\n",
              "      <td>Unfurnished</td>\n",
              "      <td>Pacifica Amara</td>\n",
              "      <td>2</td>\n",
              "      <td>â‚¹40 Lac</td>\n",
              "      <td>â‚¹3,738 per sqft</td>\n",
              "    </tr>\n",
              "    <tr>\n",
              "      <th>3</th>\n",
              "      <td>2 BHK Apartment for Sale in Kavisha AER, Shela...</td>\n",
              "      <td>Carpet Area</td>\n",
              "      <td>687 sqft</td>\n",
              "      <td>Poss. by Jun '26</td>\n",
              "      <td>New Property</td>\n",
              "      <td>Unfurnished</td>\n",
              "      <td>Kavisha AER</td>\n",
              "      <td>2</td>\n",
              "      <td>â‚¹48.8 Lac</td>\n",
              "      <td>â‚¹3,900 per sqft</td>\n",
              "    </tr>\n",
              "    <tr>\n",
              "      <th>4</th>\n",
              "      <td>2 BHK Apartment for Sale in Aarambh Vistara, G...</td>\n",
              "      <td>Carpet Area</td>\n",
              "      <td>621 sqft</td>\n",
              "      <td>Poss. by Mar '25</td>\n",
              "      <td>New Property</td>\n",
              "      <td>Unfurnished</td>\n",
              "      <td>Aarambh Vistara</td>\n",
              "      <td>2</td>\n",
              "      <td>â‚¹48 Lac</td>\n",
              "      <td>â‚¹4,248 per sqft</td>\n",
              "    </tr>\n",
              "    <tr>\n",
              "      <th>5</th>\n",
              "      <td>2 BHK Apartment for Sale in Vivaan Essence, Zu...</td>\n",
              "      <td>Super Area</td>\n",
              "      <td>1413 sqft</td>\n",
              "      <td>Poss. by Jun '26</td>\n",
              "      <td>New Property</td>\n",
              "      <td>Unfurnished</td>\n",
              "      <td>Vivaan Essence</td>\n",
              "      <td>1 Covered</td>\n",
              "      <td>â‚¹49.9 Lac</td>\n",
              "      <td>â‚¹3,533 per sqft</td>\n",
              "    </tr>\n",
              "    <tr>\n",
              "      <th>6</th>\n",
              "      <td>2 BHK Apartment for Sale in Kavisha AER, Shela...</td>\n",
              "      <td>Carpet Area</td>\n",
              "      <td>700 sqft</td>\n",
              "      <td>Poss. by Dec '25</td>\n",
              "      <td>7 out of 14</td>\n",
              "      <td>New Property</td>\n",
              "      <td>Unfurnished</td>\n",
              "      <td>East</td>\n",
              "      <td>â‚¹49.1 Lac</td>\n",
              "      <td>â‚¹3,900 per sqft</td>\n",
              "    </tr>\n",
              "    <tr>\n",
              "      <th>7</th>\n",
              "      <td>2 BHK Apartment for Sale in Vivaan Aura, Zunda...</td>\n",
              "      <td>Carpet Area</td>\n",
              "      <td>85 sqyrd</td>\n",
              "      <td>Poss. by Jun '26</td>\n",
              "      <td>11 out of 14</td>\n",
              "      <td>New Property</td>\n",
              "      <td>Unfurnished</td>\n",
              "      <td>East</td>\n",
              "      <td>â‚¹48.4 Lac</td>\n",
              "      <td>â‚¹3,444 per sqft</td>\n",
              "    </tr>\n",
              "    <tr>\n",
              "      <th>8</th>\n",
              "      <td>2 BHK Apartment for Sale in Kavisha Atria, She...</td>\n",
              "      <td>Carpet Area</td>\n",
              "      <td>655 sqft</td>\n",
              "      <td>Poss. by Jul '24</td>\n",
              "      <td>New Property</td>\n",
              "      <td>Unfurnished</td>\n",
              "      <td>North - East</td>\n",
              "      <td>Garden/Park</td>\n",
              "      <td>â‚¹45.2 Lac</td>\n",
              "      <td>â‚¹4,000 per sqft</td>\n",
              "    </tr>\n",
              "    <tr>\n",
              "      <th>9</th>\n",
              "      <td>2 BHK Apartment for Sale in Sun Parkwest, Shel...</td>\n",
              "      <td>Carpet Area</td>\n",
              "      <td>676 sqft</td>\n",
              "      <td>Poss. by Jul '26</td>\n",
              "      <td>5 out of 14</td>\n",
              "      <td>New Property</td>\n",
              "      <td>Unfurnished</td>\n",
              "      <td>East</td>\n",
              "      <td>â‚¹42.6 Lac</td>\n",
              "      <td>â‚¹3,300 per sqft</td>\n",
              "    </tr>\n",
              "  </tbody>\n",
              "</table>\n",
              "</div>"
            ],
            "text/plain": [
              "                                               Title    type_area value_area  \\\n",
              "0  2 BHK Apartment for Sale in Vivaan Aura, Zunda...   Super Area  155 sqyrd   \n",
              "1  2 BHK Apartment for Sale in SP Epitome, Shela ...  Carpet Area   710 sqft   \n",
              "2  2 BHK Apartment for Sale in Pacifica Amara, Sa...  Carpet Area   588 sqft   \n",
              "3  2 BHK Apartment for Sale in Kavisha AER, Shela...  Carpet Area   687 sqft   \n",
              "4  2 BHK Apartment for Sale in Aarambh Vistara, G...  Carpet Area   621 sqft   \n",
              "5  2 BHK Apartment for Sale in Vivaan Essence, Zu...   Super Area  1413 sqft   \n",
              "6  2 BHK Apartment for Sale in Kavisha AER, Shela...  Carpet Area   700 sqft   \n",
              "7  2 BHK Apartment for Sale in Vivaan Aura, Zunda...  Carpet Area   85 sqyrd   \n",
              "8  2 BHK Apartment for Sale in Kavisha Atria, She...  Carpet Area   655 sqft   \n",
              "9  2 BHK Apartment for Sale in Sun Parkwest, Shel...  Carpet Area   676 sqft   \n",
              "\n",
              "             status         floor   transaction       furnishing       facing  \\\n",
              "0  Poss. by Dec '26  New Property   Unfurnished      Vivaan Aura            2   \n",
              "1  Poss. by Jun '27  New Property   Unfurnished       SP Epitome            2   \n",
              "2  Poss. by Dec '25  New Property   Unfurnished   Pacifica Amara            2   \n",
              "3  Poss. by Jun '26  New Property   Unfurnished      Kavisha AER            2   \n",
              "4  Poss. by Mar '25  New Property   Unfurnished  Aarambh Vistara            2   \n",
              "5  Poss. by Jun '26  New Property   Unfurnished   Vivaan Essence    1 Covered   \n",
              "6  Poss. by Dec '25   7 out of 14  New Property      Unfurnished         East   \n",
              "7  Poss. by Jun '26  11 out of 14  New Property      Unfurnished         East   \n",
              "8  Poss. by Jul '24  New Property   Unfurnished     North - East  Garden/Park   \n",
              "9  Poss. by Jul '26   5 out of 14  New Property      Unfurnished         East   \n",
              "\n",
              "          price          price_sqft  \n",
              "0  â‚¹48.1 Lac   â‚¹3,444 per sqft   \n",
              "1    â‚¹50 Lac   â‚¹3,876 per sqft   \n",
              "2    â‚¹40 Lac   â‚¹3,738 per sqft   \n",
              "3  â‚¹48.8 Lac   â‚¹3,900 per sqft   \n",
              "4    â‚¹48 Lac   â‚¹4,248 per sqft   \n",
              "5  â‚¹49.9 Lac   â‚¹3,533 per sqft   \n",
              "6  â‚¹49.1 Lac   â‚¹3,900 per sqft   \n",
              "7  â‚¹48.4 Lac   â‚¹3,444 per sqft   \n",
              "8  â‚¹45.2 Lac   â‚¹4,000 per sqft   \n",
              "9  â‚¹42.6 Lac   â‚¹3,300 per sqft   "
            ]
          },
          "execution_count": 264,
          "metadata": {},
          "output_type": "execute_result"
        }
      ],
      "source": [
        "# quick look into the data-set :)\n",
        "df.head(10)"
      ]
    },
    {
      "cell_type": "code",
      "execution_count": 265,
      "metadata": {},
      "outputs": [],
      "source": [
        "import re\n",
        "def clean_price(val):\n",
        "    if pd.isna(val):\n",
        "        return np.nan\n",
        "    val = str(val).strip()\n",
        "\n",
        "    return re.sub(r'^[^0-9A-Za-z]+','',val)\n",
        "\n",
        "\n",
        "def price_conversion(val):\n",
        "    if 'Lac' in val:\n",
        "        return float(val.replace('Lac', \"\").strip()) *1e5\n",
        "    elif \"Cr\" in val:\n",
        "        return float(val.replace('Cr', \"\").strip()) *1e7\n",
        "    elif \"Call for Price\" in val:\n",
        "        return str(val.strip())\n",
        "    else:\n",
        "        return float(val.strip())\n",
        "    \n",
        "def remove_str(val):\n",
        "    if pd.isna(val):\n",
        "        return np.nan\n",
        "    val = str(val).strip()\n",
        "    return re.sub(r'[^0-9]+','', val)\n",
        "    \n",
        "    \n",
        "\n",
        "df['price'] = df['price'].apply(clean_price)\n",
        "df['price_sqft'] = df['price_sqft'].apply(clean_price)\n",
        "df['price_sqft'] = df['price_sqft'].apply(remove_str)\n",
        "df['price'] = df['price'].apply(price_conversion)"
      ]
    },
    {
      "cell_type": "code",
      "execution_count": 266,
      "metadata": {},
      "outputs": [
        {
          "data": {
            "text/plain": [
              "array(['Super Area', 'Carpet Area', 'Transaction', 'Status', 'Built Area',\n",
              "       'Under Construction'], dtype=object)"
            ]
          },
          "execution_count": 266,
          "metadata": {},
          "output_type": "execute_result"
        }
      ],
      "source": [
        "df['type_area'].unique()"
      ]
    },
    {
      "cell_type": "code",
      "execution_count": 267,
      "metadata": {},
      "outputs": [
        {
          "data": {
            "text/plain": [
              "array(['3444', '3876', '3738', ..., '10121', '8984', '11250'],\n",
              "      shape=(2905,), dtype=object)"
            ]
          },
          "execution_count": 267,
          "metadata": {},
          "output_type": "execute_result"
        }
      ],
      "source": [
        "df['price_sqft'].unique()"
      ]
    },
    {
      "cell_type": "code",
      "execution_count": 268,
      "metadata": {},
      "outputs": [
        {
          "data": {
            "text/plain": [
              "array(['super area', 'carpet area', None, 'Built Area',\n",
              "       'under construction'], dtype=object)"
            ]
          },
          "execution_count": 268,
          "metadata": {},
          "output_type": "execute_result"
        }
      ],
      "source": [
        "df['type_area'] = df['type_area'].replace({\n",
        "    \"Super Area\": 'super area',\n",
        "    'Carpet Area': 'carpet area',\n",
        "    'Transaction': None,\n",
        "    'Status': None,\n",
        "    'Under Construction': 'under construction'\n",
        "} )\n",
        "\n",
        "df['type_area'].unique()"
      ]
    },
    {
      "cell_type": "code",
      "execution_count": 269,
      "metadata": {},
      "outputs": [
        {
          "data": {
            "text/plain": [
              "array([\"Poss. by Dec '26\", \"Poss. by Jun '27\", \"Poss. by Dec '25\",\n",
              "       \"Poss. by Jun '26\", \"Poss. by Mar '25\", \"Poss. by Jul '24\",\n",
              "       \"Poss. by Jul '26\", \"Poss. by Dec '24\", 'Ready to Move',\n",
              "       \"Poss. by May '26\", \"Poss. by Nov '24\", \"Poss. by Oct '25\",\n",
              "       \"Poss. by Jan '26\", \"Poss. by Aug '24\", \"Poss. by Oct '24\",\n",
              "       \"Poss. by Feb '28\", \"Poss. by Sep '25\", \"Poss. by Mar '26\",\n",
              "       \"Poss. by Jan '25\", \"Poss. by Nov '25\", \"Poss. by Dec '27\",\n",
              "       \"Poss. by Sep '24\", '4 out of 5', '1 out of 1', '3 out of 3',\n",
              "       '3 out of 5', '3 out of 4', \"Poss. by Jun '25\", '4 out of 10',\n",
              "       '4 out of 4', 'Bapunagar One', '2 out of 3', '3 out of 9',\n",
              "       '7 out of 8', \"Poss. by Jun '24\", '5 out of 5', '1 out of 4',\n",
              "       '1 out of 14', '13 out of 13', '2 out of 5', '9 out of 14',\n",
              "       '8 out of 14', \"Poss. by Mar '27\", \"Poss. by Jul '25\",\n",
              "       \"Poss. by May '24\", \"Poss. by Aug '25\", \"Poss. by Feb '25\",\n",
              "       \"Poss. by Apr '25\", \"Poss. by Dec '28\", \"Poss. by Apr '26\",\n",
              "       \"Poss. by Nov '26\", \"Poss. by Nov '27\", \"Poss. by Sep '26\",\n",
              "       \"Poss. by Aug '26\", \"Poss. by Jul '27\", \"Poss. by Oct '26\",\n",
              "       'New Property', 'Resale', \"Poss. by Feb '26\", \"Poss. by Mar '28\",\n",
              "       '9 out of 13', 'Const. Age New Construction', '3 out of 13',\n",
              "       '1 out of 3', '5 out of 14', '10 out of 12', '5 out of 7',\n",
              "       '2 out of 13', '1 out of 7', '3 out of 14', 'Ranna Apartment',\n",
              "       '7 out of 7', '2 out of 4', '10 out of 11', '3 out of 10',\n",
              "       '1 out of 10', '6 out of 15', '13 out of 22', '9 out of 10',\n",
              "       '1 out of 6', \"Poss. by Jan '28\", '14 out of 14', '4 out of 13',\n",
              "       '10 out of 23', '7 out of 14', '7 out of 10', '5 out of 15',\n",
              "       '3 out of 7', \"Poss. by Jan '27\", \"Poss. by Feb '29\",\n",
              "       \"Poss. by Sep '27\", \"Poss. by Jun '28\", \"Poss. by May '25\",\n",
              "       \"Poss. by Feb '27\", 'Ground out of 3', '4 out of 32',\n",
              "       '9 out of 19', '1 out of 5', '2 out of 2', '22 out of 22',\n",
              "       '5 out of 8', '8 out of 15', '13 out of 15', '8 out of 19',\n",
              "       '9 out of 17', \"Poss. by May '27\", \"Poss. by Mar '29\",\n",
              "       \"Poss. by Oct '27\", \"Poss. by May '28\", \"Poss. by Dec '29\",\n",
              "       \"Poss. by Apr '27\", '4 out of 15', \"Poss. by Jun '29\",\n",
              "       'Ground out of 7', '4 out of 7', '9 out of 31', \"Poss. by May '30\",\n",
              "       '8 out of 13', \"Poss. by May '29\", '6 out of 10',\n",
              "       \"Poss. by Jul '28\", '2 out of 8', \"Poss. by Aug '29\",\n",
              "       \"Poss. by Apr '28\", '8 out of 12', \"Poss. by Aug '27\",\n",
              "       '8 out of 20', '9 out of 12'], dtype=object)"
            ]
          },
          "execution_count": 269,
          "metadata": {},
          "output_type": "execute_result"
        }
      ],
      "source": [
        "df['status'].unique()"
      ]
    },
    {
      "cell_type": "code",
      "execution_count": 270,
      "metadata": {},
      "outputs": [],
      "source": [
        "def status_clean(val):\n",
        "    val = str(val)\n",
        "\n",
        "    if \"Poss.\" in val or \"Ready to Move\" in val or \"Under Construction\" in val:\n",
        "        return (\"possession\", val)\n",
        "    if val in [\"New Property\", \"Resale\"]:\n",
        "        return ('transaction', val)\n",
        "    if \"out of\" in val:\n",
        "        return (\"floor\", val)\n",
        "    \n",
        "    if \"Const. Age\" in val:\n",
        "        return (\"age\" , val)\n",
        "    \n",
        "    return ('project', val)\n",
        "\n",
        "df[['status_type', 'status_value']] = df['status'].apply(status_clean).apply(pd.Series)\n",
        "df.drop(['status'], axis=1 , inplace=True)"
      ]
    },
    {
      "cell_type": "code",
      "execution_count": 271,
      "metadata": {},
      "outputs": [
        {
          "data": {
            "text/plain": [
              "array(['2', '1 Covered', 'East', 'Garden/Park', 'North - East', 'North',\n",
              "       'Main Road', 'North - West', 'West', '1',\n",
              "       'Garden/Park, Pool, Main Road', 'Garden/Park, Main Road',\n",
              "       'Vandematram City', '1 Covered,', 'Garden Paradise',\n",
              "       'Parshwanath Atlantis Park', 'Shukun Heights', 'South - East',\n",
              "       'Radheshyam Residency', 'Shrifal Apartment', 'Omro Anmol Avenue',\n",
              "       'Main Road, Garden/Park, Pool', 'Silver Pearl', 'South -West',\n",
              "       'Savvy Studioz', 'Sainath Avenue', 'Shreeji Tulsi Heights',\n",
              "       'Soham Sanidhya', 'Dev Darshan Apartment', 'Ashraya 10',\n",
              "       'Freehold', 'Sarvopari Elegance',\n",
              "       'Jigish Rohitbhai Patel Jahnvi Residency Phase 2',\n",
              "       'Saanvi Aarambh', '3', 'Suryam Elegance', 'Shyam Tirth',\n",
              "       'Karnavati 3', 'Nijanand Pushkar Elegance', 'Shakti Gardenia',\n",
              "       'Siddharth Icon', 'Sun Real Homes', 'Shilp Solace',\n",
              "       'VandeMatram Prime', 'Laxmi Nivas', 'Rashmi Vihar', 'Shilp Ananta',\n",
              "       'Green City', 'Sun Rising Homes', nan,\n",
              "       'Sainath Karnavati Apartment 5', 'HR Eternia', 'Suryam Greens',\n",
              "       'Krish Elite', 'RP Suvarnam Heights', 'Samor Residency',\n",
              "       'Shrinandnagar Part 5 Vejalpur',\n",
              "       'Shankheshwar Township Block A G H And I',\n",
              "       'Mangalam Sanskrut Flat', 'Suryam Pride', 'Main Road, Garden/Park',\n",
              "       'Aavkar Height', 'Shree Ram Heights', 'Pool', 'Maitri Lake View',\n",
              "       'Pool, Garden/Park, Main Road', 'R D Sai Sharnam And Sai Platinum',\n",
              "       'Neelkanth Residency', 'Riddhi Siddhi Parivar Homes',\n",
              "       'Dharm Vatika', 'Dev Castle', 'Divya Jivan Residency', 'Maruti 7',\n",
              "       'Abjibapa Lakeview', 'Sangani Homz', 'Satyay Sarthi Height',\n",
              "       'Savaliya Krish Avenue 2', 'Sushrut Saujanya III',\n",
              "       'Applewood Estate Satyesh Residency', '4', 'Project Vastrapur',\n",
              "       'Mahavir Daksh Residency', 'Dev Exotica', 'Shiv Swati Apartment',\n",
              "       'Aryaman Awas', 'Gujrat Housing Board',\n",
              "       'Mukhyamantri Awas Yojana Ahmedabad', 'Savvy Swaraaj',\n",
              "       'Bhagwat Elegance', 'Sanskrut Apartments', 'Gokul Platinum',\n",
              "       'Swaminarayan Park III', 'Aakash Residency', 'Jay Residency',\n",
              "       'South', 'KP Residency', 'Samruddhi Residency',\n",
              "       'Garden/Park, Pool', 'Suramya Apartment', 'Sarthi Parisar',\n",
              "       'Vision Madhuvan Glory', 'Co-operative Society', 'Satatya Avenue',\n",
              "       'Polaris Anand', 'Devnandan Park', 'Shalibhadra Tower',\n",
              "       'Rajyash Reyansh', 'Godrej Vanaangan', 'Signature Vrajdham',\n",
              "       'Swati Residency 5', 'Divyapunj Shalom', 'Shrinand Flora',\n",
              "       'Shashwat Mahadev 1', 'Ghanshyam Complex', 'Vrundavan Vihar',\n",
              "       '1 Open', 'Saujanya', 'Nirman Shyamved Residency', 'KP Heights',\n",
              "       'Dhairya Paradise', 'Ganesh Green', 'Vitthal Plaza',\n",
              "       'Karnavati Nagar Sabarmati', 'Smit Tankar Residency 4',\n",
              "       'Shanti Shukra', 'Sankalp Residency', 'Dev Darshan Residency',\n",
              "       'Galaxy Vraj Residency', 'Malhar Flats', 'Diwali Homes',\n",
              "       'Ashtavinayak Aatrey Ivaan 3', 'Ashtavinayak Icon',\n",
              "       'Vinayak Residency', 'Shubhmilan Radhe Hills', 'Murlidhar Heights',\n",
              "       'Riverside Park', 'Vrindavan Godrej Garden City',\n",
              "       'Shyam Shivalay Residency', 'Shivam Hariom Elegance',\n",
              "       'Avalon courtyard', 'upvan avenue', 'Mahadev Sri Nand City 7',\n",
              "       'Tagore Apartment', 'Chehar Maruti Bliss',\n",
              "       'Veer Savarker Heights 2 Vasantnagar', 'Parishkaar',\n",
              "       'Madhuvan Residency', 'Kansas County', 'Kushal Awaas',\n",
              "       'Merlin Sparsh', 'Adani Aangan', 'Bakeri City', 'Victoria Heights',\n",
              "       'Keshavpriya Naroda Smart City 3', 'Snehadri Flats', 'Umang Narol',\n",
              "       'Sudev Homes', 'Ashraya 9', 'Shakti Apartments', 'Samor Heights',\n",
              "       '2 Covered', 'Eklingji Radhe Skyline', 'Swati Appartment 2',\n",
              "       'Veer Savarkar Heights', 'Iscon Flower', 'Devnandan Residency',\n",
              "       'Leasehold', 'Naiya Apartments', 'Girivar Pride',\n",
              "       'Shrinand City 4', 'Safal Parishkaar 2', 'Shalin Heights 5',\n",
              "       'Shashwat Mahadev 2', 'Sharnam Residency', 'Godrej Garden City',\n",
              "       'Shiv Shakti Om Villa', 'Castle Villa', 'Sai Flora',\n",
              "       'Atithi Avenue', 'Kesar Orchid', 'Shaunak Apartments',\n",
              "       'Devraj Residency', 'Lotus Aditya Elite', 'Sambhavnath Upvan',\n",
              "       'Shree Hari Nirmit Flora', 'Dwarkesh Sun Residency',\n",
              "       'Shakti Tulsi Residency', 'Gayatri Exotica',\n",
              "       'Divyajivan Smart Homes', 'Gold Coast Residency',\n",
              "       'Sakar Residency', 'Dharmadev Swaminarayan Business Park',\n",
              "       'Savvy Strata', 'Bhagwat Greens', 'Shayona Pushp',\n",
              "       'Avalon Skyline', 'Shalin Heights 1', 'Narayan Residency',\n",
              "       'Parth Indraprasth Tower', 'Aarambh', 'Dev Aashish 2',\n",
              "       'Shree Prime Hill', 'Shagun Saral 207', 'Bhagirath City Homes',\n",
              "       'Suvas Apartments', 'Shree Prayosha Residency', 'Vraj Dham II',\n",
              "       'Shayona Green', 'Turquoise Greenz', 'Kavisha Atria',\n",
              "       'Diwali Blessings', 'Serenity Sky', 'Victory Sunrise',\n",
              "       'Alpine heights', 'Suryansh Solitaire', 'Ratna Turquoise',\n",
              "       'Sun South Winds', 'Ansh Ambition', 'Samprat Residency',\n",
              "       'Pool, Garden/Park', 'Applewoods Sorrel Apartments',\n",
              "       'Rajyash Rains', 'Radhe skyline', 'Safal Parishkaar',\n",
              "       'Sun Footprints', 'Adani Atrius', 'Nirmal Kala',\n",
              "       'Bhavya Developers Simandhar Sharan', 'Seattle Sky',\n",
              "       'Swastik Elegance', 'Laxmi Sky City', 'Saujanya II',\n",
              "       'Kadamb Greens', 'Royal Homes', 'Main Road, Pool, Garden/Park',\n",
              "       'Vidhi Apartment', 'Shaligram Prime', 'Smita Tower Gurukul',\n",
              "       'Devnandan Infinity', 'Saral Dreamz', 'Venus Parkland', 'Aaryaman',\n",
              "       'Shree Prashanti Geeta Apartments', 'Shaligram Plus',\n",
              "       'Shree Shyam Hills', 'RV Nakshatra Rise', 'SHGS Elenza Greens',\n",
              "       'Swarnim Stone and Villa', 'Vishwanath Samam',\n",
              "       'Prasthan Home Town 5', 'Safal Parisar 2', 'Siddhipriya Imperial',\n",
              "       'Orchid Sky', 'Suncity Apartments', 'Marigold',\n",
              "       'Shree Sarju Greens', 'Sumangalam Apartments', 'Ratnadeep Flora',\n",
              "       'Shyam Kutir', 'Kavisha AER', 'Shree Asthalakshmi Ocean Colina',\n",
              "       'Savaliya Krish Luxuria', 'Shyam Akash Parisar',\n",
              "       'Satellite Centre', 'Siddhipriya Shree Lakshminarayan Residency',\n",
              "       'Rajyash Riverium', 'North Enclave', 'Anand Vihar',\n",
              "       'Padmavati Residency', 'Saanvi Nirman Celesta', 'Orchid Harmony',\n",
              "       'Flora Iris', 'Kavisha Urbania', 'Shukan Residency',\n",
              "       'Kavisha Amara', 'Shree Laxmikunj Residency', 'Agrawal Appartment',\n",
              "       'Shree Narayan Exotica', 'Zaveri Greens', 'Dharti Kesar Hill',\n",
              "       '4D Square', 'Shree Spandan Bunglows', 'Sanidhya Skyros',\n",
              "       'Devnandan Gunjan Flat', 'Garden residency 3', 'Shilp Revanta',\n",
              "       'Shree Vrundavan Pearl', 'Classic Avenue', 'Aarohi Elysium',\n",
              "       'Avishkar Apartment', 'Radhakrishna Jaldhara I', 'Sangath Nano',\n",
              "       'Richmond Grand', 'Sorrel Apartments', 'Kaveri Soham',\n",
              "       'Samarth Stanza', 'Binori Sampada', 'Kaveri Sangam',\n",
              "       'Sahajanand Helenium', 'Shyam Villa Greens',\n",
              "       'Shree Ami Vaibhav II Apartments', 'Shree Balaji Wind Park',\n",
              "       'Silver Brook', 'PHA Kalash', 'Regency Plaza Rahul Tower',\n",
              "       'Sun Atmosphere', 'Avalon Courtyard 2', 'Kalash 5', 'Parishkaar 2',\n",
              "       'Vedant Shreeji Enclave', 'Samanvay Skyview', 'KV Satva Shiv Sky',\n",
              "       'Shyam Saanvi', 'Raj Hills', 'Sanskar Apartment', 'Suryam Ananta',\n",
              "       'Shivalik Sharda Park View 2', 'Yash Pinnacle',\n",
              "       'Associated Sahaj Century', 'Anand Sky Lyf', 'Sky Elegante',\n",
              "       'Shivshakti Royal Glory', 'Devbhoomi Tenament', 'Krishna Heights',\n",
              "       'Swati Chrysantha', 'Orchid Greenfields', 'Navkar Kala Dham',\n",
              "       'Shrimay Opulence', 'Vibhuti Apartment', 'Kaladham',\n",
              "       'Himalaya Elanza', 'The Festival Residency 2',\n",
              "       'Shreeji Shagun Heights', 'Trident Elanzza', 'Karnavati Gokuldham',\n",
              "       'Jay Samved Exotica', 'Silver Stroke Apartment',\n",
              "       'Gini Lake Gardenz', 'Adani The Meadows', 'Ohm Ohmkar Street',\n",
              "       'Whistling Real Aura', 'Takshshila Apartment',\n",
              "       'Palm Greens Makarba', 'Alaknanda Residency', 'KONARK KARISMA',\n",
              "       'Godrej Green Glades', 'Shivanta Rigel', 'Sheladia Sarva',\n",
              "       'Pushparaj Residency', 'Nilkanth Pearl Elegance', 'Aster',\n",
              "       'Shyam Enclave', 'Aditya Icon', 'Aryaman Glory',\n",
              "       'Abhay Ratna Premium', 'Adani Aster', 'Orchid Greenfield',\n",
              "       'Kavisha Panorama', 'Sahitya Residency', 'Shypram',\n",
              "       'Serene Sparkles', 'Silver Gardenia', 'Manthan 222',\n",
              "       'Grand Riviera', 'Sheladia Luxuria', 'Binori Sonnet',\n",
              "       'Riviera Aspire', 'Jaldeep Vertex', 'Shivalik Platinum',\n",
              "       'Riviera Prestige', 'Garden/Park, Main Road, Pool',\n",
              "       'Shivam Residency', 'Aamrakunj Ayan',\n",
              "       'Aagam Residency Navrangpura', 'Riviera Springs',\n",
              "       'Orchid Whitefield', '5', 'Prabhuvan Residency',\n",
              "       'Vishwanath Sharanam 12', 'The Mango', 'Pool, Main Road',\n",
              "       'Shlok elysium', 'Kaveri Soham Vistara', 'Swaminarayan Avenue',\n",
              "       'Indraprasth 3', 'Divya Heights', 'Blossom Luxuria',\n",
              "       'Shaligram Square', 'Aditya Greens', 'Sopan Tower',\n",
              "       'Orchid Heights', 'Shilalekh Apartments', 'Galaxy Tower',\n",
              "       'Aashka Floret', 'SAFAL PARIVESH', 'Dharti Madhuvan 54',\n",
              "       'Pavitra Celestia', 'Karma Ansh Residency', 'Sharanya Altura',\n",
              "       'Binori Mable', 'Serenity Lavish', 'Sahajanand Oasis',\n",
              "       'Orchid Legacy', 'Shakti Edifice', 'Shivalik Sharda Harmony',\n",
              "       'Dharti Saket Icon', 'Aayat Avenue', 'Iscon Riverside',\n",
              "       'Satyam Skyline 2', 'SURYAKETU TOWER SURBHI CO OP HOUSING SOCIETY',\n",
              "       'Olive Greens', 'Sunflower', '42 Parkview', 'Orchid Paradise',\n",
              "       'Himalaya Zircon', 'NK Anantaya', 'Bakeri Satej', 'Sachin Towers',\n",
              "       'Shanti Towar', 'Dev Aurum', 'Nirgun Rise', 'Saral Casa',\n",
              "       'Godrej Garden City Carmel Tower', 'SKYVILLE',\n",
              "       'Shreeji Enclave Prahaladnagar', 'Iscon Platinum',\n",
              "       'AKSHAR OCEAN PEARL', 'Pinecrest Apartments', 'Panache',\n",
              "       'Goyal Intercity', 'Shukun Krushnadham', 'Casa Vyoma',\n",
              "       'Kiara Opulent', 'Vivekanand Arise', 'Sun Divine 2', 'Maple 14',\n",
              "       'Western Glory', 'Viva Savoy', 'Sukh Tower Naranpura',\n",
              "       'Belvedere Godrej Garden city', 'Nebula Tower', 'Swati Parkside',\n",
              "       'Sai Simran Residency', '6', 'Saanvi Nirman Stellar',\n",
              "       'Santerian Vista', 'Panchshil Punit Apartment', 'Sarang Lakeview',\n",
              "       '3 Covered', 'Sudarshan Gold', 'Riviera Majestica', 'Oeuvre 3',\n",
              "       'Riviera Elite', '52 Hansol', 'Zodiac Aarish', 'Gala Gardenia',\n",
              "       'Arjun Sky Life', 'Sheetal Aqua', 'Adani Shantigram Waterlily',\n",
              "       'Gala Imperia', 'visionnaire', 'Swati Symphony',\n",
              "       'Maple Tree Garden Homes', 'The Gold by Samor', 'Shivalik Edge',\n",
              "       'The Verity', 'Sankalp Grace2', 'Popular Domain', '4 Covered',\n",
              "       'Eternity by Ratnaakar', '6 Covered', 'Eminence 14', 'IKEBANA',\n",
              "       'The North', '5 Covered', 'Seventy'], dtype=object)"
            ]
          },
          "execution_count": 271,
          "metadata": {},
          "output_type": "execute_result"
        }
      ],
      "source": [
        "\n",
        "# df.sample()\n",
        "df['facing'].unique()"
      ]
    },
    {
      "cell_type": "code",
      "execution_count": 272,
      "metadata": {
        "colab": {
          "base_uri": "https://localhost:8080/"
        },
        "execution": {
          "iopub.execute_input": "2024-06-24T15:12:04.084682Z",
          "iopub.status.busy": "2024-06-24T15:12:04.084279Z",
          "iopub.status.idle": "2024-06-24T15:12:04.090886Z",
          "shell.execute_reply": "2024-06-24T15:12:04.089572Z",
          "shell.execute_reply.started": "2024-06-24T15:12:04.084651Z"
        },
        "id": "ANphdA_B0u_i",
        "outputId": "90b41d74-1cc0-4386-8079-e866ac18a56d"
      },
      "outputs": [
        {
          "name": "stdout",
          "output_type": "stream",
          "text": [
            "This data-set has 6853 rows and 11 columns\n"
          ]
        }
      ],
      "source": [
        "# it is to check the no of rows and columns in the data-set :)\n",
        "x = df.shape\n",
        "print('This data-set has', x[0] , \"rows\" , 'and' ,x[-1] , \"columns\")"
      ]
    },
    {
      "cell_type": "code",
      "execution_count": 273,
      "metadata": {
        "colab": {
          "base_uri": "https://localhost:8080/"
        },
        "execution": {
          "iopub.execute_input": "2024-06-24T15:17:50.751135Z",
          "iopub.status.busy": "2024-06-24T15:17:50.750748Z",
          "iopub.status.idle": "2024-06-24T15:17:50.757482Z",
          "shell.execute_reply": "2024-06-24T15:17:50.756331Z",
          "shell.execute_reply.started": "2024-06-24T15:17:50.751103Z"
        },
        "id": "7_TnD3qU0u_i",
        "outputId": "abfbcfab-9e06-4665-a81d-fceed5e21ddd"
      },
      "outputs": [
        {
          "name": "stdout",
          "output_type": "stream",
          "text": [
            "data type of the data present in the columns are give below\n",
            "\n",
            "Title           object\n",
            "type_area       object\n",
            "value_area      object\n",
            "floor           object\n",
            "transaction     object\n",
            "furnishing      object\n",
            "facing          object\n",
            "price           object\n",
            "price_sqft      object\n",
            "status_type     object\n",
            "status_value    object\n",
            "dtype: object\n"
          ]
        }
      ],
      "source": [
        "# we can also need to check data type so there are some couple of ways for it w'll use .dtype method for now\n",
        "print('data type of the data present in the columns are give below')\n",
        "print('')\n",
        "print(df.dtypes)"
      ]
    },
    {
      "cell_type": "code",
      "execution_count": 274,
      "metadata": {},
      "outputs": [
        {
          "data": {
            "text/plain": [
              "Title             0\n",
              "type_area         4\n",
              "value_area        0\n",
              "floor             8\n",
              "transaction      21\n",
              "furnishing       37\n",
              "facing           89\n",
              "price             0\n",
              "price_sqft      448\n",
              "status_type       0\n",
              "status_value      0\n",
              "dtype: int64"
            ]
          },
          "execution_count": 274,
          "metadata": {},
          "output_type": "execute_result"
        }
      ],
      "source": [
        "# null values per column\n",
        "df.isnull().sum()"
      ]
    },
    {
      "cell_type": "code",
      "execution_count": 275,
      "metadata": {},
      "outputs": [
        {
          "data": {
            "text/plain": [
              "np.int64(298)"
            ]
          },
          "execution_count": 275,
          "metadata": {},
          "output_type": "execute_result"
        }
      ],
      "source": [
        "df.duplicated().sum()"
      ]
    },
    {
      "cell_type": "code",
      "execution_count": 276,
      "metadata": {},
      "outputs": [
        {
          "data": {
            "text/plain": [
              "array(['super area', 'carpet area', None, 'Built Area',\n",
              "       'under construction'], dtype=object)"
            ]
          },
          "execution_count": 276,
          "metadata": {},
          "output_type": "execute_result"
        }
      ],
      "source": [
        "df['type_area'].unique()"
      ]
    },
    {
      "cell_type": "code",
      "execution_count": 277,
      "metadata": {
        "execution": {
          "iopub.execute_input": "2024-06-24T15:02:21.661122Z",
          "iopub.status.busy": "2024-06-24T15:02:21.660730Z",
          "iopub.status.idle": "2024-06-24T15:02:21.672882Z",
          "shell.execute_reply": "2024-06-24T15:02:21.671855Z",
          "shell.execute_reply.started": "2024-06-24T15:02:21.661087Z"
        },
        "id": "upkRmBNH0u_l",
        "outputId": "57da1784-037a-468b-971f-47928de3d5f3"
      },
      "outputs": [
        {
          "name": "stdout",
          "output_type": "stream",
          "text": [
            "missing values in data-set in '%'\n",
            "\n",
            "Title           0.000000\n",
            "type_area       0.058369\n",
            "value_area      0.000000\n",
            "floor           0.116737\n",
            "transaction     0.306435\n",
            "furnishing      0.539910\n",
            "facing          1.298701\n",
            "price           0.000000\n",
            "price_sqft      6.537283\n",
            "status_type     0.000000\n",
            "status_value    0.000000\n",
            "dtype: float64\n"
          ]
        }
      ],
      "source": [
        "# missing values :)\n",
        "print(\"missing values in data-set in '%'\")\n",
        "print(\"\")\n",
        "print((df.isnull().mean())*100)"
      ]
    },
    {
      "cell_type": "code",
      "execution_count": 278,
      "metadata": {},
      "outputs": [
        {
          "data": {
            "text/plain": [
              "Title           0\n",
              "type_area       0\n",
              "value_area      0\n",
              "floor           0\n",
              "transaction     0\n",
              "furnishing      0\n",
              "facing          0\n",
              "price           0\n",
              "price_sqft      0\n",
              "status_type     0\n",
              "status_value    0\n",
              "dtype: int64"
            ]
          },
          "execution_count": 278,
          "metadata": {},
          "output_type": "execute_result"
        }
      ],
      "source": [
        "df = df.dropna()\n",
        "df.isnull().sum()"
      ]
    },
    {
      "cell_type": "code",
      "execution_count": 279,
      "metadata": {},
      "outputs": [
        {
          "data": {
            "text/html": [
              "<div>\n",
              "<style scoped>\n",
              "    .dataframe tbody tr th:only-of-type {\n",
              "        vertical-align: middle;\n",
              "    }\n",
              "\n",
              "    .dataframe tbody tr th {\n",
              "        vertical-align: top;\n",
              "    }\n",
              "\n",
              "    .dataframe thead th {\n",
              "        text-align: right;\n",
              "    }\n",
              "</style>\n",
              "<table border=\"1\" class=\"dataframe\">\n",
              "  <thead>\n",
              "    <tr style=\"text-align: right;\">\n",
              "      <th></th>\n",
              "      <th>Title</th>\n",
              "      <th>type_area</th>\n",
              "      <th>value_area</th>\n",
              "      <th>floor</th>\n",
              "      <th>transaction</th>\n",
              "      <th>furnishing</th>\n",
              "      <th>facing</th>\n",
              "      <th>price</th>\n",
              "      <th>price_sqft</th>\n",
              "      <th>status_type</th>\n",
              "      <th>status_value</th>\n",
              "    </tr>\n",
              "  </thead>\n",
              "  <tbody>\n",
              "    <tr>\n",
              "      <th>0</th>\n",
              "      <td>2 BHK Apartment for Sale in Vivaan Aura, Zunda...</td>\n",
              "      <td>super area</td>\n",
              "      <td>155 sqyrd</td>\n",
              "      <td>New Property</td>\n",
              "      <td>Unfurnished</td>\n",
              "      <td>Vivaan Aura</td>\n",
              "      <td>2</td>\n",
              "      <td>4810000.0</td>\n",
              "      <td>3444</td>\n",
              "      <td>possession</td>\n",
              "      <td>Poss. by Dec '26</td>\n",
              "    </tr>\n",
              "    <tr>\n",
              "      <th>1</th>\n",
              "      <td>2 BHK Apartment for Sale in SP Epitome, Shela ...</td>\n",
              "      <td>carpet area</td>\n",
              "      <td>710 sqft</td>\n",
              "      <td>New Property</td>\n",
              "      <td>Unfurnished</td>\n",
              "      <td>SP Epitome</td>\n",
              "      <td>2</td>\n",
              "      <td>5000000.0</td>\n",
              "      <td>3876</td>\n",
              "      <td>possession</td>\n",
              "      <td>Poss. by Jun '27</td>\n",
              "    </tr>\n",
              "    <tr>\n",
              "      <th>2</th>\n",
              "      <td>2 BHK Apartment for Sale in Pacifica Amara, Sa...</td>\n",
              "      <td>carpet area</td>\n",
              "      <td>588 sqft</td>\n",
              "      <td>New Property</td>\n",
              "      <td>Unfurnished</td>\n",
              "      <td>Pacifica Amara</td>\n",
              "      <td>2</td>\n",
              "      <td>4000000.0</td>\n",
              "      <td>3738</td>\n",
              "      <td>possession</td>\n",
              "      <td>Poss. by Dec '25</td>\n",
              "    </tr>\n",
              "    <tr>\n",
              "      <th>3</th>\n",
              "      <td>2 BHK Apartment for Sale in Kavisha AER, Shela...</td>\n",
              "      <td>carpet area</td>\n",
              "      <td>687 sqft</td>\n",
              "      <td>New Property</td>\n",
              "      <td>Unfurnished</td>\n",
              "      <td>Kavisha AER</td>\n",
              "      <td>2</td>\n",
              "      <td>4880000.0</td>\n",
              "      <td>3900</td>\n",
              "      <td>possession</td>\n",
              "      <td>Poss. by Jun '26</td>\n",
              "    </tr>\n",
              "    <tr>\n",
              "      <th>4</th>\n",
              "      <td>2 BHK Apartment for Sale in Aarambh Vistara, G...</td>\n",
              "      <td>carpet area</td>\n",
              "      <td>621 sqft</td>\n",
              "      <td>New Property</td>\n",
              "      <td>Unfurnished</td>\n",
              "      <td>Aarambh Vistara</td>\n",
              "      <td>2</td>\n",
              "      <td>4800000.0</td>\n",
              "      <td>4248</td>\n",
              "      <td>possession</td>\n",
              "      <td>Poss. by Mar '25</td>\n",
              "    </tr>\n",
              "  </tbody>\n",
              "</table>\n",
              "</div>"
            ],
            "text/plain": [
              "                                               Title    type_area value_area  \\\n",
              "0  2 BHK Apartment for Sale in Vivaan Aura, Zunda...   super area  155 sqyrd   \n",
              "1  2 BHK Apartment for Sale in SP Epitome, Shela ...  carpet area   710 sqft   \n",
              "2  2 BHK Apartment for Sale in Pacifica Amara, Sa...  carpet area   588 sqft   \n",
              "3  2 BHK Apartment for Sale in Kavisha AER, Shela...  carpet area   687 sqft   \n",
              "4  2 BHK Apartment for Sale in Aarambh Vistara, G...  carpet area   621 sqft   \n",
              "\n",
              "          floor  transaction       furnishing facing      price price_sqft  \\\n",
              "0  New Property  Unfurnished      Vivaan Aura      2  4810000.0       3444   \n",
              "1  New Property  Unfurnished       SP Epitome      2  5000000.0       3876   \n",
              "2  New Property  Unfurnished   Pacifica Amara      2  4000000.0       3738   \n",
              "3  New Property  Unfurnished      Kavisha AER      2  4880000.0       3900   \n",
              "4  New Property  Unfurnished  Aarambh Vistara      2  4800000.0       4248   \n",
              "\n",
              "  status_type      status_value  \n",
              "0  possession  Poss. by Dec '26  \n",
              "1  possession  Poss. by Jun '27  \n",
              "2  possession  Poss. by Dec '25  \n",
              "3  possession  Poss. by Jun '26  \n",
              "4  possession  Poss. by Mar '25  "
            ]
          },
          "execution_count": 279,
          "metadata": {},
          "output_type": "execute_result"
        }
      ],
      "source": [
        "df.head()"
      ]
    },
    {
      "cell_type": "code",
      "execution_count": 280,
      "metadata": {
        "execution": {
          "iopub.execute_input": "2024-06-24T15:03:57.442460Z",
          "iopub.status.busy": "2024-06-24T15:03:57.442056Z",
          "iopub.status.idle": "2024-06-24T15:03:57.449631Z",
          "shell.execute_reply": "2024-06-24T15:03:57.448511Z",
          "shell.execute_reply.started": "2024-06-24T15:03:57.442428Z"
        },
        "id": "Q6WI7CTE0u_n",
        "outputId": "ab791bfe-eab6-4d59-ca4c-08ce6b678fa1"
      },
      "outputs": [
        {
          "data": {
            "text/plain": [
              "['Title',\n",
              " 'type_area',\n",
              " 'value_area',\n",
              " 'floor',\n",
              " 'transaction',\n",
              " 'furnishing',\n",
              " 'facing',\n",
              " 'price',\n",
              " 'price_sqft',\n",
              " 'status_type',\n",
              " 'status_value']"
            ]
          },
          "execution_count": 280,
          "metadata": {},
          "output_type": "execute_result"
        }
      ],
      "source": [
        "# not so important but still if you want you can try storing name of fetaures in variable for record :)\n",
        "\n",
        "columns = list(df.columns)\n",
        "columns"
      ]
    },
    {
      "cell_type": "code",
      "execution_count": 281,
      "metadata": {
        "id": "obBDdT0A0u_p"
      },
      "outputs": [
        {
          "name": "stdout",
          "output_type": "stream",
          "text": [
            "<class 'pandas.core.frame.DataFrame'>\n",
            "Index: 6334 entries, 0 to 6852\n",
            "Data columns (total 11 columns):\n",
            " #   Column        Non-Null Count  Dtype \n",
            "---  ------        --------------  ----- \n",
            " 0   Title         6334 non-null   object\n",
            " 1   type_area     6334 non-null   object\n",
            " 2   value_area    6334 non-null   object\n",
            " 3   floor         6334 non-null   object\n",
            " 4   transaction   6334 non-null   object\n",
            " 5   furnishing    6334 non-null   object\n",
            " 6   facing        6334 non-null   object\n",
            " 7   price         6334 non-null   object\n",
            " 8   price_sqft    6334 non-null   object\n",
            " 9   status_type   6334 non-null   object\n",
            " 10  status_value  6334 non-null   object\n",
            "dtypes: object(11)\n",
            "memory usage: 593.8+ KB\n"
          ]
        }
      ],
      "source": [
        "df.info()"
      ]
    },
    {
      "cell_type": "code",
      "execution_count": 282,
      "metadata": {},
      "outputs": [
        {
          "data": {
            "text/html": [
              "<div>\n",
              "<style scoped>\n",
              "    .dataframe tbody tr th:only-of-type {\n",
              "        vertical-align: middle;\n",
              "    }\n",
              "\n",
              "    .dataframe tbody tr th {\n",
              "        vertical-align: top;\n",
              "    }\n",
              "\n",
              "    .dataframe thead th {\n",
              "        text-align: right;\n",
              "    }\n",
              "</style>\n",
              "<table border=\"1\" class=\"dataframe\">\n",
              "  <thead>\n",
              "    <tr style=\"text-align: right;\">\n",
              "      <th></th>\n",
              "      <th>Title</th>\n",
              "      <th>type_area</th>\n",
              "      <th>value_area</th>\n",
              "      <th>floor</th>\n",
              "      <th>transaction</th>\n",
              "      <th>furnishing</th>\n",
              "      <th>facing</th>\n",
              "      <th>price</th>\n",
              "      <th>price_sqft</th>\n",
              "      <th>status_type</th>\n",
              "      <th>status_value</th>\n",
              "    </tr>\n",
              "  </thead>\n",
              "  <tbody>\n",
              "    <tr>\n",
              "      <th>6749</th>\n",
              "      <td>4 BHK Apartment for Sale in Iscon Ambli Road A...</td>\n",
              "      <td>carpet area</td>\n",
              "      <td>3300 sqft</td>\n",
              "      <td>2 out of 3</td>\n",
              "      <td>Resale</td>\n",
              "      <td>Furnished</td>\n",
              "      <td>East</td>\n",
              "      <td>60000000.0</td>\n",
              "      <td>12000</td>\n",
              "      <td>possession</td>\n",
              "      <td>Ready to Move</td>\n",
              "    </tr>\n",
              "  </tbody>\n",
              "</table>\n",
              "</div>"
            ],
            "text/plain": [
              "                                                  Title    type_area  \\\n",
              "6749  4 BHK Apartment for Sale in Iscon Ambli Road A...  carpet area   \n",
              "\n",
              "     value_area       floor transaction furnishing facing       price  \\\n",
              "6749  3300 sqft  2 out of 3      Resale  Furnished   East  60000000.0   \n",
              "\n",
              "     price_sqft status_type   status_value  \n",
              "6749      12000  possession  Ready to Move  "
            ]
          },
          "execution_count": 282,
          "metadata": {},
          "output_type": "execute_result"
        }
      ],
      "source": [
        "df.sample()"
      ]
    },
    {
      "cell_type": "code",
      "execution_count": 283,
      "metadata": {
        "id": "sxRd6SLz0u_q"
      },
      "outputs": [
        {
          "data": {
            "text/plain": [
              "array(['Unfurnished', 'New Property', 'Resale', 'Semi-Furnished',\n",
              "       'Furnished', 'Bhagwat Elysium', 'Other', 'Garden/Park',\n",
              "       '14 Covered', 'Samyak 49', 'The Indus', 'Super Shaligram'],\n",
              "      dtype=object)"
            ]
          },
          "execution_count": 283,
          "metadata": {},
          "output_type": "execute_result"
        }
      ],
      "source": [
        "df[\"transaction\"].unique()"
      ]
    },
    {
      "cell_type": "code",
      "execution_count": null,
      "metadata": {},
      "outputs": [],
      "source": []
    }
  ],
  "metadata": {
    "colab": {
      "include_colab_link": true,
      "provenance": []
    },
    "kaggle": {
      "accelerator": "none",
      "dataSources": [
        {
          "datasetId": 5178748,
          "sourceId": 8646510,
          "sourceType": "datasetVersion"
        }
      ],
      "dockerImageVersionId": 30732,
      "isGpuEnabled": false,
      "isInternetEnabled": true,
      "language": "python",
      "sourceType": "notebook"
    },
    "kernelspec": {
      "display_name": ".venv (3.10.12)",
      "language": "python",
      "name": "python3"
    },
    "language_info": {
      "codemirror_mode": {
        "name": "ipython",
        "version": 3
      },
      "file_extension": ".py",
      "mimetype": "text/x-python",
      "name": "python",
      "nbconvert_exporter": "python",
      "pygments_lexer": "ipython3",
      "version": "3.10.12"
    }
  },
  "nbformat": 4,
  "nbformat_minor": 0
}
