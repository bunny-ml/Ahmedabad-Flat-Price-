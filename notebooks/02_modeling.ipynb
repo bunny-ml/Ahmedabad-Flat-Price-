{
  "cells": [
    {
      "cell_type": "code",
      "execution_count": 55,
      "id": "6840df76",
      "metadata": {
        "vscode": {
          "languageId": "plaintext"
        },
        "id": "6840df76"
      },
      "outputs": [],
      "source": [
        "import pandas as pd\n",
        "import numpy as np\n",
        "from sklearn.preprocessing import StandardScaler , OneHotEncoder\n",
        "from sklearn.model_selection import train_test_split , GridSearchCV , RandomizedSearchCV\n",
        "from sklearn.compose import ColumnTransformer\n",
        "from sklearn.pipeline import Pipeline\n",
        "from sklearn.metrics import r2_score , mean_absolute_error, mean_squared_error, mean_absolute_percentage_error\n",
        "from xgboost import XGBRegressor"
      ]
    },
    {
      "cell_type": "code",
      "source": [
        "df = pd.read_csv('cleaned_data.csv')"
      ],
      "metadata": {
        "id": "P-QpA4TXVmaR"
      },
      "id": "P-QpA4TXVmaR",
      "execution_count": 56,
      "outputs": []
    },
    {
      "cell_type": "code",
      "source": [
        "X = df.drop('price', axis=1)\n",
        "Y = df['price']"
      ],
      "metadata": {
        "id": "NmC0i7SmWAZg"
      },
      "id": "NmC0i7SmWAZg",
      "execution_count": 57,
      "outputs": []
    },
    {
      "cell_type": "code",
      "source": [
        "X_train , x_test , y_train , y_test = train_test_split(X , Y , test_size=0.3, random_state= 69)"
      ],
      "metadata": {
        "id": "sdAWQmgMVvBg"
      },
      "id": "sdAWQmgMVvBg",
      "execution_count": 58,
      "outputs": []
    },
    {
      "cell_type": "code",
      "source": [
        "num_features = X.select_dtypes(include=['int', 'float64']).columns\n",
        "cat_features = X.select_dtypes(include=['object', 'category']).columns"
      ],
      "metadata": {
        "id": "Z7RS2OURWX2w"
      },
      "id": "Z7RS2OURWX2w",
      "execution_count": 59,
      "outputs": []
    },
    {
      "cell_type": "code",
      "source": [
        "preprocessor = ColumnTransformer(transformers=[\n",
        "    ('num', StandardScaler(), num_features),\n",
        "     ('cat', OneHotEncoder(handle_unknown='ignore'), cat_features)\n",
        "])"
      ],
      "metadata": {
        "id": "rZ1R5UiNXHTa"
      },
      "id": "rZ1R5UiNXHTa",
      "execution_count": 60,
      "outputs": []
    },
    {
      "cell_type": "code",
      "source": [
        "xgb = XGBRegressor(objective='reg:squarederror', random_state=42)\n",
        "\n",
        "pipeline = Pipeline(steps=[\n",
        "    ('preprocessor', preprocessor),\n",
        "    ('model', xgb)\n",
        "])\n"
      ],
      "metadata": {
        "id": "Zr-8ItbCY8qA"
      },
      "id": "Zr-8ItbCY8qA",
      "execution_count": 61,
      "outputs": []
    },
    {
      "cell_type": "code",
      "source": [
        "param_dist = {\n",
        "    'model__n_estimators': [100, 200, 300, 400, 500],\n",
        "    'model__learning_rate': [0.01, 0.05, 0.1, 0.2],\n",
        "    'model__max_depth': [3, 5, 7, 9],\n",
        "    'model__subsample': [0.6, 0.8, 1.0],\n",
        "    'model__colsample_bytree': [0.6, 0.8, 1.0]\n",
        "}\n",
        "\n",
        "random_search = RandomizedSearchCV(\n",
        "    estimator=pipeline,\n",
        "    param_distributions=param_dist,\n",
        "    n_iter=20,\n",
        "    cv=5,\n",
        "    scoring='r2',\n",
        "    n_jobs=-1,\n",
        "    verbose=2,\n",
        "    random_state=42\n",
        ")\n",
        "\n",
        "random_search.fit(X_train, y_train)\n",
        "\n",
        "print(\"Best Parameters (Randomized):\", random_search.best_params_)\n",
        "print(\"Best CV Score:\", random_search.best_score_)\n"
      ],
      "metadata": {
        "id": "e-NIDLxpYP1z",
        "outputId": "db731e81-e729-4052-f215-374d0e999914",
        "colab": {
          "base_uri": "https://localhost:8080/"
        }
      },
      "id": "e-NIDLxpYP1z",
      "execution_count": 62,
      "outputs": [
        {
          "output_type": "stream",
          "name": "stdout",
          "text": [
            "Fitting 5 folds for each of 20 candidates, totalling 100 fits\n",
            "Best Parameters (Randomized): {'model__subsample': 0.8, 'model__n_estimators': 500, 'model__max_depth': 5, 'model__learning_rate': 0.2, 'model__colsample_bytree': 0.8}\n",
            "Best CV Score: 0.9455512370302148\n"
          ]
        }
      ]
    },
    {
      "cell_type": "code",
      "source": [
        "param_grid = {\n",
        "    'model__n_estimators': [random_search.best_params_['model__n_estimators'] - 50,\n",
        "                            random_search.best_params_['model__n_estimators'],\n",
        "                            random_search.best_params_['model__n_estimators'] + 50],\n",
        "    'model__learning_rate': [0.05, 0.1, 0.15],\n",
        "    'model__max_depth': [random_search.best_params_['model__max_depth'] - 1,\n",
        "                         random_search.best_params_['model__max_depth'],\n",
        "                         random_search.best_params_['model__max_depth'] + 1]\n",
        "}\n",
        "\n",
        "grid_search = GridSearchCV(\n",
        "    estimator=pipeline,\n",
        "    param_grid=param_grid,\n",
        "    cv=5,\n",
        "    scoring='r2',\n",
        "    n_jobs=-1,\n",
        "    verbose=2\n",
        ")\n",
        "\n",
        "grid_search.fit(X_train, y_train)\n",
        "\n",
        "print(\"Best Parameters (Grid):\", grid_search.best_params_)\n",
        "print(\"Best CV Score:\", grid_search.best_score_)\n"
      ],
      "metadata": {
        "id": "hgPSmh9iY9wW",
        "outputId": "9521646c-6a8f-411f-989c-a9899703fb30",
        "colab": {
          "base_uri": "https://localhost:8080/"
        }
      },
      "id": "hgPSmh9iY9wW",
      "execution_count": 63,
      "outputs": [
        {
          "output_type": "stream",
          "name": "stdout",
          "text": [
            "Fitting 5 folds for each of 27 candidates, totalling 135 fits\n",
            "Best Parameters (Grid): {'model__learning_rate': 0.15, 'model__max_depth': 6, 'model__n_estimators': 550}\n",
            "Best CV Score: 0.9459618776477523\n"
          ]
        }
      ]
    },
    {
      "cell_type": "code",
      "source": [
        "best_model = grid_search.best_estimator_\n",
        "\n",
        "y_pred = best_model.predict(x_test)\n",
        "\n",
        "print(\"R2 Score:\", r2_score(y_test, y_pred))\n",
        "print(\"MAE:\", mean_absolute_error(y_test, y_pred))\n",
        "print(\"RMSE:\", np.sqrt(mean_squared_error(y_test, y_pred)))\n",
        "print(\"MAPE:\", mean_absolute_percentage_error(y_test, y_pred))\n"
      ],
      "metadata": {
        "id": "nxbPNlidxJaD",
        "outputId": "e1373ab2-10f7-4b36-a6a1-e7776c004722",
        "colab": {
          "base_uri": "https://localhost:8080/"
        }
      },
      "id": "nxbPNlidxJaD",
      "execution_count": 66,
      "outputs": [
        {
          "output_type": "stream",
          "name": "stdout",
          "text": [
            "R2 Score: 0.9129127422511554\n",
            "MAE: 0.15389707036119185\n",
            "RMSE: 0.2948502221731438\n",
            "MAPE: 0.009383275376785679\n"
          ]
        }
      ]
    },
    {
      "cell_type": "markdown",
      "source": [
        "# A simple note that the price and area_sqft are in np.log1p form already in the dataset as i set them after cleaning the data in notebook one."
      ],
      "metadata": {
        "id": "MDPy1RXdy6PT"
      },
      "id": "MDPy1RXdy6PT"
    }
  ],
  "metadata": {
    "language_info": {
      "name": "python"
    },
    "colab": {
      "provenance": []
    },
    "kernelspec": {
      "name": "python3",
      "display_name": "Python 3"
    }
  },
  "nbformat": 4,
  "nbformat_minor": 5
}