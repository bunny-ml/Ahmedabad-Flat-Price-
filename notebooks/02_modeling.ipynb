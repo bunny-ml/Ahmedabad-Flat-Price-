{
  "cells": [
    {
      "cell_type": "code",
      "execution_count": 2,
      "id": "6840df76",
      "metadata": {
        "id": "6840df76"
      },
      "outputs": [],
      "source": [
        "import pandas as pd\n",
        "import numpy as np\n",
        "from sklearn.preprocessing import StandardScaler , OneHotEncoder\n",
        "from sklearn.model_selection import train_test_split , GridSearchCV , RandomizedSearchCV\n",
        "from sklearn.compose import ColumnTransformer\n",
        "from sklearn.pipeline import Pipeline\n",
        "from sklearn.metrics import r2_score , mean_absolute_error, mean_squared_error, mean_absolute_percentage_error\n",
        "from xgboost import XGBRegressor"
      ]
    },
    {
      "cell_type": "code",
      "execution_count": 3,
      "id": "P-QpA4TXVmaR",
      "metadata": {
        "id": "P-QpA4TXVmaR"
      },
      "outputs": [],
      "source": [
        "df = pd.read_csv('/workspaces/Ahmedabad-Flat-Price-/dataset/cleaned_data.csv')"
      ]
    },
    {
      "cell_type": "code",
      "execution_count": 4,
      "id": "NmC0i7SmWAZg",
      "metadata": {
        "id": "NmC0i7SmWAZg"
      },
      "outputs": [],
      "source": [
        "X = df.drop('price', axis=1)\n",
        "Y = df['price']"
      ]
    },
    {
      "cell_type": "code",
      "execution_count": 5,
      "id": "sdAWQmgMVvBg",
      "metadata": {
        "id": "sdAWQmgMVvBg"
      },
      "outputs": [],
      "source": [
        "X_train , x_test , y_train , y_test = train_test_split(X , Y , test_size=0.3, random_state= 69)"
      ]
    },
    {
      "cell_type": "code",
      "execution_count": 6,
      "id": "Z7RS2OURWX2w",
      "metadata": {
        "id": "Z7RS2OURWX2w"
      },
      "outputs": [],
      "source": [
        "num_features = X.select_dtypes(include=['int', 'float64']).columns\n",
        "cat_features = X.select_dtypes(include=['object', 'category']).columns"
      ]
    },
    {
      "cell_type": "code",
      "execution_count": 7,
      "id": "rZ1R5UiNXHTa",
      "metadata": {
        "id": "rZ1R5UiNXHTa"
      },
      "outputs": [],
      "source": [
        "preprocessor = ColumnTransformer(transformers=[\n",
        "    ('num', StandardScaler(), num_features),\n",
        "     ('cat', OneHotEncoder(handle_unknown='ignore'), cat_features)\n",
        "])"
      ]
    },
    {
      "cell_type": "code",
      "execution_count": 8,
      "id": "Zr-8ItbCY8qA",
      "metadata": {
        "id": "Zr-8ItbCY8qA"
      },
      "outputs": [],
      "source": [
        "xgb = XGBRegressor(objective='reg:squarederror', random_state=42)\n",
        "\n",
        "pipeline = Pipeline(steps=[\n",
        "    ('preprocessor', preprocessor),\n",
        "    ('model', xgb)\n",
        "])\n"
      ]
    },
    {
      "cell_type": "code",
      "execution_count": 9,
      "id": "e-NIDLxpYP1z",
      "metadata": {
        "colab": {
          "base_uri": "https://localhost:8080/"
        },
        "id": "e-NIDLxpYP1z",
        "outputId": "db731e81-e729-4052-f215-374d0e999914"
      },
      "outputs": [
        {
          "name": "stdout",
          "output_type": "stream",
          "text": [
            "Fitting 5 folds for each of 20 candidates, totalling 100 fits\n"
          ]
        },
        {
          "name": "stdout",
          "output_type": "stream",
          "text": [
            "[CV] END model__colsample_bytree=0.8, model__learning_rate=0.05, model__max_depth=7, model__n_estimators=400, model__subsample=0.8; total time=   1.4s\n",
            "[CV] END model__colsample_bytree=0.8, model__learning_rate=0.05, model__max_depth=7, model__n_estimators=400, model__subsample=0.8; total time=   1.4s\n",
            "[CV] END model__colsample_bytree=0.8, model__learning_rate=0.05, model__max_depth=7, model__n_estimators=400, model__subsample=0.8; total time=   1.2s\n",
            "[CV] END model__colsample_bytree=0.8, model__learning_rate=0.05, model__max_depth=7, model__n_estimators=400, model__subsample=0.8; total time=   1.3s\n",
            "[CV] END model__colsample_bytree=0.8, model__learning_rate=0.05, model__max_depth=7, model__n_estimators=400, model__subsample=0.8; total time=   1.3s\n",
            "[CV] END model__colsample_bytree=0.8, model__learning_rate=0.01, model__max_depth=9, model__n_estimators=200, model__subsample=1.0; total time=   2.5s\n",
            "[CV] END model__colsample_bytree=0.8, model__learning_rate=0.01, model__max_depth=9, model__n_estimators=200, model__subsample=1.0; total time=   2.5s\n",
            "[CV] END model__colsample_bytree=0.8, model__learning_rate=0.01, model__max_depth=9, model__n_estimators=200, model__subsample=1.0; total time=   2.6s\n",
            "[CV] END model__colsample_bytree=0.8, model__learning_rate=0.01, model__max_depth=9, model__n_estimators=200, model__subsample=1.0; total time=   2.3s\n",
            "[CV] END model__colsample_bytree=0.8, model__learning_rate=0.01, model__max_depth=9, model__n_estimators=200, model__subsample=1.0; total time=   2.4s\n",
            "[CV] END model__colsample_bytree=0.6, model__learning_rate=0.01, model__max_depth=9, model__n_estimators=400, model__subsample=0.6; total time=   2.4s\n",
            "[CV] END model__colsample_bytree=0.6, model__learning_rate=0.01, model__max_depth=9, model__n_estimators=400, model__subsample=0.6; total time=   2.4s\n",
            "[CV] END model__colsample_bytree=0.6, model__learning_rate=0.01, model__max_depth=9, model__n_estimators=400, model__subsample=0.6; total time=   2.4s\n",
            "[CV] END model__colsample_bytree=0.6, model__learning_rate=0.01, model__max_depth=9, model__n_estimators=400, model__subsample=0.6; total time=   2.4s\n",
            "[CV] END model__colsample_bytree=0.6, model__learning_rate=0.2, model__max_depth=5, model__n_estimators=200, model__subsample=0.6; total time=   0.3s\n",
            "[CV] END model__colsample_bytree=0.6, model__learning_rate=0.2, model__max_depth=5, model__n_estimators=200, model__subsample=0.6; total time=   0.3s\n",
            "[CV] END model__colsample_bytree=0.6, model__learning_rate=0.2, model__max_depth=5, model__n_estimators=200, model__subsample=0.6; total time=   0.4s\n",
            "[CV] END model__colsample_bytree=0.6, model__learning_rate=0.01, model__max_depth=9, model__n_estimators=400, model__subsample=0.6; total time=   2.5s\n",
            "[CV] END model__colsample_bytree=0.6, model__learning_rate=0.2, model__max_depth=5, model__n_estimators=200, model__subsample=0.6; total time=   0.3s\n",
            "[CV] END model__colsample_bytree=0.6, model__learning_rate=0.2, model__max_depth=5, model__n_estimators=200, model__subsample=0.6; total time=   0.3s\n",
            "[CV] END model__colsample_bytree=0.8, model__learning_rate=0.2, model__max_depth=7, model__n_estimators=200, model__subsample=0.6; total time=   0.5s\n",
            "[CV] END model__colsample_bytree=0.8, model__learning_rate=0.2, model__max_depth=7, model__n_estimators=200, model__subsample=0.6; total time=   0.6s\n",
            "[CV] END model__colsample_bytree=0.8, model__learning_rate=0.2, model__max_depth=7, model__n_estimators=200, model__subsample=0.6; total time=   0.6s\n",
            "[CV] END model__colsample_bytree=0.8, model__learning_rate=0.2, model__max_depth=7, model__n_estimators=200, model__subsample=0.6; total time=   0.5s\n",
            "[CV] END model__colsample_bytree=0.6, model__learning_rate=0.05, model__max_depth=3, model__n_estimators=200, model__subsample=1.0; total time=   0.2s\n",
            "[CV] END model__colsample_bytree=0.6, model__learning_rate=0.05, model__max_depth=3, model__n_estimators=200, model__subsample=1.0; total time=   0.2s\n",
            "[CV] END model__colsample_bytree=0.8, model__learning_rate=0.2, model__max_depth=7, model__n_estimators=200, model__subsample=0.6; total time=   0.5s\n",
            "[CV] END model__colsample_bytree=0.6, model__learning_rate=0.05, model__max_depth=3, model__n_estimators=200, model__subsample=1.0; total time=   0.2s\n",
            "[CV] END model__colsample_bytree=0.6, model__learning_rate=0.05, model__max_depth=3, model__n_estimators=200, model__subsample=1.0; total time=   0.2s\n",
            "[CV] END model__colsample_bytree=0.6, model__learning_rate=0.05, model__max_depth=3, model__n_estimators=200, model__subsample=1.0; total time=   0.2s\n",
            "[CV] END model__colsample_bytree=0.6, model__learning_rate=0.05, model__max_depth=3, model__n_estimators=200, model__subsample=0.6; total time=   0.2s\n",
            "[CV] END model__colsample_bytree=0.6, model__learning_rate=0.05, model__max_depth=3, model__n_estimators=200, model__subsample=0.6; total time=   0.2s\n",
            "[CV] END model__colsample_bytree=0.6, model__learning_rate=0.05, model__max_depth=3, model__n_estimators=200, model__subsample=0.6; total time=   0.2s\n",
            "[CV] END model__colsample_bytree=0.6, model__learning_rate=0.05, model__max_depth=3, model__n_estimators=200, model__subsample=0.6; total time=   0.2s\n",
            "[CV] END model__colsample_bytree=0.6, model__learning_rate=0.05, model__max_depth=3, model__n_estimators=200, model__subsample=0.6; total time=   0.2s\n",
            "[CV] END model__colsample_bytree=0.6, model__learning_rate=0.1, model__max_depth=5, model__n_estimators=400, model__subsample=0.8; total time=   0.5s\n",
            "[CV] END model__colsample_bytree=0.6, model__learning_rate=0.1, model__max_depth=5, model__n_estimators=400, model__subsample=0.8; total time=   0.6s\n",
            "[CV] END model__colsample_bytree=0.6, model__learning_rate=0.1, model__max_depth=5, model__n_estimators=400, model__subsample=0.8; total time=   0.6s\n",
            "[CV] END model__colsample_bytree=0.6, model__learning_rate=0.1, model__max_depth=5, model__n_estimators=400, model__subsample=0.8; total time=   0.5s\n",
            "[CV] END model__colsample_bytree=0.6, model__learning_rate=0.1, model__max_depth=5, model__n_estimators=400, model__subsample=0.8; total time=   0.5s\n",
            "[CV] END model__colsample_bytree=0.8, model__learning_rate=0.01, model__max_depth=9, model__n_estimators=300, model__subsample=0.8; total time=   3.3s\n",
            "[CV] END model__colsample_bytree=0.8, model__learning_rate=0.01, model__max_depth=9, model__n_estimators=300, model__subsample=0.8; total time=   3.5s\n",
            "[CV] END model__colsample_bytree=0.8, model__learning_rate=0.01, model__max_depth=9, model__n_estimators=300, model__subsample=0.8; total time=   3.4s\n",
            "[CV] END model__colsample_bytree=0.8, model__learning_rate=0.01, model__max_depth=9, model__n_estimators=300, model__subsample=0.8; total time=   3.2s\n",
            "[CV] END model__colsample_bytree=0.8, model__learning_rate=0.1, model__max_depth=7, model__n_estimators=100, model__subsample=0.6; total time=   0.4s\n",
            "[CV] END model__colsample_bytree=0.8, model__learning_rate=0.1, model__max_depth=7, model__n_estimators=100, model__subsample=0.6; total time=   0.4s\n",
            "[CV] END model__colsample_bytree=0.8, model__learning_rate=0.1, model__max_depth=7, model__n_estimators=100, model__subsample=0.6; total time=   0.3s\n",
            "[CV] END model__colsample_bytree=0.8, model__learning_rate=0.1, model__max_depth=7, model__n_estimators=100, model__subsample=0.6; total time=   0.3s\n",
            "[CV] END model__colsample_bytree=0.8, model__learning_rate=0.1, model__max_depth=7, model__n_estimators=100, model__subsample=0.6; total time=   0.3s\n",
            "[CV] END model__colsample_bytree=0.8, model__learning_rate=0.01, model__max_depth=9, model__n_estimators=300, model__subsample=0.8; total time=   2.9s\n",
            "[CV] END model__colsample_bytree=1.0, model__learning_rate=0.2, model__max_depth=9, model__n_estimators=100, model__subsample=0.8; total time=   0.6s\n",
            "[CV] END model__colsample_bytree=1.0, model__learning_rate=0.2, model__max_depth=9, model__n_estimators=100, model__subsample=0.8; total time=   0.5s\n",
            "[CV] END model__colsample_bytree=1.0, model__learning_rate=0.2, model__max_depth=9, model__n_estimators=100, model__subsample=0.8; total time=   0.6s\n",
            "[CV] END model__colsample_bytree=1.0, model__learning_rate=0.2, model__max_depth=9, model__n_estimators=100, model__subsample=0.8; total time=   0.5s\n",
            "[CV] END model__colsample_bytree=1.0, model__learning_rate=0.2, model__max_depth=9, model__n_estimators=100, model__subsample=0.8; total time=   0.5s\n",
            "[CV] END model__colsample_bytree=0.8, model__learning_rate=0.2, model__max_depth=5, model__n_estimators=500, model__subsample=0.8; total time=   0.8s\n",
            "[CV] END model__colsample_bytree=0.8, model__learning_rate=0.2, model__max_depth=5, model__n_estimators=500, model__subsample=0.8; total time=   0.7s\n",
            "[CV] END model__colsample_bytree=0.8, model__learning_rate=0.2, model__max_depth=5, model__n_estimators=500, model__subsample=0.8; total time=   0.8s\n",
            "[CV] END model__colsample_bytree=0.8, model__learning_rate=0.2, model__max_depth=5, model__n_estimators=500, model__subsample=0.8; total time=   0.8s\n",
            "[CV] END model__colsample_bytree=0.8, model__learning_rate=0.2, model__max_depth=5, model__n_estimators=500, model__subsample=0.8; total time=   0.9s\n",
            "[CV] END model__colsample_bytree=0.6, model__learning_rate=0.01, model__max_depth=7, model__n_estimators=400, model__subsample=0.6; total time=   1.4s\n",
            "[CV] END model__colsample_bytree=0.6, model__learning_rate=0.01, model__max_depth=7, model__n_estimators=400, model__subsample=0.6; total time=   1.4s\n",
            "[CV] END model__colsample_bytree=0.6, model__learning_rate=0.01, model__max_depth=7, model__n_estimators=400, model__subsample=0.6; total time=   1.5s\n",
            "[CV] END model__colsample_bytree=0.6, model__learning_rate=0.01, model__max_depth=7, model__n_estimators=400, model__subsample=0.6; total time=   1.5s\n",
            "[CV] END model__colsample_bytree=0.6, model__learning_rate=0.01, model__max_depth=7, model__n_estimators=400, model__subsample=0.6; total time=   1.5s\n",
            "[CV] END model__colsample_bytree=0.6, model__learning_rate=0.05, model__max_depth=7, model__n_estimators=400, model__subsample=1.0; total time=   0.9s\n",
            "[CV] END model__colsample_bytree=0.6, model__learning_rate=0.05, model__max_depth=7, model__n_estimators=400, model__subsample=1.0; total time=   0.9s\n",
            "[CV] END model__colsample_bytree=0.6, model__learning_rate=0.05, model__max_depth=7, model__n_estimators=400, model__subsample=1.0; total time=   0.9s\n",
            "[CV] END model__colsample_bytree=0.6, model__learning_rate=0.05, model__max_depth=7, model__n_estimators=400, model__subsample=1.0; total time=   0.9s\n",
            "[CV] END model__colsample_bytree=0.6, model__learning_rate=0.05, model__max_depth=7, model__n_estimators=400, model__subsample=1.0; total time=   1.0s\n",
            "[CV] END model__colsample_bytree=0.8, model__learning_rate=0.2, model__max_depth=3, model__n_estimators=400, model__subsample=0.8; total time=   0.4s\n",
            "[CV] END model__colsample_bytree=0.8, model__learning_rate=0.2, model__max_depth=3, model__n_estimators=400, model__subsample=0.8; total time=   0.3s\n",
            "[CV] END model__colsample_bytree=0.8, model__learning_rate=0.2, model__max_depth=3, model__n_estimators=400, model__subsample=0.8; total time=   0.4s\n",
            "[CV] END model__colsample_bytree=0.8, model__learning_rate=0.2, model__max_depth=3, model__n_estimators=400, model__subsample=0.8; total time=   0.4s\n",
            "[CV] END model__colsample_bytree=0.8, model__learning_rate=0.2, model__max_depth=3, model__n_estimators=400, model__subsample=0.8; total time=   0.3s\n",
            "[CV] END model__colsample_bytree=0.8, model__learning_rate=0.05, model__max_depth=5, model__n_estimators=500, model__subsample=0.8; total time=   0.8s\n",
            "[CV] END model__colsample_bytree=0.8, model__learning_rate=0.05, model__max_depth=5, model__n_estimators=500, model__subsample=0.8; total time=   0.8s\n",
            "[CV] END model__colsample_bytree=0.8, model__learning_rate=0.05, model__max_depth=5, model__n_estimators=500, model__subsample=0.8; total time=   0.9s\n",
            "[CV] END model__colsample_bytree=0.8, model__learning_rate=0.05, model__max_depth=5, model__n_estimators=500, model__subsample=0.8; total time=   0.9s\n",
            "[CV] END model__colsample_bytree=0.6, model__learning_rate=0.05, model__max_depth=5, model__n_estimators=400, model__subsample=1.0; total time=   0.5s\n",
            "[CV] END model__colsample_bytree=0.8, model__learning_rate=0.05, model__max_depth=5, model__n_estimators=500, model__subsample=0.8; total time=   0.8s\n",
            "[CV] END model__colsample_bytree=0.6, model__learning_rate=0.05, model__max_depth=5, model__n_estimators=400, model__subsample=1.0; total time=   0.5s\n",
            "[CV] END model__colsample_bytree=0.6, model__learning_rate=0.05, model__max_depth=5, model__n_estimators=400, model__subsample=1.0; total time=   0.5s\n",
            "[CV] END model__colsample_bytree=0.6, model__learning_rate=0.05, model__max_depth=5, model__n_estimators=400, model__subsample=1.0; total time=   0.6s\n",
            "[CV] END model__colsample_bytree=0.6, model__learning_rate=0.05, model__max_depth=5, model__n_estimators=400, model__subsample=1.0; total time=   0.6s\n",
            "[CV] END model__colsample_bytree=1.0, model__learning_rate=0.1, model__max_depth=5, model__n_estimators=500, model__subsample=0.6; total time=   0.9s\n",
            "[CV] END model__colsample_bytree=1.0, model__learning_rate=0.1, model__max_depth=5, model__n_estimators=500, model__subsample=0.6; total time=   0.9s\n",
            "[CV] END model__colsample_bytree=1.0, model__learning_rate=0.1, model__max_depth=5, model__n_estimators=500, model__subsample=0.6; total time=   0.9s\n",
            "[CV] END model__colsample_bytree=1.0, model__learning_rate=0.1, model__max_depth=5, model__n_estimators=500, model__subsample=0.6; total time=   1.0s\n",
            "[CV] END model__colsample_bytree=0.8, model__learning_rate=0.01, model__max_depth=5, model__n_estimators=200, model__subsample=0.8; total time=   0.5s\n",
            "[CV] END model__colsample_bytree=1.0, model__learning_rate=0.1, model__max_depth=5, model__n_estimators=500, model__subsample=0.6; total time=   0.9s\n",
            "[CV] END model__colsample_bytree=0.8, model__learning_rate=0.01, model__max_depth=5, model__n_estimators=200, model__subsample=0.8; total time=   0.5s\n",
            "[CV] END model__colsample_bytree=0.8, model__learning_rate=0.01, model__max_depth=5, model__n_estimators=200, model__subsample=0.8; total time=   0.5s\n",
            "[CV] END model__colsample_bytree=0.8, model__learning_rate=0.01, model__max_depth=5, model__n_estimators=200, model__subsample=0.8; total time=   0.5s\n",
            "[CV] END model__colsample_bytree=0.8, model__learning_rate=0.01, model__max_depth=5, model__n_estimators=200, model__subsample=0.8; total time=   0.5s\n",
            "[CV] END model__colsample_bytree=0.6, model__learning_rate=0.2, model__max_depth=7, model__n_estimators=200, model__subsample=0.6; total time=   0.4s\n",
            "[CV] END model__colsample_bytree=0.6, model__learning_rate=0.2, model__max_depth=7, model__n_estimators=200, model__subsample=0.6; total time=   0.4s\n",
            "[CV] END model__colsample_bytree=0.6, model__learning_rate=0.2, model__max_depth=7, model__n_estimators=200, model__subsample=0.6; total time=   0.4s\n",
            "[CV] END model__colsample_bytree=0.6, model__learning_rate=0.2, model__max_depth=7, model__n_estimators=200, model__subsample=0.6; total time=   0.4s\n",
            "[CV] END model__colsample_bytree=0.6, model__learning_rate=0.2, model__max_depth=7, model__n_estimators=200, model__subsample=0.6; total time=   0.3s\n",
            "Best Parameters (Randomized): {'model__subsample': 0.8, 'model__n_estimators': 500, 'model__max_depth': 5, 'model__learning_rate': 0.2, 'model__colsample_bytree': 0.8}\n",
            "Best CV Score: 0.9461137231057627\n"
          ]
        }
      ],
      "source": [
        "param_dist = {\n",
        "    'model__n_estimators': [100, 200, 300, 400, 500],\n",
        "    'model__learning_rate': [0.01, 0.05, 0.1, 0.2],\n",
        "    'model__max_depth': [3, 5, 7, 9],\n",
        "    'model__subsample': [0.6, 0.8, 1.0],\n",
        "    'model__colsample_bytree': [0.6, 0.8, 1.0]\n",
        "}\n",
        "\n",
        "random_search = RandomizedSearchCV(\n",
        "    estimator=pipeline,\n",
        "    param_distributions=param_dist,\n",
        "    n_iter=20,\n",
        "    cv=5,\n",
        "    scoring='r2',\n",
        "    n_jobs=-1,\n",
        "    verbose=2,\n",
        "    random_state=42\n",
        ")\n",
        "\n",
        "random_search.fit(X_train, y_train)\n",
        "\n",
        "print(\"Best Parameters (Randomized):\", random_search.best_params_)\n",
        "print(\"Best CV Score:\", random_search.best_score_)\n"
      ]
    },
    {
      "cell_type": "code",
      "execution_count": 10,
      "id": "hgPSmh9iY9wW",
      "metadata": {
        "colab": {
          "base_uri": "https://localhost:8080/"
        },
        "id": "hgPSmh9iY9wW",
        "outputId": "9521646c-6a8f-411f-989c-a9899703fb30"
      },
      "outputs": [
        {
          "name": "stdout",
          "output_type": "stream",
          "text": [
            "Fitting 5 folds for each of 27 candidates, totalling 135 fits\n"
          ]
        },
        {
          "name": "stdout",
          "output_type": "stream",
          "text": [
            "[CV] END model__learning_rate=0.05, model__max_depth=4, model__n_estimators=450; total time=   0.6s\n",
            "[CV] END model__learning_rate=0.05, model__max_depth=4, model__n_estimators=450; total time=   0.7s\n",
            "[CV] END model__learning_rate=0.05, model__max_depth=4, model__n_estimators=450; total time=   0.7s\n",
            "[CV] END model__learning_rate=0.05, model__max_depth=4, model__n_estimators=450; total time=   0.7s\n",
            "[CV] END model__learning_rate=0.05, model__max_depth=4, model__n_estimators=450; total time=   0.6s\n",
            "[CV] END model__learning_rate=0.05, model__max_depth=4, model__n_estimators=500; total time=   0.6s\n",
            "[CV] END model__learning_rate=0.05, model__max_depth=4, model__n_estimators=500; total time=   0.8s\n",
            "[CV] END model__learning_rate=0.05, model__max_depth=4, model__n_estimators=500; total time=   0.8s\n",
            "[CV] END model__learning_rate=0.05, model__max_depth=4, model__n_estimators=500; total time=   0.6s\n",
            "[CV] END model__learning_rate=0.05, model__max_depth=4, model__n_estimators=500; total time=   0.7s\n",
            "[CV] END model__learning_rate=0.05, model__max_depth=4, model__n_estimators=550; total time=   0.7s\n",
            "[CV] END model__learning_rate=0.05, model__max_depth=4, model__n_estimators=550; total time=   0.7s\n",
            "[CV] END model__learning_rate=0.05, model__max_depth=4, model__n_estimators=550; total time=   0.7s\n",
            "[CV] END model__learning_rate=0.05, model__max_depth=4, model__n_estimators=550; total time=   0.8s\n",
            "[CV] END model__learning_rate=0.05, model__max_depth=4, model__n_estimators=550; total time=   0.7s\n",
            "[CV] END model__learning_rate=0.05, model__max_depth=5, model__n_estimators=450; total time=   0.8s\n",
            "[CV] END model__learning_rate=0.05, model__max_depth=5, model__n_estimators=450; total time=   0.8s\n",
            "[CV] END model__learning_rate=0.05, model__max_depth=5, model__n_estimators=450; total time=   0.8s\n",
            "[CV] END model__learning_rate=0.05, model__max_depth=5, model__n_estimators=450; total time=   1.0s\n",
            "[CV] END model__learning_rate=0.05, model__max_depth=5, model__n_estimators=450; total time=   1.0s\n",
            "[CV] END model__learning_rate=0.05, model__max_depth=5, model__n_estimators=500; total time=   0.9s\n",
            "[CV] END model__learning_rate=0.05, model__max_depth=5, model__n_estimators=500; total time=   0.8s\n",
            "[CV] END model__learning_rate=0.05, model__max_depth=5, model__n_estimators=500; total time=   0.9s\n",
            "[CV] END model__learning_rate=0.05, model__max_depth=5, model__n_estimators=500; total time=   0.9s\n",
            "[CV] END model__learning_rate=0.05, model__max_depth=5, model__n_estimators=500; total time=   0.9s\n",
            "[CV] END model__learning_rate=0.05, model__max_depth=5, model__n_estimators=550; total time=   1.0s\n",
            "[CV] END model__learning_rate=0.05, model__max_depth=5, model__n_estimators=550; total time=   0.9s\n",
            "[CV] END model__learning_rate=0.05, model__max_depth=5, model__n_estimators=550; total time=   1.0s\n",
            "[CV] END model__learning_rate=0.05, model__max_depth=5, model__n_estimators=550; total time=   1.3s\n",
            "[CV] END model__learning_rate=0.05, model__max_depth=5, model__n_estimators=550; total time=   1.2s\n",
            "[CV] END model__learning_rate=0.05, model__max_depth=6, model__n_estimators=450; total time=   1.1s\n",
            "[CV] END model__learning_rate=0.05, model__max_depth=6, model__n_estimators=450; total time=   1.1s\n",
            "[CV] END model__learning_rate=0.05, model__max_depth=6, model__n_estimators=450; total time=   1.0s\n",
            "[CV] END model__learning_rate=0.05, model__max_depth=6, model__n_estimators=450; total time=   1.1s\n",
            "[CV] END model__learning_rate=0.05, model__max_depth=6, model__n_estimators=450; total time=   1.1s\n",
            "[CV] END model__learning_rate=0.05, model__max_depth=6, model__n_estimators=500; total time=   1.1s\n",
            "[CV] END model__learning_rate=0.05, model__max_depth=6, model__n_estimators=500; total time=   1.1s\n",
            "[CV] END model__learning_rate=0.05, model__max_depth=6, model__n_estimators=500; total time=   1.1s\n",
            "[CV] END model__learning_rate=0.05, model__max_depth=6, model__n_estimators=500; total time=   1.3s\n",
            "[CV] END model__learning_rate=0.05, model__max_depth=6, model__n_estimators=500; total time=   1.4s\n",
            "[CV] END model__learning_rate=0.05, model__max_depth=6, model__n_estimators=550; total time=   1.3s\n",
            "[CV] END model__learning_rate=0.05, model__max_depth=6, model__n_estimators=550; total time=   1.2s\n",
            "[CV] END model__learning_rate=0.05, model__max_depth=6, model__n_estimators=550; total time=   1.2s\n",
            "[CV] END model__learning_rate=0.05, model__max_depth=6, model__n_estimators=550; total time=   1.3s\n",
            "[CV] END model__learning_rate=0.05, model__max_depth=6, model__n_estimators=550; total time=   1.2s\n",
            "[CV] END model__learning_rate=0.1, model__max_depth=4, model__n_estimators=450; total time=   0.5s\n",
            "[CV] END model__learning_rate=0.1, model__max_depth=4, model__n_estimators=450; total time=   0.6s\n",
            "[CV] END model__learning_rate=0.1, model__max_depth=4, model__n_estimators=450; total time=   0.6s\n",
            "[CV] END model__learning_rate=0.1, model__max_depth=4, model__n_estimators=450; total time=   0.6s\n",
            "[CV] END model__learning_rate=0.1, model__max_depth=4, model__n_estimators=450; total time=   0.6s\n",
            "[CV] END model__learning_rate=0.1, model__max_depth=4, model__n_estimators=500; total time=   0.6s\n",
            "[CV] END model__learning_rate=0.1, model__max_depth=4, model__n_estimators=500; total time=   0.7s\n",
            "[CV] END model__learning_rate=0.1, model__max_depth=4, model__n_estimators=500; total time=   0.7s\n",
            "[CV] END model__learning_rate=0.1, model__max_depth=4, model__n_estimators=500; total time=   0.7s\n",
            "[CV] END model__learning_rate=0.1, model__max_depth=4, model__n_estimators=500; total time=   0.7s\n",
            "[CV] END model__learning_rate=0.1, model__max_depth=4, model__n_estimators=550; total time=   0.7s\n",
            "[CV] END model__learning_rate=0.1, model__max_depth=4, model__n_estimators=550; total time=   0.7s\n",
            "[CV] END model__learning_rate=0.1, model__max_depth=4, model__n_estimators=550; total time=   0.7s\n",
            "[CV] END model__learning_rate=0.1, model__max_depth=4, model__n_estimators=550; total time=   0.7s\n",
            "[CV] END model__learning_rate=0.1, model__max_depth=4, model__n_estimators=550; total time=   0.7s\n",
            "[CV] END model__learning_rate=0.1, model__max_depth=5, model__n_estimators=450; total time=   0.8s\n",
            "[CV] END model__learning_rate=0.1, model__max_depth=5, model__n_estimators=450; total time=   0.7s\n",
            "[CV] END model__learning_rate=0.1, model__max_depth=5, model__n_estimators=450; total time=   0.7s\n",
            "[CV] END model__learning_rate=0.1, model__max_depth=5, model__n_estimators=450; total time=   0.8s\n",
            "[CV] END model__learning_rate=0.1, model__max_depth=5, model__n_estimators=450; total time=   0.9s\n",
            "[CV] END model__learning_rate=0.1, model__max_depth=5, model__n_estimators=500; total time=   0.9s\n",
            "[CV] END model__learning_rate=0.1, model__max_depth=5, model__n_estimators=500; total time=   0.8s\n",
            "[CV] END model__learning_rate=0.1, model__max_depth=5, model__n_estimators=500; total time=   0.9s\n",
            "[CV] END model__learning_rate=0.1, model__max_depth=5, model__n_estimators=500; total time=   0.9s\n",
            "[CV] END model__learning_rate=0.1, model__max_depth=5, model__n_estimators=500; total time=   0.9s\n",
            "[CV] END model__learning_rate=0.1, model__max_depth=5, model__n_estimators=550; total time=   0.9s\n",
            "[CV] END model__learning_rate=0.1, model__max_depth=5, model__n_estimators=550; total time=   0.9s\n",
            "[CV] END model__learning_rate=0.1, model__max_depth=5, model__n_estimators=550; total time=   0.9s\n",
            "[CV] END model__learning_rate=0.1, model__max_depth=5, model__n_estimators=550; total time=   1.0s\n",
            "[CV] END model__learning_rate=0.1, model__max_depth=5, model__n_estimators=550; total time=   0.9s\n",
            "[CV] END model__learning_rate=0.1, model__max_depth=6, model__n_estimators=450; total time=   1.0s\n",
            "[CV] END model__learning_rate=0.1, model__max_depth=6, model__n_estimators=450; total time=   0.9s\n",
            "[CV] END model__learning_rate=0.1, model__max_depth=6, model__n_estimators=450; total time=   0.9s\n",
            "[CV] END model__learning_rate=0.1, model__max_depth=6, model__n_estimators=450; total time=   1.0s\n",
            "[CV] END model__learning_rate=0.1, model__max_depth=6, model__n_estimators=450; total time=   1.0s\n",
            "[CV] END model__learning_rate=0.1, model__max_depth=6, model__n_estimators=500; total time=   1.0s\n",
            "[CV] END model__learning_rate=0.1, model__max_depth=6, model__n_estimators=500; total time=   1.1s\n",
            "[CV] END model__learning_rate=0.1, model__max_depth=6, model__n_estimators=500; total time=   1.0s\n",
            "[CV] END model__learning_rate=0.1, model__max_depth=6, model__n_estimators=500; total time=   1.0s\n",
            "[CV] END model__learning_rate=0.1, model__max_depth=6, model__n_estimators=500; total time=   1.1s\n",
            "[CV] END model__learning_rate=0.1, model__max_depth=6, model__n_estimators=550; total time=   1.2s\n",
            "[CV] END model__learning_rate=0.1, model__max_depth=6, model__n_estimators=550; total time=   1.1s\n",
            "[CV] END model__learning_rate=0.1, model__max_depth=6, model__n_estimators=550; total time=   1.1s\n",
            "[CV] END model__learning_rate=0.1, model__max_depth=6, model__n_estimators=550; total time=   1.2s\n",
            "[CV] END model__learning_rate=0.1, model__max_depth=6, model__n_estimators=550; total time=   1.2s\n",
            "[CV] END model__learning_rate=0.15, model__max_depth=4, model__n_estimators=450; total time=   0.6s\n",
            "[CV] END model__learning_rate=0.15, model__max_depth=4, model__n_estimators=450; total time=   0.6s\n",
            "[CV] END model__learning_rate=0.15, model__max_depth=4, model__n_estimators=450; total time=   0.6s\n",
            "[CV] END model__learning_rate=0.15, model__max_depth=4, model__n_estimators=450; total time=   0.6s\n",
            "[CV] END model__learning_rate=0.15, model__max_depth=4, model__n_estimators=450; total time=   0.6s\n",
            "[CV] END model__learning_rate=0.15, model__max_depth=4, model__n_estimators=500; total time=   0.6s\n",
            "[CV] END model__learning_rate=0.15, model__max_depth=4, model__n_estimators=500; total time=   0.6s\n",
            "[CV] END model__learning_rate=0.15, model__max_depth=4, model__n_estimators=500; total time=   0.7s\n",
            "[CV] END model__learning_rate=0.15, model__max_depth=4, model__n_estimators=500; total time=   0.7s\n",
            "[CV] END model__learning_rate=0.15, model__max_depth=4, model__n_estimators=500; total time=   0.6s\n",
            "[CV] END model__learning_rate=0.15, model__max_depth=4, model__n_estimators=550; total time=   0.7s\n",
            "[CV] END model__learning_rate=0.15, model__max_depth=4, model__n_estimators=550; total time=   0.7s\n",
            "[CV] END model__learning_rate=0.15, model__max_depth=4, model__n_estimators=550; total time=   0.7s\n",
            "[CV] END model__learning_rate=0.15, model__max_depth=4, model__n_estimators=550; total time=   0.7s\n",
            "[CV] END model__learning_rate=0.15, model__max_depth=4, model__n_estimators=550; total time=   0.8s\n",
            "[CV] END model__learning_rate=0.15, model__max_depth=5, model__n_estimators=450; total time=   0.8s\n",
            "[CV] END model__learning_rate=0.15, model__max_depth=5, model__n_estimators=450; total time=   0.8s\n",
            "[CV] END model__learning_rate=0.15, model__max_depth=5, model__n_estimators=450; total time=   0.7s\n",
            "[CV] END model__learning_rate=0.15, model__max_depth=5, model__n_estimators=450; total time=   0.7s\n",
            "[CV] END model__learning_rate=0.15, model__max_depth=5, model__n_estimators=450; total time=   0.7s\n",
            "[CV] END model__learning_rate=0.15, model__max_depth=5, model__n_estimators=500; total time=   0.9s\n",
            "[CV] END model__learning_rate=0.15, model__max_depth=5, model__n_estimators=500; total time=   0.9s\n",
            "[CV] END model__learning_rate=0.15, model__max_depth=5, model__n_estimators=500; total time=   0.9s\n",
            "[CV] END model__learning_rate=0.15, model__max_depth=5, model__n_estimators=500; total time=   0.8s\n",
            "[CV] END model__learning_rate=0.15, model__max_depth=5, model__n_estimators=500; total time=   0.8s\n",
            "[CV] END model__learning_rate=0.15, model__max_depth=5, model__n_estimators=550; total time=   0.9s\n",
            "[CV] END model__learning_rate=0.15, model__max_depth=5, model__n_estimators=550; total time=   0.9s\n",
            "[CV] END model__learning_rate=0.15, model__max_depth=5, model__n_estimators=550; total time=   0.9s\n",
            "[CV] END model__learning_rate=0.15, model__max_depth=5, model__n_estimators=550; total time=   1.0s\n",
            "[CV] END model__learning_rate=0.15, model__max_depth=5, model__n_estimators=550; total time=   0.9s\n",
            "[CV] END model__learning_rate=0.15, model__max_depth=6, model__n_estimators=450; total time=   0.9s\n",
            "[CV] END model__learning_rate=0.15, model__max_depth=6, model__n_estimators=450; total time=   0.9s\n",
            "[CV] END model__learning_rate=0.15, model__max_depth=6, model__n_estimators=450; total time=   0.9s\n",
            "[CV] END model__learning_rate=0.15, model__max_depth=6, model__n_estimators=450; total time=   0.9s\n",
            "[CV] END model__learning_rate=0.15, model__max_depth=6, model__n_estimators=450; total time=   0.9s\n",
            "[CV] END model__learning_rate=0.15, model__max_depth=6, model__n_estimators=500; total time=   1.1s\n",
            "[CV] END model__learning_rate=0.15, model__max_depth=6, model__n_estimators=500; total time=   1.0s\n",
            "[CV] END model__learning_rate=0.15, model__max_depth=6, model__n_estimators=500; total time=   1.0s\n",
            "[CV] END model__learning_rate=0.15, model__max_depth=6, model__n_estimators=500; total time=   1.0s\n",
            "[CV] END model__learning_rate=0.15, model__max_depth=6, model__n_estimators=500; total time=   1.0s\n",
            "[CV] END model__learning_rate=0.15, model__max_depth=6, model__n_estimators=550; total time=   1.2s\n",
            "[CV] END model__learning_rate=0.15, model__max_depth=6, model__n_estimators=550; total time=   1.1s\n",
            "[CV] END model__learning_rate=0.15, model__max_depth=6, model__n_estimators=550; total time=   1.2s\n",
            "[CV] END model__learning_rate=0.15, model__max_depth=6, model__n_estimators=550; total time=   1.2s\n",
            "[CV] END model__learning_rate=0.15, model__max_depth=6, model__n_estimators=550; total time=   0.9s\n",
            "Best Parameters (Grid): {'model__learning_rate': 0.15, 'model__max_depth': 6, 'model__n_estimators': 550}\n",
            "Best CV Score: 0.9448223064248381\n"
          ]
        }
      ],
      "source": [
        "param_grid = {\n",
        "    'model__n_estimators': [random_search.best_params_['model__n_estimators'] - 50,\n",
        "                            random_search.best_params_['model__n_estimators'],\n",
        "                            random_search.best_params_['model__n_estimators'] + 50],\n",
        "    'model__learning_rate': [0.05, 0.1, 0.15],\n",
        "    'model__max_depth': [random_search.best_params_['model__max_depth'] - 1,\n",
        "                         random_search.best_params_['model__max_depth'],\n",
        "                         random_search.best_params_['model__max_depth'] + 1]\n",
        "}\n",
        "\n",
        "grid_search = GridSearchCV(\n",
        "    estimator=pipeline,\n",
        "    param_grid=param_grid,\n",
        "    cv=5,\n",
        "    scoring='r2',\n",
        "    n_jobs=-1,\n",
        "    verbose=2\n",
        ")\n",
        "\n",
        "grid_search.fit(X_train, y_train)\n",
        "\n",
        "print(\"Best Parameters (Grid):\", grid_search.best_params_)\n",
        "print(\"Best CV Score:\", grid_search.best_score_)\n"
      ]
    },
    {
      "cell_type": "code",
      "execution_count": 11,
      "id": "nxbPNlidxJaD",
      "metadata": {
        "colab": {
          "base_uri": "https://localhost:8080/"
        },
        "id": "nxbPNlidxJaD",
        "outputId": "e1373ab2-10f7-4b36-a6a1-e7776c004722"
      },
      "outputs": [
        {
          "name": "stdout",
          "output_type": "stream",
          "text": [
            "R2 Score: 0.9120366580390529\n",
            "MAE: 0.1551508210733535\n",
            "RMSE: 0.2961413082372654\n",
            "MAPE: 0.009460337290196007\n"
          ]
        }
      ],
      "source": [
        "best_model = grid_search.best_estimator_\n",
        "\n",
        "y_pred = best_model.predict(x_test)\n",
        "\n",
        "print(\"R2 Score:\", r2_score(y_test, y_pred))\n",
        "print(\"MAE:\", mean_absolute_error(y_test, y_pred))\n",
        "print(\"RMSE:\", np.sqrt(mean_squared_error(y_test, y_pred)))\n",
        "print(\"MAPE:\", mean_absolute_percentage_error(y_test, y_pred))\n"
      ]
    },
    {
      "cell_type": "code",
      "execution_count": 12,
      "id": "Q8XUSpukztbN",
      "metadata": {
        "colab": {
          "base_uri": "https://localhost:8080/"
        },
        "id": "Q8XUSpukztbN",
        "outputId": "ad642810-a136-4bc2-9cbc-551c13660f9c"
      },
      "outputs": [
        {
          "name": "stdout",
          "output_type": "stream",
          "text": [
            "original predicted value of price column :\n",
            "[np.float32(15359181.0), np.float32(4957698.5), np.float32(5552364.5), np.float32(29460660.0), np.float32(2659768.0), np.float32(6839432.5), np.float32(28158246.0), np.float32(33838976.0), np.float32(33823170.0), np.float32(12608576.0), np.float32(4716195.5), np.float32(5043884.0), np.float32(3977670.0), np.float32(51613040.0), np.float32(38366676.0), np.float32(8480721.0), np.float32(7508803.5), np.float32(4651716.0), np.float32(26718692.0), np.float32(9185934.0), np.float32(35865096.0), np.float32(9946373.0), np.float32(10591434.0), np.float32(5042532.5), np.float32(65053388.0), np.float32(12897440.0), np.float32(43234920.0), np.float32(6178500.0), np.float32(28164100.0), np.float32(5618896.5), np.float32(2447478.8), np.float32(5135362.0), np.float32(23738544.0), np.float32(56051400.0), np.float32(43548176.0), np.float32(4928029.5), np.float32(78023280.0), np.float32(44826880.0), np.float32(4753602.5), np.float32(5068234.5), np.float32(4890612.0), np.float32(9125738.0), np.float32(12882001.0), np.float32(47915056.0), np.float32(14150539.0), np.float32(6931050.0), np.float32(5226206.0), np.float32(34229570.0), np.float32(25531844.0), np.float32(4712131.5), np.float32(32142028.0), np.float32(29610342.0), np.float32(57895004.0), np.float32(47746920.0), np.float32(8353644.5), np.float32(31113098.0), np.float32(13277288.0), np.float32(12673820.0), np.float32(29174748.0), np.float32(4794766.0), np.float32(9382058.0), np.float32(31238388.0), np.float32(56542760.0), np.float32(53361120.0), np.float32(4461799.0), np.float32(27563258.0), np.float32(40533724.0), np.float32(32424348.0), np.float32(5163910.0), np.float32(62055550.0), np.float32(47199020.0), np.float32(7702897.0), np.float32(6261730.0), np.float32(8412373.0), np.float32(23583570.0), np.float32(9368879.0), np.float32(30905734.0), np.float32(51382510.0), np.float32(26905608.0), np.float32(26829302.0), np.float32(31504176.0), np.float32(36199308.0), np.float32(18086012.0), np.float32(15565119.0), np.float32(35255090.0), np.float32(10085312.0), np.float32(2402075.2), np.float32(35797572.0), np.float32(10820332.0), np.float32(32821516.0), np.float32(10585638.0), np.float32(5752940.0), np.float32(45774704.0), np.float32(30582282.0), np.float32(12307293.0), np.float32(10238741.0), np.float32(29415574.0), np.float32(7740386.5), np.float32(13508154.0), np.float32(29502778.0), np.float32(6523257.5), np.float32(9150174.0), np.float32(31279168.0), np.float32(57895004.0), np.float32(26842200.0), np.float32(11416826.0), np.float32(1862840.4), np.float32(31440786.0), np.float32(5068244.0), np.float32(5001264.0), np.float32(4694432.0), np.float32(2670361.2), np.float32(24910544.0), np.float32(5506219.5), np.float32(8343819.5), np.float32(22012806.0), np.float32(4808517.0), np.float32(5544152.5), np.float32(6205409.0), np.float32(53020850.0), np.float32(15108000.0), np.float32(14150539.0), np.float32(63752810.0), np.float32(38235470.0), np.float32(7958509.5), np.float32(12806424.0), np.float32(4909678.5), np.float32(29413330.0), np.float32(2741485.5), np.float32(27587872.0), np.float32(2379893.2), np.float32(4984617.0), np.float32(8939557.0), np.float32(7402196.5), np.float32(5423734.0), np.float32(51895560.0), np.float32(31693908.0), np.float32(22829528.0), np.float32(4003262.8), np.float32(28944010.0), np.float32(4943667.0), np.float32(35360212.0), np.float32(65419456.0), np.float32(29415574.0), np.float32(4495284.0), np.float32(48368200.0), np.float32(37227916.0), np.float32(11108877.0), np.float32(31738976.0), np.float32(8065202.5), np.float32(21181020.0), np.float32(11995396.0), np.float32(1434137.6), np.float32(2906023.5), np.float32(2688439.8), np.float32(59889990.0), np.float32(10661603.0), np.float32(16418984.0), np.float32(26257988.0), np.float32(5100425.5), np.float32(27454804.0), np.float32(56437170.0), np.float32(50440704.0), np.float32(8099278.5), np.float32(59424380.0), np.float32(4708497.5), np.float32(5269939.0), np.float32(29087460.0), np.float32(28298232.0), np.float32(32088124.0), np.float32(59208290.0), np.float32(2514267.8), np.float32(2767225.0), np.float32(3085120.0), np.float32(10271386.0), np.float32(10243566.0), np.float32(21298016.0), np.float32(5899789.5), np.float32(5305627.0), np.float32(10752562.0), np.float32(4234042.0), np.float32(40507292.0), np.float32(26604780.0), np.float32(12777658.0), np.float32(42018290.0), np.float32(28887700.0), np.float32(54198650.0), np.float32(59391292.0), np.float32(7385506.0), np.float32(29087460.0), np.float32(49631230.0), np.float32(3531347.5), np.float32(32008108.0), np.float32(29415574.0), np.float32(9027629.0), np.float32(10678678.0), np.float32(2648822.5), np.float32(5964924.0), np.float32(13007848.0), np.float32(31738976.0), np.float32(5486573.5), np.float32(36860860.0), np.float32(5493338.0), np.float32(2999203.0), np.float32(50082930.0), np.float32(29087460.0), np.float32(2066744.6), np.float32(17945882.0), np.float32(59650020.0), np.float32(4828005.0), np.float32(55848428.0), np.float32(10924828.0), np.float32(5743265.0), np.float32(31412374.0), np.float32(19877168.0), np.float32(18449940.0), np.float32(7032817.0), np.float32(68009770.0), np.float32(40882030.0), np.float32(60386892.0), np.float32(28762182.0), np.float32(61646900.0), np.float32(27454804.0), np.float32(5269939.0), np.float32(2916732.5), np.float32(24417552.0), np.float32(6578007.5), np.float32(29538814.0), np.float32(34987536.0), np.float32(28988762.0), np.float32(5752940.0), np.float32(14624558.0), np.float32(32795484.0), np.float32(68332370.0), np.float32(12094274.0), np.float32(4990863.0), np.float32(5725781.0), np.float32(8373233.5), np.float32(24055824.0), np.float32(4913810.0), np.float32(57323736.0), np.float32(59131884.0), np.float32(55831492.0), np.float32(23583570.0), np.float32(28707594.0), np.float32(10284266.0), np.float32(5467665.0), np.float32(13123454.0), np.float32(43281616.0), np.float32(5270843.5), np.float32(3107920.8), np.float32(6280700.5), np.float32(16304484.0), np.float32(14353844.0), np.float32(29111104.0), np.float32(9467626.0), np.float32(4534985.0), np.float32(47044612.0), np.float32(6395470.0), np.float32(34760116.0), np.float32(55269200.0), np.float32(54846520.0), np.float32(6658639.0), np.float32(2005292.6), np.float32(23398166.0), np.float32(39334920.0), np.float32(68735240.0), np.float32(17249402.0), np.float32(5305627.0), np.float32(30701860.0), np.float32(5128965.0), np.float32(31994254.0), np.float32(9466596.0), np.float32(5381346.0), np.float32(42606130.0), np.float32(7686738.0), np.float32(2178068.0), np.float32(15930801.0), np.float32(38021300.0), np.float32(20078358.0), np.float32(26630622.0), np.float32(17499198.0), np.float32(4628140.0), np.float32(27495576.0), np.float32(12423899.0), np.float32(8295302.0), np.float32(42796630.0), np.float32(46880150.0), np.float32(20262290.0), np.float32(26887190.0), np.float32(54096710.0), np.float32(36999764.0), np.float32(29619944.0), np.float32(54947036.0), np.float32(1794001.2), np.float32(33735480.0), np.float32(4985002.0), np.float32(4571983.0), np.float32(8079028.5), np.float32(30009248.0), np.float32(12944339.0), np.float32(3027864.5), np.float32(59912160.0), np.float32(9317058.0), np.float32(51814852.0), np.float32(13592098.0), np.float32(2492171.5), np.float32(5058282.5), np.float32(56538450.0), np.float32(41173684.0), np.float32(52301684.0), np.float32(2420824.8), np.float32(14150539.0), np.float32(71644220.0), np.float32(1623167.2), np.float32(10534377.0), np.float32(36652080.0), np.float32(5141463.0), np.float32(2337713.5), np.float32(3042226.5), np.float32(45299264.0), np.float32(38754940.0), np.float32(7979370.5), np.float32(8295302.0), np.float32(66874716.0), np.float32(8353644.5), np.float32(12739792.0), np.float32(4938088.0), np.float32(8184698.5), np.float32(5158043.0), np.float32(67892216.0), np.float32(18485588.0), np.float32(8480721.0), np.float32(6591502.5), np.float32(13123454.0), np.float32(17186676.0), np.float32(54947036.0), np.float32(11986454.0), np.float32(7735184.0), np.float32(30313108.0), np.float32(5380607.0), np.float32(9645137.0), np.float32(46712440.0), np.float32(53259850.0), np.float32(17202484.0), np.float32(5270843.5), np.float32(6860245.0), np.float32(54846520.0), np.float32(20410462.0), np.float32(4716195.5), np.float32(26043164.0), np.float32(30446032.0), np.float32(12777658.0), np.float32(7789587.0), np.float32(5850511.5), np.float32(3656923.5), np.float32(19851100.0), np.float32(5552364.5), np.float32(28298232.0), np.float32(4720007.0), np.float32(23738544.0), np.float32(7569002.5), np.float32(54117250.0), np.float32(15987144.0), np.float32(11647289.0), np.float32(3316337.5), np.float32(32924846.0), np.float32(33340350.0), np.float32(69154990.0), np.float32(45868390.0), np.float32(30701860.0), np.float32(5205538.0), np.float32(2670361.2), np.float32(41903280.0), np.float32(6459925.5), np.float32(7712923.5), np.float32(5166880.5), np.float32(29441394.0), np.float32(4736316.5), np.float32(8495884.0), np.float32(33395530.0), np.float32(17728284.0), np.float32(11870308.0), np.float32(38111840.0), np.float32(3025774.5), np.float32(37948852.0), np.float32(67350650.0), np.float32(8298886.5), np.float32(14387641.0), np.float32(30178174.0), np.float32(6165103.5), np.float32(4913810.0), np.float32(3462566.2), np.float32(22206116.0), np.float32(7144099.0), np.float32(37837764.0), np.float32(28008320.0), np.float32(38272904.0), np.float32(13513953.0), np.float32(28231652.0), np.float32(30216304.0), np.float32(9619691.0), np.float32(4483159.5), np.float32(45461730.0), np.float32(5345878.0), np.float32(20454422.0), np.float32(2714926.2), np.float32(4410949.0), np.float32(17618964.0), np.float32(53863920.0), np.float32(23993276.0), np.float32(5618896.5), np.float32(22536802.0), np.float32(51742360.0), np.float32(28715316.0), np.float32(12034079.0), np.float32(49631230.0), np.float32(7795792.5), np.float32(27059642.0), np.float32(73561210.0), np.float32(9488795.0), np.float32(54947036.0), np.float32(37948852.0), np.float32(77404730.0), np.float32(37510096.0), np.float32(75801096.0), np.float32(29990480.0), np.float32(7789587.0), np.float32(5032866.5), np.float32(26251528.0), np.float32(15677207.0), np.float32(38599284.0), np.float32(11586666.0), np.float32(5158043.0), np.float32(10562786.0), np.float32(5269939.0), np.float32(10077582.0), np.float32(5559300.0), np.float32(29717332.0), np.float32(26625592.0), np.float32(2492171.5), np.float32(6396318.0), np.float32(16401800.0), np.float32(3032572.0), np.float32(29902746.0), np.float32(15025179.0), np.float32(20241392.0), np.float32(15290812.0), np.float32(5282297.0), np.float32(40533724.0), np.float32(4927263.5), np.float32(4982326.5), np.float32(35397932.0), np.float32(32518054.0), np.float32(4736316.5), np.float32(31061454.0), np.float32(31238388.0), np.float32(9013057.0), np.float32(5115068.0), np.float32(4937782.0), np.float32(5353081.5), np.float32(5377801.0), np.float32(11747734.0), np.float32(59912160.0), np.float32(40575650.0), np.float32(4750774.5), np.float32(5479038.5), np.float32(32476402.0), np.float32(68399520.0), np.float32(48948520.0), np.float32(8500608.0), np.float32(68487380.0), np.float32(10591434.0), np.float32(67245650.0), np.float32(32577342.0), np.float32(31915872.0), np.float32(11431447.0), np.float32(5748772.0), np.float32(5067553.0), np.float32(28783914.0), np.float32(5094028.0), np.float32(13923399.0), np.float32(35360212.0), np.float32(46297144.0), np.float32(18086012.0), np.float32(4683887.5), np.float32(29454032.0), np.float32(12372748.0), np.float32(24331264.0), np.float32(26827358.0), np.float32(21384636.0), np.float32(57112016.0), np.float32(29073204.0), np.float32(4553307.5), np.float32(9638351.0), np.float32(5205538.0), np.float32(12792508.0), np.float32(21010336.0), np.float32(3708696.0), np.float32(10678678.0), np.float32(73666660.0), np.float32(12339118.0), np.float32(47199020.0), np.float32(61647370.0), np.float32(5068234.5), np.float32(5659154.5), np.float32(5708971.0), np.float32(5093965.0), np.float32(16248510.0), np.float32(18415380.0), np.float32(10917767.0), np.float32(62299264.0), np.float32(29087460.0), np.float32(8979956.0), np.float32(24193406.0), np.float32(31964122.0), np.float32(13025078.0), np.float32(10591434.0), np.float32(5205538.0), np.float32(10861624.0), np.float32(69782910.0), np.float32(4720007.0), np.float32(32870632.0), np.float32(29683966.0), np.float32(29776340.0), np.float32(52484860.0), np.float32(23085862.0), np.float32(10554690.0), np.float32(8480721.0), np.float32(57323736.0), np.float32(1487015.2), np.float32(12339118.0), np.float32(58172172.0), np.float32(11844570.0), np.float32(12009017.0), np.float32(7692252.5), np.float32(2204835.8), np.float32(5544940.5), np.float32(24323840.0), np.float32(26905146.0), np.float32(15521953.0), np.float32(31171310.0), np.float32(24399394.0), np.float32(40684296.0), np.float32(88337620.0), np.float32(26585960.0), np.float32(3499879.0), np.float32(8136563.5), np.float32(12423899.0), np.float32(29087460.0), np.float32(31377524.0), np.float32(53716490.0), np.float32(27539032.0), np.float32(5032866.5), np.float32(5891564.0), np.float32(25433956.0), np.float32(37146490.0), np.float32(14713896.0), np.float32(2078989.1), np.float32(26836416.0), np.float32(5870906.5), np.float32(26331512.0), np.float32(57323736.0), np.float32(34051276.0), np.float32(4651716.0), np.float32(12339118.0), np.float32(3168107.0), np.float32(10983664.0), np.float32(37948852.0), np.float32(7979370.5), np.float32(39851376.0), np.float32(75801096.0), np.float32(23821956.0), np.float32(29990480.0), np.float32(7611427.5), np.float32(51779584.0), np.float32(8590613.0), np.float32(34960720.0), np.float32(11824481.0), np.float32(12110548.0), np.float32(11141959.0), np.float32(30750854.0), np.float32(8343819.5), np.float32(12118174.0), np.float32(5696435.0), np.float32(10641916.0), np.float32(2714926.2), np.float32(12657442.0), np.float32(5124882.5), np.float32(41452396.0), np.float32(4745630.5), np.float32(7735184.0), np.float32(2018687.6), np.float32(8750538.0), np.float32(54676476.0), np.float32(8437111.0), np.float32(17219390.0), np.float32(5120539.5), np.float32(29313470.0), np.float32(36842444.0), np.float32(69827910.0), np.float32(2929438.8), np.float32(5673215.0), np.float32(50774880.0), np.float32(27557476.0), np.float32(8421492.0), np.float32(4725713.5), np.float32(31091624.0), np.float32(10253222.0), np.float32(6184807.5), np.float32(5269939.0), np.float32(41704024.0), np.float32(36426344.0), np.float32(12673820.0), np.float32(67938720.0), np.float32(7643207.5), np.float32(5128045.5), np.float32(28228206.0), np.float32(10130927.0), np.float32(12915682.0), np.float32(44232860.0), np.float32(33372162.0), np.float32(5752940.0), np.float32(2629425.0), np.float32(32088124.0), np.float32(24078776.0), np.float32(32088124.0), np.float32(11083205.0), np.float32(8343819.5), np.float32(30921300.0), np.float32(4788880.0), np.float32(5282297.0), np.float32(8343819.5), np.float32(10078562.0), np.float32(11355042.0), np.float32(8500608.0), np.float32(4984617.0), np.float32(9356164.0), np.float32(82019490.0), np.float32(4391368.5), np.float32(28417876.0), np.float32(47199020.0), np.float32(22659602.0), np.float32(4938088.0), np.float32(5305627.0), np.float32(3628485.8), np.float32(35906572.0), np.float32(27881570.0), np.float32(30178174.0), np.float32(33218352.0), np.float32(8223458.5), np.float32(8233943.0), np.float32(28699382.0), np.float32(8566945.0), np.float32(7262383.0), np.float32(38649230.0), np.float32(4011758.8), np.float32(2732962.5), np.float32(4950871.5), np.float32(8075030.5), np.float32(24024096.0), np.float32(67497380.0), np.float32(26584844.0), np.float32(58996250.0), np.float32(11172688.0), np.float32(15987144.0), np.float32(31255670.0), np.float32(50952220.0), np.float32(5205538.0), np.float32(40392720.0), np.float32(16054247.0), np.float32(21799050.0), np.float32(4913810.0), np.float32(28417876.0), np.float32(9873413.0), np.float32(2883373.0), np.float32(11807668.0), np.float32(29087460.0), np.float32(37801410.0), np.float32(5338582.5), np.float32(4783936.5), np.float32(9684845.0), np.float32(2907553.8), np.float32(33788540.0), np.float32(55379050.0), np.float32(35174490.0), np.float32(26257988.0), np.float32(8240219.5), np.float32(7788019.5), np.float32(5023075.0), np.float32(26220302.0), np.float32(11807150.0), np.float32(2271282.5), np.float32(47752930.0), np.float32(7300506.0), np.float32(18522682.0), np.float32(6306792.0), np.float32(2385699.2), np.float32(12380279.0), np.float32(4209699.5), np.float32(11184202.0), np.float32(17419874.0), np.float32(1414129.5), np.float32(8368332.0), np.float32(37360150.0), np.float32(45536624.0), np.float32(5899789.5), np.float32(5120539.5), np.float32(52378852.0), np.float32(33537620.0), np.float32(24078776.0), np.float32(13238018.0), np.float32(32068116.0), np.float32(75801096.0), np.float32(5141752.5), np.float32(7979370.5), np.float32(14424901.0), np.float32(8981532.0), np.float32(30670488.0), np.float32(37246452.0), np.float32(12339118.0), np.float32(19265978.0), np.float32(10752562.0), np.float32(11924179.0), np.float32(44204270.0), np.float32(6500230.5), np.float32(64729356.0), np.float32(37441760.0), np.float32(76065850.0), np.float32(11719445.0), np.float32(36207456.0), np.float32(3052348.5), np.float32(6225141.0), np.float32(41903280.0), np.float32(10752562.0), np.float32(31140408.0), np.float32(5693469.5), np.float32(2654507.2), np.float32(43281616.0), np.float32(10664878.0), np.float32(14353844.0), np.float32(3989306.2), np.float32(33714124.0), np.float32(6205409.0), np.float32(37207684.0), np.float32(13123454.0), np.float32(11422533.0), np.float32(69512710.0), np.float32(37146490.0), np.float32(2646396.0), np.float32(57323736.0), np.float32(5233133.5), np.float32(5253765.5), np.float32(62969220.0), np.float32(11456768.0), np.float32(58168956.0), np.float32(27414616.0), np.float32(35382340.0), np.float32(12497886.0), np.float32(29683966.0), np.float32(44761350.0), np.float32(32159504.0), np.float32(10253007.0), np.float32(4548099.5), np.float32(27332436.0), np.float32(4032583.5), np.float32(4913810.0), np.float32(79292490.0), np.float32(17173274.0), np.float32(32005728.0), np.float32(14630668.0), np.float32(48084610.0), np.float32(28300446.0), np.float32(31142428.0), np.float32(7695194.5), np.float32(5213213.5), np.float32(8486409.0), np.float32(7893270.5), np.float32(12339118.0), np.float32(4982255.0), np.float32(4598785.0), np.float32(8343819.5), np.float32(72850360.0), np.float32(12224917.0), np.float32(35467340.0), np.float32(33918716.0), np.float32(8637834.0), np.float32(7742394.5), np.float32(20857890.0), np.float32(20306590.0), np.float32(29087460.0), np.float32(57895004.0), np.float32(67366830.0), np.float32(2402075.2), np.float32(28144070.0), np.float32(20338996.0), np.float32(8922727.0), np.float32(74151730.0), np.float32(8088896.5), np.float32(5000310.0), np.float32(4568561.5), np.float32(8028474.5), np.float32(12245734.0), np.float32(30109180.0), np.float32(56057280.0), np.float32(7914383.5), np.float32(3373558.2), np.float32(17192152.0), np.float32(7032817.0), np.float32(14364444.0), np.float32(30643124.0), np.float32(36317496.0), np.float32(29714498.0), np.float32(34304336.0), np.float32(15881410.0), np.float32(68557170.0), np.float32(5752940.0), np.float32(7827648.0), np.float32(65101796.0), np.float32(3439465.8), np.float32(26543602.0), np.float32(68150020.0), np.float32(2430948.8), np.float32(29462010.0), np.float32(51371436.0), np.float32(3708696.0), np.float32(57323736.0), np.float32(3003035.2), np.float32(5707729.5), np.float32(35912052.0), np.float32(29111658.0), np.float32(5635231.5), np.float32(69998860.0), np.float32(36711548.0), np.float32(8242789.5), np.float32(24323840.0), np.float32(9973748.0), np.float32(53507476.0), np.float32(6842518.0), np.float32(33553872.0), np.float32(5295052.0), np.float32(9771925.0), np.float32(26712016.0), np.float32(10922578.0), np.float32(5235394.5), np.float32(57442492.0), np.float32(26759084.0), np.float32(11550192.0), np.float32(4026784.2), np.float32(12204624.0), np.float32(69782910.0), np.float32(10752562.0), np.float32(9100586.0), np.float32(9111911.0), np.float32(71992700.0), np.float32(55269200.0), np.float32(9697229.0), np.float32(15969773.0), np.float32(8300097.5), np.float32(8135803.0), np.float32(47915056.0), np.float32(5353081.5), np.float32(67756260.0), np.float32(57174470.0), np.float32(26326440.0), np.float32(6805878.0), np.float32(35270356.0), np.float32(32473428.0), np.float32(30871210.0), np.float32(36757932.0), np.float32(8295302.0), np.float32(10820332.0), np.float32(27454804.0), np.float32(28725832.0), np.float32(25362598.0), np.float32(10698861.0), np.float32(4623437.0), np.float32(30405294.0), np.float32(51045504.0), np.float32(2641192.0), np.float32(27539032.0), np.float32(11431447.0), np.float32(7611442.0), np.float32(11465118.0), np.float32(2452783.0), np.float32(5858110.0), np.float32(8389635.0), np.float32(4984560.0), np.float32(40986656.0), np.float32(7358459.5), np.float32(5479038.5), np.float32(23993276.0), np.float32(5948104.0), np.float32(19337916.0), np.float32(29202196.0), np.float32(10340520.0), np.float32(49368670.0), np.float32(5752940.0), np.float32(37456332.0), np.float32(31682604.0), np.float32(43702360.0), np.float32(27414616.0), np.float32(44140996.0), np.float32(5806461.0), np.float32(21241908.0), np.float32(5269939.0), np.float32(59650020.0), np.float32(22757532.0), np.float32(2888103.8), np.float32(30701860.0), np.float32(7289646.0), np.float32(51717990.0), np.float32(3330165.0), np.float32(4808517.0), np.float32(7125605.0), np.float32(54703180.0), np.float32(19265978.0), np.float32(4760620.5), np.float32(40533724.0), np.float32(14424901.0), np.float32(33294468.0), np.float32(12739792.0), np.float32(5046935.0), np.float32(63995130.0), np.float32(24639400.0), np.float32(5657017.5), np.float32(48409456.0), np.float32(69782910.0), np.float32(23125392.0), np.float32(5305627.0), np.float32(57457940.0), np.float32(18626806.0), np.float32(28683292.0), np.float32(4232512.0), np.float32(57895004.0), np.float32(13226862.0), np.float32(28939372.0), np.float32(12339118.0), np.float32(31824144.0), np.float32(25060660.0), np.float32(4014851.2), np.float32(30178174.0), np.float32(7966976.5), np.float32(12520744.0), np.float32(36472020.0), np.float32(12423899.0), np.float32(41444490.0), np.float32(29496590.0), np.float32(16150101.0), np.float32(31738976.0), np.float32(8520233.0), np.float32(53863920.0), np.float32(7735184.0), np.float32(4862146.5), np.float32(29087460.0), np.float32(4152168.2), np.float32(28723588.0), np.float32(30670548.0), np.float32(16304453.0), np.float32(13651362.0), np.float32(4946100.0), np.float32(3605588.2), np.float32(21266436.0), np.float32(26463528.0), np.float32(12306026.0), np.float32(33747064.0), np.float32(24254256.0), np.float32(36903560.0), np.float32(35681550.0), np.float32(33735480.0), np.float32(4915797.0), np.float32(40533724.0), np.float32(14460740.0), np.float32(12339118.0), np.float32(4913810.0), np.float32(40162330.0), np.float32(19920360.0), np.float32(8295302.0), np.float32(53033692.0), np.float32(9064726.0), np.float32(2641192.0), np.float32(12394077.0), np.float32(11078682.0), np.float32(11666833.0), np.float32(4927263.5), np.float32(45165624.0), np.float32(32111634.0), np.float32(31306922.0), np.float32(15463326.0), np.float32(4791529.5), np.float32(36912428.0), np.float32(6547359.0), np.float32(4925332.5), np.float32(5233133.5), np.float32(5485469.5), np.float32(3737466.2), np.float32(10077582.0), np.float32(35759424.0), np.float32(33752148.0), np.float32(7931785.0), np.float32(47107736.0), np.float32(29034968.0), np.float32(28915042.0), np.float32(7789587.0), np.float32(9697229.0), np.float32(8750538.0), np.float32(52218452.0), np.float32(41903280.0), np.float32(23286194.0), np.float32(8136563.5), np.float32(8507113.0), np.float32(2472018.0), np.float32(6924694.5), np.float32(29087460.0), np.float32(5075427.0), np.float32(31140408.0), np.float32(5947434.5), np.float32(41452396.0), np.float32(2629425.0), np.float32(4984617.0), np.float32(69168184.0), np.float32(5752940.0), np.float32(7531416.0), np.float32(46440332.0), np.float32(6577863.0), np.float32(30939648.0), np.float32(6858210.5), np.float32(32323206.0), np.float32(21391776.0), np.float32(6601832.5), np.float32(70828990.0), np.float32(4828005.0), np.float32(15104571.0), np.float32(11354046.0), np.float32(50949790.0), np.float32(31440786.0), np.float32(55097110.0), np.float32(12115331.0), np.float32(11618002.0), np.float32(59391292.0), np.float32(30822260.0), np.float32(11223051.0), np.float32(20274700.0), np.float32(41104320.0), np.float32(7499843.5), np.float32(5987077.0), np.float32(5743265.0), np.float32(48474130.0), np.float32(62055550.0), np.float32(36129156.0), np.float32(30850314.0), np.float32(32476402.0), np.float32(26950136.0), np.float32(64291812.0), np.float32(3987640.2), np.float32(57323736.0), np.float32(3138312.5), np.float32(22943066.0), np.float32(13385201.0), np.float32(5752940.0), np.float32(5169364.5), np.float32(54947036.0), np.float32(5100688.0), np.float32(7402803.5), np.float32(31135420.0), np.float32(2787567.0), np.float32(32467360.0), np.float32(3190197.0), np.float32(19337916.0), np.float32(32173186.0), np.float32(30939648.0), np.float32(40533724.0), np.float32(46158804.0), np.float32(10752562.0), np.float32(49102812.0), np.float32(7962252.0), np.float32(20078358.0), np.float32(19743334.0), np.float32(43093476.0), np.float32(4141411.5), np.float32(9022190.0), np.float32(27599294.0), np.float32(59012564.0), np.float32(68446110.0), np.float32(24213348.0), np.float32(9570206.0), np.float32(55474410.0), np.float32(9555960.0), np.float32(4681592.0), np.float32(54846520.0), np.float32(15544677.0), np.float32(4836166.0), np.float32(8233943.0), np.float32(10562424.0), np.float32(27183122.0), np.float32(15191798.0), np.float32(29421240.0), np.float32(31298444.0), np.float32(2058178.8), np.float32(26463528.0), np.float32(55848428.0), np.float32(32906074.0), np.float32(102811540.0), np.float32(37146490.0), np.float32(51743052.0), np.float32(9325236.0), np.float32(7662658.0), np.float32(32433504.0), np.float32(4574643.5), np.float32(27527480.0), np.float32(40477250.0), np.float32(46104690.0), np.float32(3049101.8), np.float32(16500641.0), np.float32(32809436.0), np.float32(8417517.0), np.float32(5414163.0), np.float32(2208333.0), np.float32(53033692.0), np.float32(59391292.0), np.float32(26107022.0), np.float32(10071087.0), np.float32(64729356.0), np.float32(47557776.0), np.float32(26608434.0), np.float32(18486716.0), np.float32(59650020.0), np.float32(24404514.0), np.float32(4796316.5), np.float32(18486716.0), np.float32(20113046.0), np.float32(81020030.0), np.float32(8813536.0), np.float32(5305627.0), np.float32(5288572.5), np.float32(16150101.0), np.float32(3326575.0), np.float32(40475470.0), np.float32(3688590.2), np.float32(6010355.0), np.float32(16551011.0), np.float32(15665550.0), np.float32(35759424.0), np.float32(5282297.0), np.float32(4894032.0), np.float32(15931439.0), np.float32(13007848.0), np.float32(27607454.0), np.float32(33735480.0), np.float32(6071352.0), np.float32(16072201.0), np.float32(5414163.0), np.float32(9946373.0), np.float32(13413621.0), np.float32(22148376.0), np.float32(41161750.0), np.float32(5233373.0), np.float32(10591434.0), np.float32(34357376.0), np.float32(16345616.0), np.float32(27809816.0), np.float32(7613932.5), np.float32(19421714.0), np.float32(2941849.5), np.float32(4960413.0), np.float32(4808517.0), np.float32(11666833.0), np.float32(72597910.0), np.float32(60113850.0), np.float32(20070776.0), np.float32(44016400.0), np.float32(36997504.0), np.float32(12152522.0), np.float32(3446453.0), np.float32(11844322.0), np.float32(31738976.0), np.float32(5241989.5), np.float32(7499843.5), np.float32(16128737.0), np.float32(30178174.0), np.float32(30787828.0), np.float32(57895004.0), np.float32(31093166.0), np.float32(20851446.0), np.float32(35743400.0), np.float32(14150539.0), np.float32(49641080.0), np.float32(4615071.5), np.float32(5084418.5), np.float32(11618800.0), np.float32(27414616.0), np.float32(4393538.5), np.float32(11736468.0), np.float32(11184927.0), np.float32(7789587.0), np.float32(34904020.0), np.float32(28699382.0), np.float32(56314050.0), np.float32(27239124.0), np.float32(32491520.0), np.float32(103483390.0), np.float32(5959244.0), np.float32(12729687.0), np.float32(42759016.0), np.float32(15624549.0), np.float32(16304484.0), np.float32(5947434.5), np.float32(76783320.0), np.float32(8329699.0), np.float32(78116500.0), np.float32(8543969.0), np.float32(28298232.0), np.float32(25984020.0), np.float32(31263242.0), np.float32(28417876.0), np.float32(31322810.0), np.float32(65101796.0), np.float32(35645364.0), np.float32(47044612.0), np.float32(26585960.0), np.float32(42840896.0), np.float32(8636524.0), np.float32(10165148.0), np.float32(30963676.0), np.float32(5309215.5), np.float32(18785684.0), np.float32(16500704.0), np.float32(9869685.0), np.float32(60649840.0), np.float32(4978104.0), np.float32(19029216.0), np.float32(34304336.0), np.float32(26759084.0), np.float32(12027906.0), np.float32(45536624.0), np.float32(76783320.0), np.float32(8002286.0), np.float32(41903280.0), np.float32(29600628.0), np.float32(16400799.0), np.float32(34197984.0), np.float32(9893734.0), np.float32(37793476.0), np.float32(29768446.0), np.float32(65793356.0), np.float32(10041414.0), np.float32(48970376.0), np.float32(3330165.0), np.float32(8298514.5), np.float32(28887700.0), np.float32(6657439.0), np.float32(38366676.0), np.float32(27454804.0), np.float32(2524366.0), np.float32(10026812.0), np.float32(44439790.0)]\n"
          ]
        }
      ],
      "source": [
        "#  original predicted value in INR\n",
        "\n",
        "print(\"original predicted value of price column :\")\n",
        "print(list(np.expm1(y_pred)))"
      ]
    },
    {
      "cell_type": "markdown",
      "id": "MDPy1RXdy6PT",
      "metadata": {
        "id": "MDPy1RXdy6PT"
      },
      "source": [
        "# A simple note that the price and area_sqft column are in np.log1p form already in the dataset as i set them after cleaning the data in notebook one."
      ]
    },
    {
      "cell_type": "code",
      "execution_count": 13,
      "id": "3d284e5b",
      "metadata": {},
      "outputs": [
        {
          "data": {
            "text/plain": [
              "['xgboost_pipeline_model.pkl']"
            ]
          },
          "execution_count": 13,
          "metadata": {},
          "output_type": "execute_result"
        }
      ],
      "source": [
        "import joblib\n",
        "\n",
        "joblib.dump(best_model, 'xgboost_pipeline_model.pkl')\n"
      ]
    }
  ],
  "metadata": {
    "colab": {
      "provenance": []
    },
    "kernelspec": {
      "display_name": "Python 3",
      "name": "python3"
    },
    "language_info": {
      "codemirror_mode": {
        "name": "ipython",
        "version": 3
      },
      "file_extension": ".py",
      "mimetype": "text/x-python",
      "name": "python",
      "nbconvert_exporter": "python",
      "pygments_lexer": "ipython3",
      "version": "3.12.1"
    }
  },
  "nbformat": 4,
  "nbformat_minor": 5
}
