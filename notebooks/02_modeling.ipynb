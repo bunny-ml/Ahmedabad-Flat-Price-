{
  "cells": [
    {
      "cell_type": "code",
      "execution_count": 55,
      "id": "6840df76",
      "metadata": {
        "vscode": {
          "languageId": "plaintext"
        },
        "id": "6840df76"
      },
      "outputs": [],
      "source": [
        "import pandas as pd\n",
        "import numpy as np\n",
        "from sklearn.preprocessing import StandardScaler , OneHotEncoder\n",
        "from sklearn.model_selection import train_test_split , GridSearchCV , RandomizedSearchCV\n",
        "from sklearn.compose import ColumnTransformer\n",
        "from sklearn.pipeline import Pipeline\n",
        "from sklearn.metrics import r2_score , mean_absolute_error, mean_squared_error, mean_absolute_percentage_error\n",
        "from xgboost import XGBRegressor"
      ]
    },
    {
      "cell_type": "code",
      "source": [
        "df = pd.read_csv('cleaned_data.csv')"
      ],
      "metadata": {
        "id": "P-QpA4TXVmaR"
      },
      "id": "P-QpA4TXVmaR",
      "execution_count": 56,
      "outputs": []
    },
    {
      "cell_type": "code",
      "source": [
        "X = df.drop('price', axis=1)\n",
        "Y = df['price']"
      ],
      "metadata": {
        "id": "NmC0i7SmWAZg"
      },
      "id": "NmC0i7SmWAZg",
      "execution_count": 57,
      "outputs": []
    },
    {
      "cell_type": "code",
      "source": [
        "X_train , x_test , y_train , y_test = train_test_split(X , Y , test_size=0.3, random_state= 69)"
      ],
      "metadata": {
        "id": "sdAWQmgMVvBg"
      },
      "id": "sdAWQmgMVvBg",
      "execution_count": 58,
      "outputs": []
    },
    {
      "cell_type": "code",
      "source": [
        "num_features = X.select_dtypes(include=['int', 'float64']).columns\n",
        "cat_features = X.select_dtypes(include=['object', 'category']).columns"
      ],
      "metadata": {
        "id": "Z7RS2OURWX2w"
      },
      "id": "Z7RS2OURWX2w",
      "execution_count": 59,
      "outputs": []
    },
    {
      "cell_type": "code",
      "source": [
        "preprocessor = ColumnTransformer(transformers=[\n",
        "    ('num', StandardScaler(), num_features),\n",
        "     ('cat', OneHotEncoder(handle_unknown='ignore'), cat_features)\n",
        "])"
      ],
      "metadata": {
        "id": "rZ1R5UiNXHTa"
      },
      "id": "rZ1R5UiNXHTa",
      "execution_count": 60,
      "outputs": []
    },
    {
      "cell_type": "code",
      "source": [
        "xgb = XGBRegressor(objective='reg:squarederror', random_state=42)\n",
        "\n",
        "pipeline = Pipeline(steps=[\n",
        "    ('preprocessor', preprocessor),\n",
        "    ('model', xgb)\n",
        "])\n"
      ],
      "metadata": {
        "id": "Zr-8ItbCY8qA"
      },
      "id": "Zr-8ItbCY8qA",
      "execution_count": 61,
      "outputs": []
    },
    {
      "cell_type": "code",
      "source": [
        "param_dist = {\n",
        "    'model__n_estimators': [100, 200, 300, 400, 500],\n",
        "    'model__learning_rate': [0.01, 0.05, 0.1, 0.2],\n",
        "    'model__max_depth': [3, 5, 7, 9],\n",
        "    'model__subsample': [0.6, 0.8, 1.0],\n",
        "    'model__colsample_bytree': [0.6, 0.8, 1.0]\n",
        "}\n",
        "\n",
        "random_search = RandomizedSearchCV(\n",
        "    estimator=pipeline,\n",
        "    param_distributions=param_dist,\n",
        "    n_iter=20,\n",
        "    cv=5,\n",
        "    scoring='r2',\n",
        "    n_jobs=-1,\n",
        "    verbose=2,\n",
        "    random_state=42\n",
        ")\n",
        "\n",
        "random_search.fit(X_train, y_train)\n",
        "\n",
        "print(\"Best Parameters (Randomized):\", random_search.best_params_)\n",
        "print(\"Best CV Score:\", random_search.best_score_)\n"
      ],
      "metadata": {
        "id": "e-NIDLxpYP1z",
        "outputId": "db731e81-e729-4052-f215-374d0e999914",
        "colab": {
          "base_uri": "https://localhost:8080/"
        }
      },
      "id": "e-NIDLxpYP1z",
      "execution_count": 62,
      "outputs": [
        {
          "output_type": "stream",
          "name": "stdout",
          "text": [
            "Fitting 5 folds for each of 20 candidates, totalling 100 fits\n",
            "Best Parameters (Randomized): {'model__subsample': 0.8, 'model__n_estimators': 500, 'model__max_depth': 5, 'model__learning_rate': 0.2, 'model__colsample_bytree': 0.8}\n",
            "Best CV Score: 0.9455512370302148\n"
          ]
        }
      ]
    },
    {
      "cell_type": "code",
      "source": [
        "param_grid = {\n",
        "    'model__n_estimators': [random_search.best_params_['model__n_estimators'] - 50,\n",
        "                            random_search.best_params_['model__n_estimators'],\n",
        "                            random_search.best_params_['model__n_estimators'] + 50],\n",
        "    'model__learning_rate': [0.05, 0.1, 0.15],\n",
        "    'model__max_depth': [random_search.best_params_['model__max_depth'] - 1,\n",
        "                         random_search.best_params_['model__max_depth'],\n",
        "                         random_search.best_params_['model__max_depth'] + 1]\n",
        "}\n",
        "\n",
        "grid_search = GridSearchCV(\n",
        "    estimator=pipeline,\n",
        "    param_grid=param_grid,\n",
        "    cv=5,\n",
        "    scoring='r2',\n",
        "    n_jobs=-1,\n",
        "    verbose=2\n",
        ")\n",
        "\n",
        "grid_search.fit(X_train, y_train)\n",
        "\n",
        "print(\"Best Parameters (Grid):\", grid_search.best_params_)\n",
        "print(\"Best CV Score:\", grid_search.best_score_)\n"
      ],
      "metadata": {
        "id": "hgPSmh9iY9wW",
        "colab": {
          "base_uri": "https://localhost:8080/"
        },
        "outputId": "9521646c-6a8f-411f-989c-a9899703fb30"
      },
      "id": "hgPSmh9iY9wW",
      "execution_count": 63,
      "outputs": [
        {
          "output_type": "stream",
          "name": "stdout",
          "text": [
            "Fitting 5 folds for each of 27 candidates, totalling 135 fits\n",
            "Best Parameters (Grid): {'model__learning_rate': 0.15, 'model__max_depth': 6, 'model__n_estimators': 550}\n",
            "Best CV Score: 0.9459618776477523\n"
          ]
        }
      ]
    },
    {
      "cell_type": "code",
      "source": [
        "best_model = grid_search.best_estimator_\n",
        "\n",
        "y_pred = best_model.predict(x_test)\n",
        "\n",
        "print(\"R2 Score:\", r2_score(y_test, y_pred))\n",
        "print(\"MAE:\", mean_absolute_error(y_test, y_pred))\n",
        "print(\"RMSE:\", np.sqrt(mean_squared_error(y_test, y_pred)))\n",
        "print(\"MAPE:\", mean_absolute_percentage_error(y_test, y_pred))\n"
      ],
      "metadata": {
        "colab": {
          "base_uri": "https://localhost:8080/"
        },
        "id": "nxbPNlidxJaD",
        "outputId": "e1373ab2-10f7-4b36-a6a1-e7776c004722"
      },
      "id": "nxbPNlidxJaD",
      "execution_count": 66,
      "outputs": [
        {
          "output_type": "stream",
          "name": "stdout",
          "text": [
            "R2 Score: 0.9129127422511554\n",
            "MAE: 0.15389707036119185\n",
            "RMSE: 0.2948502221731438\n",
            "MAPE: 0.009383275376785679\n"
          ]
        }
      ]
    },
    {
      "cell_type": "code",
      "source": [
        "#  original predicted value in INR\n",
        "\n",
        "print(\"original predicted value of price column :\")\n",
        "print(list(np.expm1(y_pred)))"
      ],
      "metadata": {
        "id": "Q8XUSpukztbN",
        "outputId": "ad642810-a136-4bc2-9cbc-551c13660f9c",
        "colab": {
          "base_uri": "https://localhost:8080/"
        }
      },
      "id": "Q8XUSpukztbN",
      "execution_count": 72,
      "outputs": [
        {
          "output_type": "stream",
          "name": "stdout",
          "text": [
            "original predicted value of price column :\n",
            "[np.float32(15549006.0), np.float32(4860959.5), np.float32(5160794.0), np.float32(34666824.0), np.float32(2624610.0), np.float32(6900619.0), np.float32(46062412.0), np.float32(56356816.0), np.float32(31743638.0), np.float32(13642928.0), np.float32(4628312.0), np.float32(5194330.5), np.float32(4599859.5), np.float32(49461320.0), np.float32(37936040.0), np.float32(8809065.0), np.float32(7167998.5), np.float32(4621674.0), np.float32(47331184.0), np.float32(8514101.0), np.float32(21328504.0), np.float32(9801493.0), np.float32(10717243.0), np.float32(5587305.5), np.float32(63104120.0), np.float32(12582606.0), np.float32(27652460.0), np.float32(6285338.0), np.float32(28161952.0), np.float32(5757089.5), np.float32(2424468.5), np.float32(5064823.0), np.float32(24301906.0), np.float32(70769576.0), np.float32(40909020.0), np.float32(4794990.0), np.float32(80680920.0), np.float32(27616828.0), np.float32(5217690.0), np.float32(4972116.5), np.float32(4698786.0), np.float32(8407529.0), np.float32(12382357.0), np.float32(49431516.0), np.float32(14382510.0), np.float32(7049019.5), np.float32(4840716.0), np.float32(35248028.0), np.float32(28260530.0), np.float32(4388798.0), np.float32(28692814.0), np.float32(28629456.0), np.float32(52923044.0), np.float32(27500976.0), np.float32(8201818.5), np.float32(31449902.0), np.float32(15552892.0), np.float32(12469385.0), np.float32(28192478.0), np.float32(4840716.0), np.float32(9373348.0), np.float32(30777612.0), np.float32(56171910.0), np.float32(54155970.0), np.float32(4540658.0), np.float32(28669126.0), np.float32(47891300.0), np.float32(31164948.0), np.float32(5247551.5), np.float32(61598828.0), np.float32(47120496.0), np.float32(8162942.5), np.float32(6275492.0), np.float32(8471320.0), np.float32(26437344.0), np.float32(9679212.0), np.float32(24909688.0), np.float32(49148160.0), np.float32(29918550.0), np.float32(31513852.0), np.float32(30672244.0), np.float32(29104330.0), np.float32(16635450.0), np.float32(15377883.0), np.float32(35152624.0), np.float32(10343163.0), np.float32(2424468.5), np.float32(37769910.0), np.float32(11223522.0), np.float32(27120562.0), np.float32(10567381.0), np.float32(5995762.0), np.float32(46937596.0), np.float32(29656350.0), np.float32(11834454.0), np.float32(10959682.0), np.float32(28888084.0), np.float32(7468424.5), np.float32(13153977.0), np.float32(26596308.0), np.float32(6117126.0), np.float32(9723084.0), np.float32(30271450.0), np.float32(54139240.0), np.float32(30005414.0), np.float32(11600354.0), np.float32(1970174.6), np.float32(32283464.0), np.float32(4983894.5), np.float32(4910418.0), np.float32(4874970.5), np.float32(2589099.0), np.float32(25091320.0), np.float32(5652455.0), np.float32(8698909.0), np.float32(21115352.0), np.float32(4734925.5), np.float32(5419421.5), np.float32(6079324.0), np.float32(52831570.0), np.float32(14864356.0), np.float32(14382510.0), np.float32(64230652.0), np.float32(28669126.0), np.float32(8131203.5), np.float32(12607734.0), np.float32(4766254.0), np.float32(46136096.0), np.float32(2739758.0), np.float32(26411540.0), np.float32(2343342.8), np.float32(5464443.0), np.float32(8426344.0), np.float32(7580286.0), np.float32(5843452.0), np.float32(52540748.0), np.float32(26565584.0), np.float32(22944204.0), np.float32(4020349.5), np.float32(34269220.0), np.float32(5336750.0), np.float32(30958538.0), np.float32(67128904.0), np.float32(33434982.0), np.float32(4856632.0), np.float32(31642204.0), np.float32(48141140.0), np.float32(11126477.0), np.float32(49117984.0), np.float32(8453461.0), np.float32(24253052.0), np.float32(11835966.0), np.float32(1495698.2), np.float32(3443085.8), np.float32(2682459.8), np.float32(59978470.0), np.float32(11564984.0), np.float32(15000353.0), np.float32(28092744.0), np.float32(4695381.5), np.float32(32762160.0), np.float32(54834384.0), np.float32(51636476.0), np.float32(7896289.5), np.float32(48478200.0), np.float32(4439058.0), np.float32(5685515.0), np.float32(28888084.0), np.float32(26624374.0), np.float32(29690422.0), np.float32(58975656.0), np.float32(2320116.5), np.float32(2774536.8), np.float32(3168430.2), np.float32(10336123.0), np.float32(10300913.0), np.float32(21102910.0), np.float32(5521748.0), np.float32(5587305.5), np.float32(11356060.0), np.float32(4165911.8), np.float32(25770848.0), np.float32(29354818.0), np.float32(12020498.0), np.float32(29126820.0), np.float32(31117134.0), np.float32(55561664.0), np.float32(36349930.0), np.float32(6999829.0), np.float32(30198442.0), np.float32(51562270.0), np.float32(3609916.5), np.float32(30783366.0), np.float32(31586004.0), np.float32(9198014.0), np.float32(10320324.0), np.float32(2647817.2), np.float32(5780063.0), np.float32(12009109.0), np.float32(31642204.0), np.float32(5293118.5), np.float32(30202878.0), np.float32(5619159.0), np.float32(2831141.0), np.float32(50994320.0), np.float32(27120562.0), np.float32(1968073.2), np.float32(15240789.0), np.float32(61146748.0), np.float32(4700377.0), np.float32(52688572.0), np.float32(10856074.0), np.float32(5540653.5), np.float32(34435510.0), np.float32(20556384.0), np.float32(18187612.0), np.float32(7001611.5), np.float32(65328930.0), np.float32(40697104.0), np.float32(74239750.0), np.float32(30005414.0), np.float32(59182660.0), np.float32(25151788.0), np.float32(5509350.0), np.float32(2940444.2), np.float32(21899026.0), np.float32(6529170.0), np.float32(29719544.0), np.float32(35583750.0), np.float32(28362372.0), np.float32(5995762.0), np.float32(15738176.0), np.float32(67929260.0), np.float32(67501890.0), np.float32(12365812.0), np.float32(4741767.0), np.float32(5995762.0), np.float32(8113039.0), np.float32(22479362.0), np.float32(4698786.0), np.float32(57007536.0), np.float32(55786892.0), np.float32(70191390.0), np.float32(26437344.0), np.float32(29293460.0), np.float32(9799623.0), np.float32(5995762.0), np.float32(13857165.0), np.float32(40921270.0), np.float32(5583406.5), np.float32(3128690.0), np.float32(6543208.0), np.float32(15221760.0), np.float32(13921009.0), np.float32(28085726.0), np.float32(9721396.0), np.float32(4661392.5), np.float32(29768958.0), np.float32(6232281.5), np.float32(33845430.0), np.float32(56751612.0), np.float32(54792460.0), np.float32(7120401.5), np.float32(2009903.0), np.float32(24080430.0), np.float32(47331184.0), np.float32(69242104.0), np.float32(19285428.0), np.float32(5684040.5), np.float32(28192478.0), np.float32(5118811.0), np.float32(32577652.0), np.float32(9428035.0), np.float32(4932788.0), np.float32(31642204.0), np.float32(7798499.0), np.float32(2152229.0), np.float32(14182126.0), np.float32(35043904.0), np.float32(18879292.0), np.float32(28348852.0), np.float32(18689688.0), np.float32(4621674.0), np.float32(27045092.0), np.float32(11623964.0), np.float32(8201818.5), np.float32(38020790.0), np.float32(47133348.0), np.float32(19953366.0), np.float32(22302640.0), np.float32(53743950.0), np.float32(26334878.0), np.float32(35604388.0), np.float32(54139240.0), np.float32(1894118.5), np.float32(40925256.0), np.float32(4836604.0), np.float32(4646648.0), np.float32(8164663.0), np.float32(25244308.0), np.float32(11652400.0), np.float32(2931199.2), np.float32(50252870.0), np.float32(9259428.0), np.float32(51991664.0), np.float32(13512097.0), np.float32(2414516.5), np.float32(4758124.5), np.float32(56037076.0), np.float32(45904016.0), np.float32(55786892.0), np.float32(2424468.5), np.float32(14309233.0), np.float32(52258704.0), np.float32(1704583.8), np.float32(11205234.0), np.float32(36681664.0), np.float32(4929529.0), np.float32(2338023.5), np.float32(2931199.2), np.float32(30912926.0), np.float32(26073184.0), np.float32(8011372.5), np.float32(8201818.5), np.float32(69396530.0), np.float32(8201818.5), np.float32(13385890.0), np.float32(4937621.5), np.float32(7300771.0), np.float32(5106231.5), np.float32(56647790.0), np.float32(19349796.0), np.float32(8809065.0), np.float32(6528921.0), np.float32(13857165.0), np.float32(16138892.0), np.float32(71476200.0), np.float32(12237795.0), np.float32(7883152.0), np.float32(17742626.0), np.float32(4948988.0), np.float32(8974032.0), np.float32(34588364.0), np.float32(52520308.0), np.float32(16501711.0), np.float32(5436442.0), np.float32(6420831.5), np.float32(54792460.0), np.float32(20542548.0), np.float32(4628312.0), np.float32(24607416.0), np.float32(35043904.0), np.float32(12082054.0), np.float32(7923514.0), np.float32(6091593.0), np.float32(3431929.8), np.float32(20561836.0), np.float32(5688921.0), np.float32(29007512.0), np.float32(4728919.0), np.float32(35226588.0), np.float32(7579360.5), np.float32(52816052.0), np.float32(16347581.0), np.float32(12254566.0), np.float32(3202319.8), np.float32(36397036.0), np.float32(31805212.0), np.float32(37147696.0), np.float32(44126520.0), np.float32(30765346.0), np.float32(5260027.5), np.float32(2589099.0), np.float32(45547828.0), np.float32(5027656.5), np.float32(7601040.0), np.float32(5083473.0), np.float32(29164846.0), np.float32(4759168.0), np.float32(8470973.0), np.float32(29141768.0), np.float32(16783938.0), np.float32(10721720.0), np.float32(37967456.0), np.float32(3018992.2), np.float32(32561624.0), np.float32(67927320.0), np.float32(8113039.0), np.float32(14621546.0), np.float32(36592844.0), np.float32(5930211.0), np.float32(4846938.0), np.float32(3360210.5), np.float32(20885080.0), np.float32(6957919.0), np.float32(33090612.0), np.float32(34307480.0), np.float32(28192478.0), np.float32(13510628.0), np.float32(27013746.0), np.float32(22954536.0), np.float32(9505442.0), np.float32(4513312.5), np.float32(37765664.0), np.float32(5067707.5), np.float32(20573016.0), np.float32(2766098.2), np.float32(4093088.5), np.float32(17486120.0), np.float32(53312900.0), np.float32(22954536.0), np.float32(5757089.5), np.float32(24087044.0), np.float32(56239230.0), np.float32(40888660.0), np.float32(12348042.0), np.float32(50466880.0), np.float32(7819821.0), np.float32(31201408.0), np.float32(76208744.0), np.float32(9483910.0), np.float32(54139240.0), np.float32(34560204.0), np.float32(72150930.0), np.float32(28612804.0), np.float32(75512920.0), np.float32(28139508.0), np.float32(7883152.0), np.float32(5083987.0), np.float32(34666824.0), np.float32(13178864.0), np.float32(32692372.0), np.float32(11470412.0), np.float32(5106231.5), np.float32(11524732.0), np.float32(4991638.5), np.float32(10132956.0), np.float32(5437012.0), np.float32(50595064.0), np.float32(31070578.0), np.float32(2552734.2), np.float32(6104940.0), np.float32(16078702.0), np.float32(2874836.5), np.float32(24093616.0), np.float32(14371404.0), np.float32(20373668.0), np.float32(14565736.0), np.float32(4660223.5), np.float32(40925256.0), np.float32(4845450.0), np.float32(5023108.5), np.float32(26395072.0), np.float32(32724064.0), np.float32(4734925.5), np.float32(31062816.0), np.float32(29414228.0), np.float32(9052821.0), np.float32(4957098.0), np.float32(4407820.0), np.float32(5327022.5), np.float32(5249603.5), np.float32(10995277.0), np.float32(58386264.0), np.float32(45728540.0), np.float32(4759168.0), np.float32(5086193.5), np.float32(31681820.0), np.float32(69501310.0), np.float32(46408896.0), np.float32(8182443.0), np.float32(38783776.0), np.float32(10981528.0), np.float32(63546184.0), np.float32(29141768.0), np.float32(33343720.0), np.float32(11969890.0), np.float32(5220711.5), np.float32(5034988.5), np.float32(51554010.0), np.float32(5396075.0), np.float32(14350559.0), np.float32(36332390.0), np.float32(46408896.0), np.float32(16871882.0), np.float32(4660121.5), np.float32(28331122.0), np.float32(10593090.0), np.float32(27072910.0), np.float32(30340122.0), np.float32(20192652.0), np.float32(54639464.0), np.float32(30027056.0), np.float32(4610188.5), np.float32(10038312.0), np.float32(5260027.5), np.float32(11454298.0), np.float32(21284534.0), np.float32(3905022.8), np.float32(10899852.0), np.float32(56712116.0), np.float32(12484664.0), np.float32(48147750.0), np.float32(59854364.0), np.float32(4972116.5), np.float32(5556443.0), np.float32(6030898.5), np.float32(4934778.0), np.float32(15380347.0), np.float32(21186030.0), np.float32(10916622.0), np.float32(75320456.0), np.float32(28888084.0), np.float32(9438309.0), np.float32(22314510.0), np.float32(25790614.0), np.float32(12692448.0), np.float32(11200106.0), np.float32(5260027.5), np.float32(10713278.0), np.float32(72073490.0), np.float32(4728919.0), np.float32(39435880.0), np.float32(34239230.0), np.float32(29682438.0), np.float32(43312588.0), np.float32(22706284.0), np.float32(9920757.0), np.float32(8809065.0), np.float32(49768784.0), np.float32(1476476.4), np.float32(12331190.0), np.float32(59419504.0), np.float32(10346004.0), np.float32(12368784.0), np.float32(7495303.0), np.float32(2287987.8), np.float32(5871282.0), np.float32(23895998.0), np.float32(35908628.0), np.float32(16064202.0), np.float32(28709400.0), np.float32(23106038.0), np.float32(32449468.0), np.float32(85609304.0), np.float32(28888196.0), np.float32(3445881.2), np.float32(7873122.0), np.float32(12075926.0), np.float32(29293460.0), np.float32(31977172.0), np.float32(50985372.0), np.float32(35759356.0), np.float32(5083987.0), np.float32(6550919.0), np.float32(41449944.0), np.float32(46875772.0), np.float32(14784507.0), np.float32(1977580.1), np.float32(27878008.0), np.float32(5697347.5), np.float32(28374276.0), np.float32(70186700.0), np.float32(39548344.0), np.float32(4621674.0), np.float32(12484664.0), np.float32(3225595.8), np.float32(11140408.0), np.float32(31352576.0), np.float32(8011372.5), np.float32(33928876.0), np.float32(44966976.0), np.float32(24441080.0), np.float32(28139508.0), np.float32(6919024.0), np.float32(45888956.0), np.float32(8113039.0), np.float32(33543378.0), np.float32(12000888.0), np.float32(11558126.0), np.float32(10723582.0), np.float32(30669084.0), np.float32(8189094.0), np.float32(12511219.0), np.float32(5470773.5), np.float32(10897898.0), np.float32(2766098.2), np.float32(12649646.0), np.float32(4895110.0), np.float32(27080140.0), np.float32(4710954.5), np.float32(7883152.0), np.float32(1932891.9), np.float32(9193786.0), np.float32(54021230.0), np.float32(8342968.0), np.float32(16590708.0), np.float32(5036520.5), np.float32(28658794.0), np.float32(29519608.0), np.float32(72679930.0), np.float32(3063006.8), np.float32(5638495.0), np.float32(52561596.0), np.float32(26015660.0), np.float32(8271981.5), np.float32(4621674.0), np.float32(31562458.0), np.float32(10758573.0), np.float32(6215922.5), np.float32(5509350.0), np.float32(26624374.0), np.float32(28888084.0), np.float32(12469385.0), np.float32(64507136.0), np.float32(7305806.5), np.float32(5254718.0), np.float32(27221412.0), np.float32(10182827.0), np.float32(14950539.0), np.float32(46576588.0), np.float32(29982244.0), np.float32(5503752.0), np.float32(2653945.2), np.float32(31241426.0), np.float32(23778696.0), np.float32(31365616.0), np.float32(11356060.0), np.float32(8189094.0), np.float32(32465626.0), np.float32(4711403.5), np.float32(5541996.0), np.float32(8189094.0), np.float32(8848259.0), np.float32(12136354.0), np.float32(8043188.5), np.float32(4919544.5), np.float32(7852224.0), np.float32(82447990.0), np.float32(4650044.0), np.float32(13789668.0), np.float32(47120496.0), np.float32(21986496.0), np.float32(4937621.5), np.float32(5062268.5), np.float32(3427654.8), np.float32(26411540.0), np.float32(31201408.0), np.float32(31378062.0), np.float32(29143104.0), np.float32(7918890.5), np.float32(7740719.0), np.float32(48141140.0), np.float32(8563669.0), np.float32(8089259.0), np.float32(32019222.0), np.float32(4090396.0), np.float32(2612418.5), np.float32(4538264.0), np.float32(8002919.5), np.float32(22964256.0), np.float32(69076950.0), np.float32(26577746.0), np.float32(58357764.0), np.float32(11277512.0), np.float32(15949530.0), np.float32(32275954.0), np.float32(31062816.0), np.float32(5233233.0), np.float32(30901078.0), np.float32(18303568.0), np.float32(20382764.0), np.float32(5265799.0), np.float32(28971848.0), np.float32(9895339.0), np.float32(2984950.0), np.float32(11221638.0), np.float32(34076356.0), np.float32(51768620.0), np.float32(5051398.5), np.float32(4794990.0), np.float32(9530713.0), np.float32(2985505.0), np.float32(34213970.0), np.float32(70769576.0), np.float32(49117984.0), np.float32(26624374.0), np.float32(8582989.0), np.float32(7703558.0), np.float32(4942662.5), np.float32(41281180.0), np.float32(12513940.0), np.float32(2190855.2), np.float32(25356262.0), np.float32(6148205.5), np.float32(19956106.0), np.float32(5899621.0), np.float32(2354256.0), np.float32(12952415.0), np.float32(4144805.5), np.float32(10155730.0), np.float32(16678658.0), np.float32(1467759.5), np.float32(8507883.0), np.float32(28542328.0), np.float32(45303150.0), np.float32(5521748.0), np.float32(5036520.5), np.float32(57188320.0), np.float32(57007536.0), np.float32(23778696.0), np.float32(12780119.0), np.float32(37078890.0), np.float32(75512920.0), np.float32(4859972.5), np.float32(8049895.5), np.float32(14381001.0), np.float32(8524557.0), np.float32(30906736.0), np.float32(30777612.0), np.float32(12484664.0), np.float32(19297754.0), np.float32(11356060.0), np.float32(13458340.0), np.float32(42726244.0), np.float32(6689904.0), np.float32(62932956.0), np.float32(37657050.0), np.float32(70769576.0), np.float32(12449328.0), np.float32(37086104.0), np.float32(2860497.8), np.float32(5916428.0), np.float32(45547828.0), np.float32(11356060.0), np.float32(40909020.0), np.float32(6357918.0), np.float32(2632252.8), np.float32(40921270.0), np.float32(10371670.0), np.float32(13372366.0), np.float32(4013354.5), np.float32(31466104.0), np.float32(6079324.0), np.float32(36963650.0), np.float32(12356570.0), np.float32(10994836.0), np.float32(68101670.0), np.float32(35964696.0), np.float32(2723206.0), np.float32(57007536.0), np.float32(4991638.5), np.float32(5550993.0), np.float32(62476570.0), np.float32(10993578.0), np.float32(58000450.0), np.float32(33690788.0), np.float32(31365616.0), np.float32(11659826.0), np.float32(26749184.0), np.float32(45888520.0), np.float32(22325068.0), np.float32(10513822.0), np.float32(4812605.0), np.float32(31931522.0), np.float32(4097622.8), np.float32(4780137.5), np.float32(79404780.0), np.float32(17903898.0), np.float32(31085754.0), np.float32(14436186.0), np.float32(47505016.0), np.float32(33650390.0), np.float32(35179720.0), np.float32(8277900.5), np.float32(4912221.5), np.float32(8835164.0), np.float32(8073998.5), np.float32(12484664.0), np.float32(5400760.0), np.float32(4527699.0), np.float32(8189094.0), np.float32(75320456.0), np.float32(12039244.0), np.float32(37936040.0), np.float32(45303150.0), np.float32(8274830.0), np.float32(7702258.0), np.float32(21271344.0), np.float32(21353090.0), np.float32(28888084.0), np.float32(56877640.0), np.float32(68685700.0), np.float32(2424468.5), np.float32(32561624.0), np.float32(28366592.0), np.float32(7892788.5), np.float32(72183140.0), np.float32(7992569.0), np.float32(4869548.0), np.float32(4464259.0), np.float32(8043871.0), np.float32(11691649.0), np.float32(22954536.0), np.float32(55757636.0), np.float32(7933381.0), np.float32(3387020.2), np.float32(16681649.0), np.float32(7105105.0), np.float32(14418272.0), np.float32(28888084.0), np.float32(27902158.0), np.float32(26411540.0), np.float32(38822188.0), np.float32(16195662.0), np.float32(69501310.0), np.float32(5503752.0), np.float32(7422222.5), np.float32(60951124.0), np.float32(3450156.0), np.float32(46778950.0), np.float32(68068430.0), np.float32(2317560.0), np.float32(29890258.0), np.float32(52562900.0), np.float32(3905022.8), np.float32(57007536.0), np.float32(2914230.0), np.float32(5785821.0), np.float32(34239230.0), np.float32(29890258.0), np.float32(5451217.0), np.float32(44725760.0), np.float32(26015660.0), np.float32(7810080.0), np.float32(23895998.0), np.float32(10420210.0), np.float32(56537260.0), np.float32(6675501.0), np.float32(46540176.0), np.float32(5083148.0), np.float32(9870042.0), np.float32(35546440.0), np.float32(10902805.0), np.float32(5541996.0), np.float32(57976556.0), np.float32(26349096.0), np.float32(11674446.0), np.float32(4037135.5), np.float32(11877102.0), np.float32(72073490.0), np.float32(10495389.0), np.float32(8682929.0), np.float32(9196751.0), np.float32(52347590.0), np.float32(56751612.0), np.float32(9619342.0), np.float32(28741616.0), np.float32(8367342.5), np.float32(8362564.0), np.float32(49431516.0), np.float32(5327022.5), np.float32(66179996.0), np.float32(65000924.0), np.float32(27873540.0), np.float32(6802886.5), np.float32(51884476.0), np.float32(25936386.0), np.float32(37980424.0), np.float32(31823720.0), np.float32(8201818.5), np.float32(11223522.0), np.float32(28741616.0), np.float32(28888084.0), np.float32(29151052.0), np.float32(10688704.0), np.float32(4682029.5), np.float32(35226588.0), np.float32(49277228.0), np.float32(2582401.5), np.float32(28617662.0), np.float32(11969890.0), np.float32(7527438.0), np.float32(10799219.0), np.float32(2414516.5), np.float32(5519142.0), np.float32(8358426.0), np.float32(4976182.0), np.float32(42177190.0), np.float32(7418457.5), np.float32(5601540.0), np.float32(38353948.0), np.float32(5564132.0), np.float32(18361578.0), np.float32(34761640.0), np.float32(10771242.0), np.float32(49171510.0), np.float32(5995762.0), np.float32(27527426.0), np.float32(31365616.0), np.float32(35560210.0), np.float32(31544582.0), np.float32(48141140.0), np.float32(5436825.5), np.float32(21355778.0), np.float32(5509350.0), np.float32(61146748.0), np.float32(23069268.0), np.float32(2870765.2), np.float32(20642508.0), np.float32(7326501.0), np.float32(51647410.0), np.float32(3452657.5), np.float32(4734925.5), np.float32(6763923.0), np.float32(51832840.0), np.float32(20309534.0), np.float32(4598149.0), np.float32(40925256.0), np.float32(14381001.0), np.float32(27250660.0), np.float32(13385890.0), np.float32(4872149.5), np.float32(58045268.0), np.float32(23629856.0), np.float32(3986594.5), np.float32(48298136.0), np.float32(72073490.0), np.float32(19746460.0), np.float32(5106231.5), np.float32(56712116.0), np.float32(19471824.0), np.float32(28005328.0), np.float32(4606980.5), np.float32(57720464.0), np.float32(13278124.0), np.float32(28654804.0), np.float32(12272179.0), np.float32(27616828.0), np.float32(40523364.0), np.float32(4071737.8), np.float32(31062816.0), np.float32(7998837.0), np.float32(12531256.0), np.float32(25744858.0), np.float32(12075926.0), np.float32(43506744.0), np.float32(26428268.0), np.float32(15699170.0), np.float32(45726970.0), np.float32(8908629.0), np.float32(52335510.0), np.float32(7923514.0), np.float32(4953062.5), np.float32(29918550.0), np.float32(4259643.0), np.float32(31535438.0), np.float32(30073366.0), np.float32(16041698.0), np.float32(13287802.0), np.float32(4803686.5), np.float32(3454716.0), np.float32(22825870.0), np.float32(26745000.0), np.float32(11834454.0), np.float32(35711780.0), np.float32(24885944.0), np.float32(35909176.0), np.float32(41281180.0), np.float32(24332704.0), np.float32(4606901.0), np.float32(40925256.0), np.float32(14330346.0), np.float32(12484664.0), np.float32(4698786.0), np.float32(36044840.0), np.float32(18253436.0), np.float32(8201818.5), np.float32(51280492.0), np.float32(9311959.0), np.float32(2582401.5), np.float32(11770566.0), np.float32(10887178.0), np.float32(11531086.0), np.float32(4845450.0), np.float32(40909020.0), np.float32(26395072.0), np.float32(30116072.0), np.float32(22241934.0), np.float32(4728919.0), np.float32(41933664.0), np.float32(6529693.5), np.float32(4726628.5), np.float32(4991638.5), np.float32(5085223.5), np.float32(3737944.0), np.float32(10132956.0), np.float32(37354950.0), np.float32(28416900.0), np.float32(7235650.0), np.float32(30198442.0), np.float32(29374420.0), np.float32(68906410.0), np.float32(7883152.0), np.float32(9619342.0), np.float32(9193786.0), np.float32(52896504.0), np.float32(45547828.0), np.float32(22663320.0), np.float32(7873122.0), np.float32(8563669.0), np.float32(2456249.5), np.float32(6458878.0), np.float32(31681820.0), np.float32(5234696.0), np.float32(31296892.0), np.float32(6122525.0), np.float32(29510602.0), np.float32(2653945.2), np.float32(4835820.0), np.float32(70248180.0), np.float32(5995762.0), np.float32(7066809.5), np.float32(46562640.0), np.float32(6656118.0), np.float32(37967456.0), np.float32(6749688.5), np.float32(29645378.0), np.float32(20911268.0), np.float32(6858243.0), np.float32(69551570.0), np.float32(5267582.5), np.float32(14777374.0), np.float32(11948585.0), np.float32(30851844.0), np.float32(32283464.0), np.float32(54866296.0), np.float32(12224498.0), np.float32(11676740.0), np.float32(58963510.0), np.float32(28274170.0), np.float32(11899709.0), np.float32(20657830.0), np.float32(30143600.0), np.float32(7598097.5), np.float32(6305529.0), np.float32(5540653.5), np.float32(50606164.0), np.float32(60271480.0), np.float32(38445644.0), np.float32(30283348.0), np.float32(41558316.0), np.float32(30135092.0), np.float32(63767280.0), np.float32(3786253.2), np.float32(58528200.0), np.float32(3298657.8), np.float32(26770160.0), np.float32(12976673.0), np.float32(6099568.5), np.float32(5433876.0), np.float32(58151540.0), np.float32(4608162.5), np.float32(8521769.0), np.float32(28888084.0), np.float32(2787216.2), np.float32(35946250.0), np.float32(3299516.8), np.float32(18361578.0), np.float32(30765346.0), np.float32(30057310.0), np.float32(40888660.0), np.float32(46610450.0), np.float32(11552682.0), np.float32(51206696.0), np.float32(8307755.5), np.float32(18879292.0), np.float32(19738552.0), np.float32(34256540.0), np.float32(4079056.0), np.float32(9845036.0), np.float32(31165840.0), np.float32(58238784.0), np.float32(68264760.0), np.float32(21418476.0), np.float32(10007934.0), np.float32(52621480.0), np.float32(9549874.0), np.float32(4612357.0), np.float32(57720464.0), np.float32(15026870.0), np.float32(4698786.0), np.float32(7740719.0), np.float32(9235458.0), np.float32(37078890.0), np.float32(15056679.0), np.float32(29963264.0), np.float32(30054672.0), np.float32(2032786.5), np.float32(36550156.0), np.float32(53718230.0), np.float32(30476186.0), np.float32(101398450.0), np.float32(38079580.0), np.float32(50966216.0), np.float32(8131203.5), np.float32(7272828.0), np.float32(32364538.0), np.float32(4598149.0), np.float32(27066456.0), np.float32(39103250.0), np.float32(45961050.0), np.float32(2863508.5), np.float32(15451828.0), np.float32(35169790.0), np.float32(8803673.0), np.float32(5112985.5), np.float32(2241217.0), np.float32(51280492.0), np.float32(58963510.0), np.float32(28991914.0), np.float32(10353644.0), np.float32(62932956.0), np.float32(45766932.0), np.float32(24700900.0), np.float32(19776236.0), np.float32(61146748.0), np.float32(27993952.0), np.float32(4875379.5), np.float32(19158282.0), np.float32(20676712.0), np.float32(78774830.0), np.float32(7904351.0), np.float32(5224138.0), np.float32(4887087.0), np.float32(15699170.0), np.float32(3422608.0), np.float32(47622224.0), np.float32(3504174.0), np.float32(5809568.0), np.float32(17151310.0), np.float32(14786114.0), np.float32(37354950.0), np.float32(5021216.5), np.float32(4784005.0), np.float32(18106584.0), np.float32(12009109.0), np.float32(28648846.0), np.float32(72270750.0), np.float32(5613449.0), np.float32(16809632.0), np.float32(5602998.5), np.float32(9801493.0), np.float32(11605422.0), np.float32(22834100.0), np.float32(29316042.0), np.float32(4943407.5), np.float32(10717243.0), np.float32(66209160.0), np.float32(15127117.0), np.float32(27989200.0), np.float32(7815191.0), np.float32(19297754.0), np.float32(2827031.8), np.float32(4790542.5), np.float32(4734925.5), np.float32(11334831.0), np.float32(72270750.0), np.float32(55625920.0), np.float32(18612670.0), np.float32(33728404.0), np.float32(30291376.0), np.float32(12587118.0), np.float32(3582312.5), np.float32(11812826.0), np.float32(36953708.0), np.float32(5103676.0), np.float32(7598097.5), np.float32(16078702.0), np.float32(26384098.0), np.float32(31642204.0), np.float32(57720464.0), np.float32(31296892.0), np.float32(21079940.0), np.float32(29829376.0), np.float32(14382510.0), np.float32(52923044.0), np.float32(4598131.5), np.float32(5020259.0), np.float32(11082042.0), np.float32(28971848.0), np.float32(4205161.0), np.float32(11204486.0), np.float32(11337080.0), np.float32(7883152.0), np.float32(31201408.0), np.float32(29151052.0), np.float32(55921760.0), np.float32(30476186.0), np.float32(31867574.0), np.float32(89340400.0), np.float32(5876166.0), np.float32(12647499.0), np.float32(41182404.0), np.float32(15621926.0), np.float32(15221760.0), np.float32(6228526.0), np.float32(62236556.0), np.float32(8070988.5), np.float32(35801600.0), np.float32(8354473.0), np.float32(27652460.0), np.float32(22954536.0), np.float32(41281180.0), np.float32(24580116.0), np.float32(26400912.0), np.float32(61621860.0), np.float32(31201408.0), np.float32(46314370.0), np.float32(36239788.0), np.float32(45064344.0), np.float32(9197663.0), np.float32(9416695.0), np.float32(29663364.0), np.float32(5090721.0), np.float32(20232786.0), np.float32(15856712.0), np.float32(8529030.0), np.float32(55624964.0), np.float32(4896613.5), np.float32(19457902.0), np.float32(27790780.0), np.float32(41684544.0), np.float32(11802444.0), np.float32(57189520.0), np.float32(76447070.0), np.float32(8410488.0), np.float32(50023740.0), np.float32(35980960.0), np.float32(16252105.0), np.float32(25978718.0), np.float32(10916351.0), np.float32(29781736.0), np.float32(30291376.0), np.float32(63859296.0), np.float32(9803549.0), np.float32(48947960.0), np.float32(3452657.5), np.float32(8362245.0), np.float32(30291376.0), np.float32(6533655.0), np.float32(37936040.0), np.float32(26621734.0), np.float32(2439676.8), np.float32(9781976.0), np.float32(26442336.0), np.float32(27390522.0)]\n"
          ]
        }
      ]
    },
    {
      "cell_type": "markdown",
      "source": [
        "# A simple note that the price and area_sqft column are in np.log1p form already in the dataset as i set them after cleaning the data in notebook one."
      ],
      "metadata": {
        "id": "MDPy1RXdy6PT"
      },
      "id": "MDPy1RXdy6PT"
    }
  ],
  "metadata": {
    "language_info": {
      "name": "python"
    },
    "colab": {
      "provenance": []
    },
    "kernelspec": {
      "name": "python3",
      "display_name": "Python 3"
    }
  },
  "nbformat": 4,
  "nbformat_minor": 5
}