{
  "cells": [
    {
      "cell_type": "code",
      "execution_count": 1518,
      "metadata": {
        "_cell_guid": "b1076dfc-b9ad-4769-8c92-a6c4dae69d19",
        "_uuid": "8f2839f25d086af736a60e9eeb907d3b93b6e0e5",
        "id": "oXOZEVDj0u_b"
      },
      "outputs": [],
      "source": [
        "# importing some libs so that we can work with data easily :)\n",
        "# all of the compution is done on colab\n",
        "import pandas as pd\n",
        "import numpy as np\n",
        "import matplotlib.pyplot as plt\n",
        "import seaborn as sns"
      ]
    },
    {
      "cell_type": "code",
      "execution_count": 1519,
      "metadata": {
        "id": "OLLnJtdN0u_f"
      },
      "outputs": [],
      "source": [
        "# reading the csv file by using pandas :)\n",
        "df = pd.read_csv('/workspaces/Ahmedabad-Flat-Price-/dataset/ahmedabad.csv' , encoding='utf-8')"
      ]
    },
    {
      "cell_type": "code",
      "execution_count": 1520,
      "metadata": {
        "colab": {
          "base_uri": "https://localhost:8080/"
        },
        "id": "NLYcy8hF1nm_",
        "outputId": "7e93219b-9d9b-46f2-b0f0-ceba046548ea"
      },
      "outputs": [
        {
          "data": {
            "text/plain": [
              "RangeIndex(start=0, stop=6853, step=1)"
            ]
          },
          "execution_count": 1520,
          "metadata": {},
          "output_type": "execute_result"
        }
      ],
      "source": [
        "df.index"
      ]
    },
    {
      "cell_type": "code",
      "execution_count": 1521,
      "metadata": {
        "colab": {
          "base_uri": "https://localhost:8080/"
        },
        "id": "Dqae4VaCqnJQ",
        "outputId": "c92213b4-993e-4d39-e580-4675cc2aa66f"
      },
      "outputs": [
        {
          "name": "stdout",
          "output_type": "stream",
          "text": [
            "missing values in data-set in '%'\n",
            "\n",
            "Unnamed: 0      0.000000\n",
            "Title           0.000000\n",
            "type_area       0.000000\n",
            "value_area      0.000000\n",
            "status          0.000000\n",
            "floor           0.116737\n",
            "transaction     0.306435\n",
            "furnishing      0.539910\n",
            "facing          1.298701\n",
            "price           0.000000\n",
            "price_sqft      6.537283\n",
            "description    25.769736\n",
            "dtype: float64\n"
          ]
        }
      ],
      "source": [
        "print(\"missing values in data-set in '%'\")\n",
        "print(\"\")\n",
        "print(f\"{(df.isnull().mean())*100}\")"
      ]
    },
    {
      "cell_type": "markdown",
      "metadata": {
        "id": "pyVPhEQ05KPv"
      },
      "source": [
        "# all the data cleaning and feature engineering"
      ]
    },
    {
      "cell_type": "code",
      "execution_count": 1522,
      "metadata": {
        "colab": {
          "base_uri": "https://localhost:8080/"
        },
        "id": "o7oyr6X31nnC",
        "outputId": "31a01d99-47b8-415f-ff30-1062ef9a58ad"
      },
      "outputs": [
        {
          "name": "stdout",
          "output_type": "stream",
          "text": [
            "<class 'pandas.core.frame.DataFrame'>\n",
            "RangeIndex: 6853 entries, 0 to 6852\n",
            "Data columns (total 12 columns):\n",
            " #   Column       Non-Null Count  Dtype \n",
            "---  ------       --------------  ----- \n",
            " 0   Unnamed: 0   6853 non-null   int64 \n",
            " 1   Title        6853 non-null   object\n",
            " 2   type_area    6853 non-null   object\n",
            " 3   value_area   6853 non-null   object\n",
            " 4   status       6853 non-null   object\n",
            " 5   floor        6845 non-null   object\n",
            " 6   transaction  6832 non-null   object\n",
            " 7   furnishing   6816 non-null   object\n",
            " 8   facing       6764 non-null   object\n",
            " 9   price        6853 non-null   object\n",
            " 10  price_sqft   6405 non-null   object\n",
            " 11  description  5087 non-null   object\n",
            "dtypes: int64(1), object(11)\n",
            "memory usage: 642.6+ KB\n"
          ]
        }
      ],
      "source": [
        "df.info()"
      ]
    },
    {
      "cell_type": "code",
      "execution_count": 1523,
      "metadata": {
        "colab": {
          "base_uri": "https://localhost:8080/",
          "height": 460
        },
        "id": "9tCivx5Z1nnD",
        "outputId": "8c1ad011-ba01-46d7-bb62-ba1314e162a7"
      },
      "outputs": [
        {
          "data": {
            "text/plain": [
              "Unnamed: 0        0\n",
              "Title             0\n",
              "type_area         0\n",
              "value_area        0\n",
              "status            0\n",
              "floor             8\n",
              "transaction      21\n",
              "furnishing       37\n",
              "facing           89\n",
              "price             0\n",
              "price_sqft      448\n",
              "description    1766\n",
              "dtype: int64"
            ]
          },
          "execution_count": 1523,
          "metadata": {},
          "output_type": "execute_result"
        }
      ],
      "source": [
        "df.isnull().sum()"
      ]
    },
    {
      "cell_type": "code",
      "execution_count": 1524,
      "metadata": {
        "id": "6iDQ7mBQfYHH"
      },
      "outputs": [],
      "source": [
        "df.duplicated().sum()\n",
        "df = df.drop_duplicates()"
      ]
    },
    {
      "cell_type": "code",
      "execution_count": 1525,
      "metadata": {
        "colab": {
          "base_uri": "https://localhost:8080/"
        },
        "id": "D5RxDFKz1nnE",
        "outputId": "3b6f5107-e130-42cf-aaca-eceb01befae0"
      },
      "outputs": [
        {
          "data": {
            "text/plain": [
              "np.int64(448)"
            ]
          },
          "execution_count": 1525,
          "metadata": {},
          "output_type": "execute_result"
        }
      ],
      "source": [
        "df['price_sqft'].isnull().sum()"
      ]
    },
    {
      "cell_type": "code",
      "execution_count": 1526,
      "metadata": {
        "id": "J2yqjuOo1nnE"
      },
      "outputs": [],
      "source": [
        "# DROP the description\n",
        "df = df.drop(['description', 'Unnamed: 0'], axis=1)"
      ]
    },
    {
      "cell_type": "code",
      "execution_count": 1527,
      "metadata": {
        "colab": {
          "base_uri": "https://localhost:8080/",
          "height": 206
        },
        "id": "AbdlPzmL0u_g",
        "outputId": "1acee411-db90-4bd7-e433-1f4d4e8a46c4"
      },
      "outputs": [
        {
          "data": {
            "text/html": [
              "<div>\n",
              "<style scoped>\n",
              "    .dataframe tbody tr th:only-of-type {\n",
              "        vertical-align: middle;\n",
              "    }\n",
              "\n",
              "    .dataframe tbody tr th {\n",
              "        vertical-align: top;\n",
              "    }\n",
              "\n",
              "    .dataframe thead th {\n",
              "        text-align: right;\n",
              "    }\n",
              "</style>\n",
              "<table border=\"1\" class=\"dataframe\">\n",
              "  <thead>\n",
              "    <tr style=\"text-align: right;\">\n",
              "      <th></th>\n",
              "      <th>Title</th>\n",
              "      <th>type_area</th>\n",
              "      <th>value_area</th>\n",
              "      <th>status</th>\n",
              "      <th>floor</th>\n",
              "      <th>transaction</th>\n",
              "      <th>furnishing</th>\n",
              "      <th>facing</th>\n",
              "      <th>price</th>\n",
              "      <th>price_sqft</th>\n",
              "    </tr>\n",
              "  </thead>\n",
              "  <tbody>\n",
              "    <tr>\n",
              "      <th>0</th>\n",
              "      <td>2 BHK Apartment for Sale in Vivaan Aura, Zunda...</td>\n",
              "      <td>Super Area</td>\n",
              "      <td>155 sqyrd</td>\n",
              "      <td>Poss. by Dec '26</td>\n",
              "      <td>New Property</td>\n",
              "      <td>Unfurnished</td>\n",
              "      <td>Vivaan Aura</td>\n",
              "      <td>2</td>\n",
              "      <td>â‚¹48.1 Lac</td>\n",
              "      <td>â‚¹3,444 per sqft</td>\n",
              "    </tr>\n",
              "    <tr>\n",
              "      <th>1</th>\n",
              "      <td>2 BHK Apartment for Sale in SP Epitome, Shela ...</td>\n",
              "      <td>Carpet Area</td>\n",
              "      <td>710 sqft</td>\n",
              "      <td>Poss. by Jun '27</td>\n",
              "      <td>New Property</td>\n",
              "      <td>Unfurnished</td>\n",
              "      <td>SP Epitome</td>\n",
              "      <td>2</td>\n",
              "      <td>â‚¹50 Lac</td>\n",
              "      <td>â‚¹3,876 per sqft</td>\n",
              "    </tr>\n",
              "    <tr>\n",
              "      <th>2</th>\n",
              "      <td>2 BHK Apartment for Sale in Pacifica Amara, Sa...</td>\n",
              "      <td>Carpet Area</td>\n",
              "      <td>588 sqft</td>\n",
              "      <td>Poss. by Dec '25</td>\n",
              "      <td>New Property</td>\n",
              "      <td>Unfurnished</td>\n",
              "      <td>Pacifica Amara</td>\n",
              "      <td>2</td>\n",
              "      <td>â‚¹40 Lac</td>\n",
              "      <td>â‚¹3,738 per sqft</td>\n",
              "    </tr>\n",
              "    <tr>\n",
              "      <th>3</th>\n",
              "      <td>2 BHK Apartment for Sale in Kavisha AER, Shela...</td>\n",
              "      <td>Carpet Area</td>\n",
              "      <td>687 sqft</td>\n",
              "      <td>Poss. by Jun '26</td>\n",
              "      <td>New Property</td>\n",
              "      <td>Unfurnished</td>\n",
              "      <td>Kavisha AER</td>\n",
              "      <td>2</td>\n",
              "      <td>â‚¹48.8 Lac</td>\n",
              "      <td>â‚¹3,900 per sqft</td>\n",
              "    </tr>\n",
              "    <tr>\n",
              "      <th>4</th>\n",
              "      <td>2 BHK Apartment for Sale in Aarambh Vistara, G...</td>\n",
              "      <td>Carpet Area</td>\n",
              "      <td>621 sqft</td>\n",
              "      <td>Poss. by Mar '25</td>\n",
              "      <td>New Property</td>\n",
              "      <td>Unfurnished</td>\n",
              "      <td>Aarambh Vistara</td>\n",
              "      <td>2</td>\n",
              "      <td>â‚¹48 Lac</td>\n",
              "      <td>â‚¹4,248 per sqft</td>\n",
              "    </tr>\n",
              "  </tbody>\n",
              "</table>\n",
              "</div>"
            ],
            "text/plain": [
              "                                               Title    type_area value_area  \\\n",
              "0  2 BHK Apartment for Sale in Vivaan Aura, Zunda...   Super Area  155 sqyrd   \n",
              "1  2 BHK Apartment for Sale in SP Epitome, Shela ...  Carpet Area   710 sqft   \n",
              "2  2 BHK Apartment for Sale in Pacifica Amara, Sa...  Carpet Area   588 sqft   \n",
              "3  2 BHK Apartment for Sale in Kavisha AER, Shela...  Carpet Area   687 sqft   \n",
              "4  2 BHK Apartment for Sale in Aarambh Vistara, G...  Carpet Area   621 sqft   \n",
              "\n",
              "             status         floor  transaction       furnishing facing  \\\n",
              "0  Poss. by Dec '26  New Property  Unfurnished      Vivaan Aura      2   \n",
              "1  Poss. by Jun '27  New Property  Unfurnished       SP Epitome      2   \n",
              "2  Poss. by Dec '25  New Property  Unfurnished   Pacifica Amara      2   \n",
              "3  Poss. by Jun '26  New Property  Unfurnished      Kavisha AER      2   \n",
              "4  Poss. by Mar '25  New Property  Unfurnished  Aarambh Vistara      2   \n",
              "\n",
              "          price          price_sqft  \n",
              "0  â‚¹48.1 Lac   â‚¹3,444 per sqft   \n",
              "1    â‚¹50 Lac   â‚¹3,876 per sqft   \n",
              "2    â‚¹40 Lac   â‚¹3,738 per sqft   \n",
              "3  â‚¹48.8 Lac   â‚¹3,900 per sqft   \n",
              "4    â‚¹48 Lac   â‚¹4,248 per sqft   "
            ]
          },
          "execution_count": 1527,
          "metadata": {},
          "output_type": "execute_result"
        }
      ],
      "source": [
        "# quick look into the data-set :)\n",
        "df.head(5)"
      ]
    },
    {
      "cell_type": "code",
      "execution_count": 1528,
      "metadata": {
        "id": "Aq-niRLZ1nnG"
      },
      "outputs": [],
      "source": [
        "import re\n",
        "def clean_price(val):\n",
        "    if pd.isna(val):\n",
        "        return np.nan\n",
        "    val = str(val).strip()\n",
        "\n",
        "    return re.sub(r'^[^0-9A-Za-z]+','',val)\n",
        "\n",
        "\n",
        "def price_conversion(val):\n",
        "    if 'Lac' in val:\n",
        "        return float(val.replace('Lac', \"\").strip()) *1e5\n",
        "    elif \"Cr\" in val:\n",
        "        return float(val.replace('Cr', \"\").strip()) *1e7\n",
        "    elif \"Call for Price\" in val:\n",
        "        return str(val.strip())\n",
        "    else:\n",
        "        return float(val.strip())\n",
        "\n",
        "\n",
        "\n",
        "df['price'] = df['price'].apply(clean_price)\n",
        "df['price'] = df['price'].apply(price_conversion)"
      ]
    },
    {
      "cell_type": "code",
      "execution_count": 1529,
      "metadata": {
        "colab": {
          "base_uri": "https://localhost:8080/"
        },
        "id": "p-UlHGGc1nnI",
        "outputId": "8aad4708-b0bd-4c85-ed9b-34e2b31d4c87"
      },
      "outputs": [
        {
          "data": {
            "text/plain": [
              "array(['Super Area', 'Carpet Area', 'Transaction', 'Status', 'Built Area',\n",
              "       'Under Construction'], dtype=object)"
            ]
          },
          "execution_count": 1529,
          "metadata": {},
          "output_type": "execute_result"
        }
      ],
      "source": [
        "df['type_area'].unique()"
      ]
    },
    {
      "cell_type": "code",
      "execution_count": 1530,
      "metadata": {
        "colab": {
          "base_uri": "https://localhost:8080/"
        },
        "id": "xqarI5mG1nnK",
        "outputId": "b0dc3baa-3860-4560-bec5-c8a9a3278bcb"
      },
      "outputs": [
        {
          "data": {
            "text/plain": [
              "array(['super area', 'carpet area', nan, 'Built Area',\n",
              "       'under construction'], dtype=object)"
            ]
          },
          "execution_count": 1530,
          "metadata": {},
          "output_type": "execute_result"
        }
      ],
      "source": [
        "df['type_area'] = df['type_area'].replace({\n",
        "    \"Super Area\": 'super area',\n",
        "    'Carpet Area': 'carpet area',\n",
        "    'Transaction': np.nan,\n",
        "    'Status': np.nan,\n",
        "    'Under Construction': 'under construction'\n",
        "} )\n",
        "\n",
        "df['type_area'].unique()"
      ]
    },
    {
      "cell_type": "code",
      "execution_count": 1531,
      "metadata": {
        "id": "l_mOiSw-1nnL"
      },
      "outputs": [
        {
          "name": "stdout",
          "output_type": "stream",
          "text": [
            "[\"Poss. by Dec '26\", \"Poss. by Jun '27\", \"Poss. by Dec '25\", \"Poss. by Jun '26\", \"Poss. by Mar '25\", \"Poss. by Jul '24\", \"Poss. by Jul '26\", \"Poss. by Dec '24\", 'Ready to Move', \"Poss. by May '26\", \"Poss. by Nov '24\", \"Poss. by Oct '25\", \"Poss. by Jan '26\", \"Poss. by Aug '24\", \"Poss. by Oct '24\", \"Poss. by Feb '28\", \"Poss. by Sep '25\", \"Poss. by Mar '26\", \"Poss. by Jan '25\", \"Poss. by Nov '25\", \"Poss. by Dec '27\", \"Poss. by Sep '24\", '4 out of 5', '1 out of 1', '3 out of 3', '3 out of 5', '3 out of 4', \"Poss. by Jun '25\", '4 out of 10', '4 out of 4', 'Bapunagar One', '2 out of 3', '3 out of 9', '7 out of 8', \"Poss. by Jun '24\", '5 out of 5', '1 out of 4', '1 out of 14', '13 out of 13', '2 out of 5', '9 out of 14', '8 out of 14', \"Poss. by Mar '27\", \"Poss. by Jul '25\", \"Poss. by May '24\", \"Poss. by Aug '25\", \"Poss. by Feb '25\", \"Poss. by Apr '25\", \"Poss. by Dec '28\", \"Poss. by Apr '26\", \"Poss. by Nov '26\", \"Poss. by Nov '27\", \"Poss. by Sep '26\", \"Poss. by Aug '26\", \"Poss. by Jul '27\", \"Poss. by Oct '26\", 'New Property', 'Resale', \"Poss. by Feb '26\", \"Poss. by Mar '28\", '9 out of 13', 'Const. Age New Construction', '3 out of 13', '1 out of 3', '5 out of 14', '10 out of 12', '5 out of 7', '2 out of 13', '1 out of 7', '3 out of 14', 'Ranna Apartment', '7 out of 7', '2 out of 4', '10 out of 11', '3 out of 10', '1 out of 10', '6 out of 15', '13 out of 22', '9 out of 10', '1 out of 6', \"Poss. by Jan '28\", '14 out of 14', '4 out of 13', '10 out of 23', '7 out of 14', '7 out of 10', '5 out of 15', '3 out of 7', \"Poss. by Jan '27\", \"Poss. by Feb '29\", \"Poss. by Sep '27\", \"Poss. by Jun '28\", \"Poss. by May '25\", \"Poss. by Feb '27\", 'Ground out of 3', '4 out of 32', '9 out of 19', '1 out of 5', '2 out of 2', '22 out of 22', '5 out of 8', '8 out of 15', '13 out of 15', '8 out of 19', '9 out of 17', \"Poss. by May '27\", \"Poss. by Mar '29\", \"Poss. by Oct '27\", \"Poss. by May '28\", \"Poss. by Dec '29\", \"Poss. by Apr '27\", '4 out of 15', \"Poss. by Jun '29\", 'Ground out of 7', '4 out of 7', '9 out of 31', \"Poss. by May '30\", '8 out of 13', \"Poss. by May '29\", '6 out of 10', \"Poss. by Jul '28\", '2 out of 8', \"Poss. by Aug '29\", \"Poss. by Apr '28\", '8 out of 12', \"Poss. by Aug '27\", '8 out of 20', '9 out of 12']\n"
          ]
        }
      ],
      "source": [
        "print(list(df['status'].unique()))"
      ]
    },
    {
      "cell_type": "code",
      "execution_count": 1532,
      "metadata": {
        "id": "ghpIB4Lg1nnM"
      },
      "outputs": [],
      "source": [
        "def status_clean(val):\n",
        "    val = str(val)\n",
        "\n",
        "    if \"Poss.\" in val or val in  [\"Ready to Move\", \"New Property\"] or 'out of' in val or 'Const. Age' in val:\n",
        "        return (\"ready\")\n",
        "    \n",
        "    else:\n",
        "        return 'not ready'\n",
        "    \n",
        "\n",
        "df[['status']] = df['status'].apply(status_clean).apply(pd.Series)"
      ]
    },
    {
      "cell_type": "code",
      "execution_count": 1533,
      "metadata": {
        "colab": {
          "base_uri": "https://localhost:8080/",
          "height": 35
        },
        "id": "f7kh3jk4OHBt",
        "outputId": "cea8f9e8-15e3-4404-d4e9-920c75eae99b"
      },
      "outputs": [
        {
          "data": {
            "text/plain": [
              "array(['ready', 'not ready'], dtype=object)"
            ]
          },
          "execution_count": 1533,
          "metadata": {},
          "output_type": "execute_result"
        }
      ],
      "source": [
        "df['status'].unique()"
      ]
    },
    {
      "cell_type": "code",
      "execution_count": 1534,
      "metadata": {
        "id": "EHK0fd8F1nnN"
      },
      "outputs": [],
      "source": [
        "\n",
        "# df.sample()\n",
        "# df['facing'].unique()"
      ]
    },
    {
      "cell_type": "code",
      "execution_count": 1535,
      "metadata": {
        "colab": {
          "base_uri": "https://localhost:8080/"
        },
        "execution": {
          "iopub.execute_input": "2024-06-24T15:12:04.084682Z",
          "iopub.status.busy": "2024-06-24T15:12:04.084279Z",
          "iopub.status.idle": "2024-06-24T15:12:04.090886Z",
          "shell.execute_reply": "2024-06-24T15:12:04.089572Z",
          "shell.execute_reply.started": "2024-06-24T15:12:04.084651Z"
        },
        "id": "ANphdA_B0u_i",
        "outputId": "54a410e1-0ec7-47ed-f5a2-bdff69c0fca7"
      },
      "outputs": [
        {
          "name": "stdout",
          "output_type": "stream",
          "text": [
            "This data-set has 6853 rows and 10 columns\n"
          ]
        }
      ],
      "source": [
        "# it is to check the no of rows and columns in the data-set :)\n",
        "x = df.shape\n",
        "print('This data-set has', x[0] , \"rows\" , 'and' ,x[-1] , \"columns\")"
      ]
    },
    {
      "cell_type": "code",
      "execution_count": 1536,
      "metadata": {
        "colab": {
          "base_uri": "https://localhost:8080/"
        },
        "execution": {
          "iopub.execute_input": "2024-06-24T15:17:50.751135Z",
          "iopub.status.busy": "2024-06-24T15:17:50.750748Z",
          "iopub.status.idle": "2024-06-24T15:17:50.757482Z",
          "shell.execute_reply": "2024-06-24T15:17:50.756331Z",
          "shell.execute_reply.started": "2024-06-24T15:17:50.751103Z"
        },
        "id": "7_TnD3qU0u_i",
        "outputId": "17d0da9d-a196-436f-c461-d751407a53c9"
      },
      "outputs": [
        {
          "name": "stdout",
          "output_type": "stream",
          "text": [
            "data type of the data present in the columns are give below\n",
            "\n",
            "Title          object\n",
            "type_area      object\n",
            "value_area     object\n",
            "status         object\n",
            "floor          object\n",
            "transaction    object\n",
            "furnishing     object\n",
            "facing         object\n",
            "price          object\n",
            "price_sqft     object\n",
            "dtype: object\n"
          ]
        }
      ],
      "source": [
        "# we can also need to check data type so there are some couple of ways for it w'll use .dtype method for now\n",
        "print('data type of the data present in the columns are give below')\n",
        "print('')\n",
        "print(df.dtypes)"
      ]
    },
    {
      "cell_type": "code",
      "execution_count": 1537,
      "metadata": {
        "colab": {
          "base_uri": "https://localhost:8080/",
          "height": 429
        },
        "id": "-8vG_0Mm1nnQ",
        "outputId": "76b244a2-7620-47a3-b1f2-097bc01f45ba"
      },
      "outputs": [
        {
          "data": {
            "text/plain": [
              "Title            0\n",
              "type_area        4\n",
              "value_area       0\n",
              "status           0\n",
              "floor            8\n",
              "transaction     21\n",
              "furnishing      37\n",
              "facing          89\n",
              "price            0\n",
              "price_sqft     448\n",
              "dtype: int64"
            ]
          },
          "execution_count": 1537,
          "metadata": {},
          "output_type": "execute_result"
        }
      ],
      "source": [
        "# null values per column\n",
        "df.isnull().sum()"
      ]
    },
    {
      "cell_type": "code",
      "execution_count": 1538,
      "metadata": {
        "colab": {
          "base_uri": "https://localhost:8080/"
        },
        "id": "Hx317bSM1nnR",
        "outputId": "6bee5f7f-210a-4409-d67e-7b0ad74d8cac"
      },
      "outputs": [
        {
          "data": {
            "text/plain": [
              "np.int64(186)"
            ]
          },
          "execution_count": 1538,
          "metadata": {},
          "output_type": "execute_result"
        }
      ],
      "source": [
        "df.duplicated().sum()"
      ]
    },
    {
      "cell_type": "code",
      "execution_count": 1539,
      "metadata": {
        "id": "7V5qwLR91nnR"
      },
      "outputs": [],
      "source": [
        "df = df.drop_duplicates()"
      ]
    },
    {
      "cell_type": "code",
      "execution_count": 1540,
      "metadata": {
        "colab": {
          "base_uri": "https://localhost:8080/"
        },
        "id": "CXVRJ4Yr1nnS",
        "outputId": "69268cf9-2a99-4e52-fa96-4dfa7b53fcf7"
      },
      "outputs": [
        {
          "data": {
            "text/plain": [
              "array(['super area', 'carpet area', nan, 'Built Area',\n",
              "       'under construction'], dtype=object)"
            ]
          },
          "execution_count": 1540,
          "metadata": {},
          "output_type": "execute_result"
        }
      ],
      "source": [
        "df['type_area'].unique()"
      ]
    },
    {
      "cell_type": "code",
      "execution_count": 1541,
      "metadata": {
        "colab": {
          "base_uri": "https://localhost:8080/"
        },
        "execution": {
          "iopub.execute_input": "2024-06-24T15:02:21.661122Z",
          "iopub.status.busy": "2024-06-24T15:02:21.660730Z",
          "iopub.status.idle": "2024-06-24T15:02:21.672882Z",
          "shell.execute_reply": "2024-06-24T15:02:21.671855Z",
          "shell.execute_reply.started": "2024-06-24T15:02:21.661087Z"
        },
        "id": "upkRmBNH0u_l",
        "outputId": "95a5d04f-92ca-437d-c076-6c85a3e6f049"
      },
      "outputs": [
        {
          "name": "stdout",
          "output_type": "stream",
          "text": [
            "missing values in data-set in '%'\n",
            "\n",
            "Title          0.000000\n",
            "type_area      0.044998\n",
            "value_area     0.000000\n",
            "status         0.000000\n",
            "floor          0.104995\n",
            "transaction    0.284986\n",
            "furnishing     0.509975\n",
            "facing         1.289936\n",
            "price          0.000000\n",
            "price_sqft     6.389681\n",
            "dtype: float64\n"
          ]
        }
      ],
      "source": [
        "# missing values :)\n",
        "print(\"missing values in data-set in '%'\")\n",
        "print(\"\")\n",
        "print(f\"{(df.isnull().mean())*100}\")"
      ]
    },
    {
      "cell_type": "code",
      "execution_count": 1542,
      "metadata": {
        "colab": {
          "base_uri": "https://localhost:8080/",
          "height": 206
        },
        "id": "6ycxj17y1nnU",
        "outputId": "c0efcbe2-e811-457e-fc6f-e355ca73711b"
      },
      "outputs": [
        {
          "data": {
            "text/html": [
              "<div>\n",
              "<style scoped>\n",
              "    .dataframe tbody tr th:only-of-type {\n",
              "        vertical-align: middle;\n",
              "    }\n",
              "\n",
              "    .dataframe tbody tr th {\n",
              "        vertical-align: top;\n",
              "    }\n",
              "\n",
              "    .dataframe thead th {\n",
              "        text-align: right;\n",
              "    }\n",
              "</style>\n",
              "<table border=\"1\" class=\"dataframe\">\n",
              "  <thead>\n",
              "    <tr style=\"text-align: right;\">\n",
              "      <th></th>\n",
              "      <th>Title</th>\n",
              "      <th>type_area</th>\n",
              "      <th>value_area</th>\n",
              "      <th>status</th>\n",
              "      <th>floor</th>\n",
              "      <th>transaction</th>\n",
              "      <th>furnishing</th>\n",
              "      <th>facing</th>\n",
              "      <th>price</th>\n",
              "      <th>price_sqft</th>\n",
              "    </tr>\n",
              "  </thead>\n",
              "  <tbody>\n",
              "    <tr>\n",
              "      <th>0</th>\n",
              "      <td>2 BHK Apartment for Sale in Vivaan Aura, Zunda...</td>\n",
              "      <td>super area</td>\n",
              "      <td>155 sqyrd</td>\n",
              "      <td>ready</td>\n",
              "      <td>New Property</td>\n",
              "      <td>Unfurnished</td>\n",
              "      <td>Vivaan Aura</td>\n",
              "      <td>2</td>\n",
              "      <td>4810000.0</td>\n",
              "      <td>â‚¹3,444 per sqft</td>\n",
              "    </tr>\n",
              "    <tr>\n",
              "      <th>1</th>\n",
              "      <td>2 BHK Apartment for Sale in SP Epitome, Shela ...</td>\n",
              "      <td>carpet area</td>\n",
              "      <td>710 sqft</td>\n",
              "      <td>ready</td>\n",
              "      <td>New Property</td>\n",
              "      <td>Unfurnished</td>\n",
              "      <td>SP Epitome</td>\n",
              "      <td>2</td>\n",
              "      <td>5000000.0</td>\n",
              "      <td>â‚¹3,876 per sqft</td>\n",
              "    </tr>\n",
              "    <tr>\n",
              "      <th>2</th>\n",
              "      <td>2 BHK Apartment for Sale in Pacifica Amara, Sa...</td>\n",
              "      <td>carpet area</td>\n",
              "      <td>588 sqft</td>\n",
              "      <td>ready</td>\n",
              "      <td>New Property</td>\n",
              "      <td>Unfurnished</td>\n",
              "      <td>Pacifica Amara</td>\n",
              "      <td>2</td>\n",
              "      <td>4000000.0</td>\n",
              "      <td>â‚¹3,738 per sqft</td>\n",
              "    </tr>\n",
              "    <tr>\n",
              "      <th>3</th>\n",
              "      <td>2 BHK Apartment for Sale in Kavisha AER, Shela...</td>\n",
              "      <td>carpet area</td>\n",
              "      <td>687 sqft</td>\n",
              "      <td>ready</td>\n",
              "      <td>New Property</td>\n",
              "      <td>Unfurnished</td>\n",
              "      <td>Kavisha AER</td>\n",
              "      <td>2</td>\n",
              "      <td>4880000.0</td>\n",
              "      <td>â‚¹3,900 per sqft</td>\n",
              "    </tr>\n",
              "    <tr>\n",
              "      <th>4</th>\n",
              "      <td>2 BHK Apartment for Sale in Aarambh Vistara, G...</td>\n",
              "      <td>carpet area</td>\n",
              "      <td>621 sqft</td>\n",
              "      <td>ready</td>\n",
              "      <td>New Property</td>\n",
              "      <td>Unfurnished</td>\n",
              "      <td>Aarambh Vistara</td>\n",
              "      <td>2</td>\n",
              "      <td>4800000.0</td>\n",
              "      <td>â‚¹4,248 per sqft</td>\n",
              "    </tr>\n",
              "  </tbody>\n",
              "</table>\n",
              "</div>"
            ],
            "text/plain": [
              "                                               Title    type_area value_area  \\\n",
              "0  2 BHK Apartment for Sale in Vivaan Aura, Zunda...   super area  155 sqyrd   \n",
              "1  2 BHK Apartment for Sale in SP Epitome, Shela ...  carpet area   710 sqft   \n",
              "2  2 BHK Apartment for Sale in Pacifica Amara, Sa...  carpet area   588 sqft   \n",
              "3  2 BHK Apartment for Sale in Kavisha AER, Shela...  carpet area   687 sqft   \n",
              "4  2 BHK Apartment for Sale in Aarambh Vistara, G...  carpet area   621 sqft   \n",
              "\n",
              "  status         floor  transaction       furnishing facing      price  \\\n",
              "0  ready  New Property  Unfurnished      Vivaan Aura      2  4810000.0   \n",
              "1  ready  New Property  Unfurnished       SP Epitome      2  5000000.0   \n",
              "2  ready  New Property  Unfurnished   Pacifica Amara      2  4000000.0   \n",
              "3  ready  New Property  Unfurnished      Kavisha AER      2  4880000.0   \n",
              "4  ready  New Property  Unfurnished  Aarambh Vistara      2  4800000.0   \n",
              "\n",
              "           price_sqft  \n",
              "0  â‚¹3,444 per sqft   \n",
              "1  â‚¹3,876 per sqft   \n",
              "2  â‚¹3,738 per sqft   \n",
              "3  â‚¹3,900 per sqft   \n",
              "4  â‚¹4,248 per sqft   "
            ]
          },
          "execution_count": 1542,
          "metadata": {},
          "output_type": "execute_result"
        }
      ],
      "source": [
        "df.head()"
      ]
    },
    {
      "cell_type": "code",
      "execution_count": 1543,
      "metadata": {
        "colab": {
          "base_uri": "https://localhost:8080/"
        },
        "execution": {
          "iopub.execute_input": "2024-06-24T15:03:57.442460Z",
          "iopub.status.busy": "2024-06-24T15:03:57.442056Z",
          "iopub.status.idle": "2024-06-24T15:03:57.449631Z",
          "shell.execute_reply": "2024-06-24T15:03:57.448511Z",
          "shell.execute_reply.started": "2024-06-24T15:03:57.442428Z"
        },
        "id": "Q6WI7CTE0u_n",
        "outputId": "f692dcda-01be-41ca-aff6-f48857f0293f"
      },
      "outputs": [
        {
          "data": {
            "text/plain": [
              "['Title',\n",
              " 'type_area',\n",
              " 'value_area',\n",
              " 'status',\n",
              " 'floor',\n",
              " 'transaction',\n",
              " 'furnishing',\n",
              " 'facing',\n",
              " 'price',\n",
              " 'price_sqft']"
            ]
          },
          "execution_count": 1543,
          "metadata": {},
          "output_type": "execute_result"
        }
      ],
      "source": [
        "# not so important but still if you want you can try storing name of fetaures in variable for record :)\n",
        "\n",
        "columns = list(df.columns)\n",
        "columns"
      ]
    },
    {
      "cell_type": "code",
      "execution_count": 1544,
      "metadata": {
        "colab": {
          "base_uri": "https://localhost:8080/"
        },
        "id": "obBDdT0A0u_p",
        "outputId": "45852ef8-051a-44ad-9c98-ed4da9ae4961"
      },
      "outputs": [
        {
          "name": "stdout",
          "output_type": "stream",
          "text": [
            "<class 'pandas.core.frame.DataFrame'>\n",
            "Index: 6667 entries, 0 to 6852\n",
            "Data columns (total 10 columns):\n",
            " #   Column       Non-Null Count  Dtype \n",
            "---  ------       --------------  ----- \n",
            " 0   Title        6667 non-null   object\n",
            " 1   type_area    6664 non-null   object\n",
            " 2   value_area   6667 non-null   object\n",
            " 3   status       6667 non-null   object\n",
            " 4   floor        6660 non-null   object\n",
            " 5   transaction  6648 non-null   object\n",
            " 6   furnishing   6633 non-null   object\n",
            " 7   facing       6581 non-null   object\n",
            " 8   price        6667 non-null   object\n",
            " 9   price_sqft   6241 non-null   object\n",
            "dtypes: object(10)\n",
            "memory usage: 572.9+ KB\n"
          ]
        }
      ],
      "source": [
        "df.info()"
      ]
    },
    {
      "cell_type": "code",
      "execution_count": 1545,
      "metadata": {
        "colab": {
          "base_uri": "https://localhost:8080/",
          "height": 81
        },
        "id": "ULZZr_Lx1nnW",
        "outputId": "2df99f32-0de3-46f9-9c8f-f3d30401d908"
      },
      "outputs": [
        {
          "data": {
            "text/html": [
              "<div>\n",
              "<style scoped>\n",
              "    .dataframe tbody tr th:only-of-type {\n",
              "        vertical-align: middle;\n",
              "    }\n",
              "\n",
              "    .dataframe tbody tr th {\n",
              "        vertical-align: top;\n",
              "    }\n",
              "\n",
              "    .dataframe thead th {\n",
              "        text-align: right;\n",
              "    }\n",
              "</style>\n",
              "<table border=\"1\" class=\"dataframe\">\n",
              "  <thead>\n",
              "    <tr style=\"text-align: right;\">\n",
              "      <th></th>\n",
              "      <th>Title</th>\n",
              "      <th>type_area</th>\n",
              "      <th>value_area</th>\n",
              "      <th>status</th>\n",
              "      <th>floor</th>\n",
              "      <th>transaction</th>\n",
              "      <th>furnishing</th>\n",
              "      <th>facing</th>\n",
              "      <th>price</th>\n",
              "      <th>price_sqft</th>\n",
              "    </tr>\n",
              "  </thead>\n",
              "  <tbody>\n",
              "    <tr>\n",
              "      <th>2490</th>\n",
              "      <td>3 BHK Apartment for Sale in Vedant Shreeji Enc...</td>\n",
              "      <td>carpet area</td>\n",
              "      <td>1600 sqft</td>\n",
              "      <td>ready</td>\n",
              "      <td>1 out of 4</td>\n",
              "      <td>Resale</td>\n",
              "      <td>Unfurnished</td>\n",
              "      <td>Garden/Park, Main Road</td>\n",
              "      <td>9700000.0</td>\n",
              "      <td>NaN</td>\n",
              "    </tr>\n",
              "  </tbody>\n",
              "</table>\n",
              "</div>"
            ],
            "text/plain": [
              "                                                  Title    type_area  \\\n",
              "2490  3 BHK Apartment for Sale in Vedant Shreeji Enc...  carpet area   \n",
              "\n",
              "     value_area status       floor transaction   furnishing  \\\n",
              "2490  1600 sqft  ready  1 out of 4      Resale  Unfurnished   \n",
              "\n",
              "                      facing      price price_sqft  \n",
              "2490  Garden/Park, Main Road  9700000.0        NaN  "
            ]
          },
          "execution_count": 1545,
          "metadata": {},
          "output_type": "execute_result"
        }
      ],
      "source": [
        "df.sample()"
      ]
    },
    {
      "cell_type": "code",
      "execution_count": 1546,
      "metadata": {
        "colab": {
          "base_uri": "https://localhost:8080/"
        },
        "id": "sxRd6SLz0u_q",
        "outputId": "e1794f79-7183-4bcb-e8fc-34421e55a9d7"
      },
      "outputs": [
        {
          "data": {
            "text/plain": [
              "array(['Unfurnished', 'New Property', 'Resale', 'Semi-Furnished',\n",
              "       'Furnished', 'Shakti Gardenia', 'Other', nan,\n",
              "       'Gajanan Dev Home Town 4', 'Karnavati Apartment II',\n",
              "       'Sangani Platinum', 'Saujanya II', 'Harsh Apartment',\n",
              "       'Bhagwat Elysium', 'Swati Greens', 'Shivalik Sharda Park View 2',\n",
              "       'Freehold', 'Harshdip Avadh Elegance', 'Bakeri City', '3',\n",
              "       'Veer Savarker Heights 2 Vasantnagar', 'Galaxy Gala Laxuria',\n",
              "       'Garden/Park', 'Orchid Heaven', '14 Covered',\n",
              "       'Shree Balaji Wind Park', 'Samyak 49', '24 Karat', 'The Indus',\n",
              "       'Super Shaligram', 'Times 40'], dtype=object)"
            ]
          },
          "execution_count": 1546,
          "metadata": {},
          "output_type": "execute_result"
        }
      ],
      "source": [
        "df[\"transaction\"].unique()"
      ]
    },
    {
      "cell_type": "code",
      "execution_count": 1547,
      "metadata": {
        "id": "04Y4z1Xt1nnY"
      },
      "outputs": [],
      "source": [
        "df = df.drop(['price_sqft'], axis=1)"
      ]
    },
    {
      "cell_type": "code",
      "execution_count": 1548,
      "metadata": {
        "colab": {
          "base_uri": "https://localhost:8080/",
          "height": 35
        },
        "id": "zqTBfU741nnZ",
        "outputId": "3199636e-b44d-4819-875c-a689546c5d17"
      },
      "outputs": [
        {
          "data": {
            "text/plain": [
              "'2 BHK Apartment for Sale in Sun Parkwest, Shela Ahmedabad'"
            ]
          },
          "execution_count": 1548,
          "metadata": {},
          "output_type": "execute_result"
        }
      ],
      "source": [
        "df['Title'][9]"
      ]
    },
    {
      "cell_type": "code",
      "execution_count": 1549,
      "metadata": {
        "colab": {
          "base_uri": "https://localhost:8080/",
          "height": 258
        },
        "id": "q6dhc698IQx3",
        "outputId": "736a40b0-8ea8-4d06-d3b8-82c0df08696d"
      },
      "outputs": [
        {
          "data": {
            "text/html": [
              "<div>\n",
              "<style scoped>\n",
              "    .dataframe tbody tr th:only-of-type {\n",
              "        vertical-align: middle;\n",
              "    }\n",
              "\n",
              "    .dataframe tbody tr th {\n",
              "        vertical-align: top;\n",
              "    }\n",
              "\n",
              "    .dataframe thead th {\n",
              "        text-align: right;\n",
              "    }\n",
              "</style>\n",
              "<table border=\"1\" class=\"dataframe\">\n",
              "  <thead>\n",
              "    <tr style=\"text-align: right;\">\n",
              "      <th></th>\n",
              "      <th>Title</th>\n",
              "      <th>type_area</th>\n",
              "      <th>value_area</th>\n",
              "      <th>status</th>\n",
              "      <th>floor</th>\n",
              "      <th>transaction</th>\n",
              "      <th>furnishing</th>\n",
              "      <th>facing</th>\n",
              "      <th>price</th>\n",
              "    </tr>\n",
              "  </thead>\n",
              "  <tbody>\n",
              "    <tr>\n",
              "      <th>6346</th>\n",
              "      <td>4 BHK Apartment for Sale in Shivalik Edge, Amb...</td>\n",
              "      <td>super area</td>\n",
              "      <td>5500 sqft</td>\n",
              "      <td>ready</td>\n",
              "      <td>12 out of 12</td>\n",
              "      <td>Resale</td>\n",
              "      <td>Unfurnished</td>\n",
              "      <td>East</td>\n",
              "      <td>45100000.0</td>\n",
              "    </tr>\n",
              "    <tr>\n",
              "      <th>159</th>\n",
              "      <td>2 BHK Apartment for Sale in Hathijan Ahmedabad</td>\n",
              "      <td>carpet area</td>\n",
              "      <td>420 sqft</td>\n",
              "      <td>ready</td>\n",
              "      <td>Resale</td>\n",
              "      <td>Furnished</td>\n",
              "      <td>Garden/Park, Pool, Main Road</td>\n",
              "      <td>2</td>\n",
              "      <td>3800000.0</td>\n",
              "    </tr>\n",
              "    <tr>\n",
              "      <th>5250</th>\n",
              "      <td>5 BHK Penthouse for Sale in Super Shaligram, G...</td>\n",
              "      <td>super area</td>\n",
              "      <td>5339 sqft</td>\n",
              "      <td>ready</td>\n",
              "      <td>21 out of 21</td>\n",
              "      <td>New Property</td>\n",
              "      <td>Unfurnished</td>\n",
              "      <td>East</td>\n",
              "      <td>34700000.0</td>\n",
              "    </tr>\n",
              "    <tr>\n",
              "      <th>3796</th>\n",
              "      <td>4 BHK Apartment for Sale in Aaryan Elan, Jagat...</td>\n",
              "      <td>carpet area</td>\n",
              "      <td>2718 sqft</td>\n",
              "      <td>ready</td>\n",
              "      <td>11 out of 14</td>\n",
              "      <td>New Property</td>\n",
              "      <td>Unfurnished</td>\n",
              "      <td>East</td>\n",
              "      <td>14500000.0</td>\n",
              "    </tr>\n",
              "    <tr>\n",
              "      <th>1295</th>\n",
              "      <td>2 BHK Builder Floor for Sale in Vastral Ahmedabad</td>\n",
              "      <td>super area</td>\n",
              "      <td>1300 sqft</td>\n",
              "      <td>ready</td>\n",
              "      <td>5 out of 6</td>\n",
              "      <td>Resale</td>\n",
              "      <td>Furnished</td>\n",
              "      <td>2</td>\n",
              "      <td>3000000.0</td>\n",
              "    </tr>\n",
              "  </tbody>\n",
              "</table>\n",
              "</div>"
            ],
            "text/plain": [
              "                                                  Title    type_area  \\\n",
              "6346  4 BHK Apartment for Sale in Shivalik Edge, Amb...   super area   \n",
              "159      2 BHK Apartment for Sale in Hathijan Ahmedabad  carpet area   \n",
              "5250  5 BHK Penthouse for Sale in Super Shaligram, G...   super area   \n",
              "3796  4 BHK Apartment for Sale in Aaryan Elan, Jagat...  carpet area   \n",
              "1295  2 BHK Builder Floor for Sale in Vastral Ahmedabad   super area   \n",
              "\n",
              "     value_area status         floor   transaction  \\\n",
              "6346  5500 sqft  ready  12 out of 12        Resale   \n",
              "159    420 sqft  ready        Resale     Furnished   \n",
              "5250  5339 sqft  ready  21 out of 21  New Property   \n",
              "3796  2718 sqft  ready  11 out of 14  New Property   \n",
              "1295  1300 sqft  ready    5 out of 6        Resale   \n",
              "\n",
              "                        furnishing facing       price  \n",
              "6346                   Unfurnished   East  45100000.0  \n",
              "159   Garden/Park, Pool, Main Road      2   3800000.0  \n",
              "5250                   Unfurnished   East  34700000.0  \n",
              "3796                   Unfurnished   East  14500000.0  \n",
              "1295                     Furnished      2   3000000.0  "
            ]
          },
          "execution_count": 1549,
          "metadata": {},
          "output_type": "execute_result"
        }
      ],
      "source": [
        "df.sample(5)"
      ]
    },
    {
      "cell_type": "code",
      "execution_count": null,
      "metadata": {
        "id": "pxFil4ZFIxyj"
      },
      "outputs": [],
      "source": []
    },
    {
      "cell_type": "code",
      "execution_count": 1550,
      "metadata": {
        "id": "TGaBvlbBI9uq"
      },
      "outputs": [],
      "source": [
        "# clean columns\n",
        "# 1 type area ----------------- looks good\n",
        "# 2 value area ------------ just convert sqft and sqm , sqyrd to one singel type\n",
        "# 3 floor ----------------- convert to 1/7 or something like it form\n",
        "# 4 transcations -------------- looks useless so may be drop it\n",
        "# 5 furnishing -------------------- search google or chatgpt as i cant under stand data\n",
        "# 6 facing ----------------------- make it direction only  or for good drop it as it is not releivent data\n",
        "# 7 Flat type(new column from title)----------- like 1 BHK , 2 BHK or other\n",
        "# 8 loaction or building name ---------- from title (after in and before ,)\n",
        "\n",
        "# so there will be about 7-8 meaningful columns after this"
      ]
    },
    {
      "cell_type": "code",
      "execution_count": 1551,
      "metadata": {
        "id": "9pkdW5Kbfy3C"
      },
      "outputs": [],
      "source": [
        "def flat_type(text):\n",
        "    match = re.search(r'(\\d+)', text , re.IGNORECASE)\n",
        "    if match:\n",
        "        return match.group(0)\n",
        "    return None\n",
        "\n",
        "\n",
        "df['BHK'] = df['Title'].apply(flat_type)"
      ]
    },
    {
      "cell_type": "code",
      "execution_count": 1552,
      "metadata": {
        "id": "U-HR4_xEq9jE"
      },
      "outputs": [],
      "source": [
        "def location(text):\n",
        "    match = re.search(r'\\bin\\b\\s+(.*)', text , re.IGNORECASE)\n",
        "    if match:\n",
        "        return match.group(1)\n",
        "    return None\n",
        "\n",
        "df['location'] = df['Title'].apply(location)"
      ]
    },
    {
      "cell_type": "code",
      "execution_count": 1553,
      "metadata": {
        "id": "lXmTtQE3t1a0"
      },
      "outputs": [],
      "source": [
        "# df.sample(10)"
      ]
    },
    {
      "cell_type": "code",
      "execution_count": 1554,
      "metadata": {
        "colab": {
          "base_uri": "https://localhost:8080/",
          "height": 460
        },
        "id": "W-itkKj6uuOo",
        "outputId": "e0ac9aa7-aec4-40a4-f256-c548b5985da8"
      },
      "outputs": [
        {
          "data": {
            "text/plain": [
              "Title           0\n",
              "type_area       3\n",
              "value_area      0\n",
              "status          0\n",
              "floor           7\n",
              "transaction    19\n",
              "furnishing     34\n",
              "facing         86\n",
              "price           0\n",
              "BHK            27\n",
              "location        0\n",
              "dtype: int64"
            ]
          },
          "execution_count": 1554,
          "metadata": {},
          "output_type": "execute_result"
        }
      ],
      "source": [
        "df.isnull().sum()"
      ]
    },
    {
      "cell_type": "code",
      "execution_count": 1555,
      "metadata": {
        "colab": {
          "base_uri": "https://localhost:8080/",
          "height": 537
        },
        "id": "-bO6tPkeu1rF",
        "outputId": "3ba8687f-3bd8-4c41-95cd-6e508e6e868e"
      },
      "outputs": [
        {
          "data": {
            "text/html": [
              "<div>\n",
              "<style scoped>\n",
              "    .dataframe tbody tr th:only-of-type {\n",
              "        vertical-align: middle;\n",
              "    }\n",
              "\n",
              "    .dataframe tbody tr th {\n",
              "        vertical-align: top;\n",
              "    }\n",
              "\n",
              "    .dataframe thead th {\n",
              "        text-align: right;\n",
              "    }\n",
              "</style>\n",
              "<table border=\"1\" class=\"dataframe\">\n",
              "  <thead>\n",
              "    <tr style=\"text-align: right;\">\n",
              "      <th></th>\n",
              "      <th>Title</th>\n",
              "      <th>type_area</th>\n",
              "      <th>value_area</th>\n",
              "      <th>status</th>\n",
              "      <th>floor</th>\n",
              "      <th>transaction</th>\n",
              "      <th>furnishing</th>\n",
              "      <th>facing</th>\n",
              "      <th>price</th>\n",
              "      <th>BHK</th>\n",
              "      <th>location</th>\n",
              "    </tr>\n",
              "  </thead>\n",
              "  <tbody>\n",
              "    <tr>\n",
              "      <th>0</th>\n",
              "      <td>2 BHK Apartment for Sale in Vivaan Aura, Zunda...</td>\n",
              "      <td>super area</td>\n",
              "      <td>155 sqyrd</td>\n",
              "      <td>ready</td>\n",
              "      <td>New Property</td>\n",
              "      <td>Unfurnished</td>\n",
              "      <td>Vivaan Aura</td>\n",
              "      <td>2</td>\n",
              "      <td>4810000.0</td>\n",
              "      <td>2</td>\n",
              "      <td>Vivaan Aura, Zundal Ahmedabad</td>\n",
              "    </tr>\n",
              "    <tr>\n",
              "      <th>1</th>\n",
              "      <td>2 BHK Apartment for Sale in SP Epitome, Shela ...</td>\n",
              "      <td>carpet area</td>\n",
              "      <td>710 sqft</td>\n",
              "      <td>ready</td>\n",
              "      <td>New Property</td>\n",
              "      <td>Unfurnished</td>\n",
              "      <td>SP Epitome</td>\n",
              "      <td>2</td>\n",
              "      <td>5000000.0</td>\n",
              "      <td>2</td>\n",
              "      <td>SP Epitome, Shela Ahmedabad</td>\n",
              "    </tr>\n",
              "    <tr>\n",
              "      <th>2</th>\n",
              "      <td>2 BHK Apartment for Sale in Pacifica Amara, Sa...</td>\n",
              "      <td>carpet area</td>\n",
              "      <td>588 sqft</td>\n",
              "      <td>ready</td>\n",
              "      <td>New Property</td>\n",
              "      <td>Unfurnished</td>\n",
              "      <td>Pacifica Amara</td>\n",
              "      <td>2</td>\n",
              "      <td>4000000.0</td>\n",
              "      <td>2</td>\n",
              "      <td>Pacifica Amara, Sanand Ahmedabad</td>\n",
              "    </tr>\n",
              "    <tr>\n",
              "      <th>3</th>\n",
              "      <td>2 BHK Apartment for Sale in Kavisha AER, Shela...</td>\n",
              "      <td>carpet area</td>\n",
              "      <td>687 sqft</td>\n",
              "      <td>ready</td>\n",
              "      <td>New Property</td>\n",
              "      <td>Unfurnished</td>\n",
              "      <td>Kavisha AER</td>\n",
              "      <td>2</td>\n",
              "      <td>4880000.0</td>\n",
              "      <td>2</td>\n",
              "      <td>Kavisha AER, Shela Ahmedabad</td>\n",
              "    </tr>\n",
              "    <tr>\n",
              "      <th>4</th>\n",
              "      <td>2 BHK Apartment for Sale in Aarambh Vistara, G...</td>\n",
              "      <td>carpet area</td>\n",
              "      <td>621 sqft</td>\n",
              "      <td>ready</td>\n",
              "      <td>New Property</td>\n",
              "      <td>Unfurnished</td>\n",
              "      <td>Aarambh Vistara</td>\n",
              "      <td>2</td>\n",
              "      <td>4800000.0</td>\n",
              "      <td>2</td>\n",
              "      <td>Aarambh Vistara, Gota Ahmedabad</td>\n",
              "    </tr>\n",
              "    <tr>\n",
              "      <th>5</th>\n",
              "      <td>2 BHK Apartment for Sale in Vivaan Essence, Zu...</td>\n",
              "      <td>super area</td>\n",
              "      <td>1413 sqft</td>\n",
              "      <td>ready</td>\n",
              "      <td>New Property</td>\n",
              "      <td>Unfurnished</td>\n",
              "      <td>Vivaan Essence</td>\n",
              "      <td>1 Covered</td>\n",
              "      <td>4990000.0</td>\n",
              "      <td>2</td>\n",
              "      <td>Vivaan Essence, Zundal Ahmedabad</td>\n",
              "    </tr>\n",
              "    <tr>\n",
              "      <th>6</th>\n",
              "      <td>2 BHK Apartment for Sale in Kavisha AER, Shela...</td>\n",
              "      <td>carpet area</td>\n",
              "      <td>700 sqft</td>\n",
              "      <td>ready</td>\n",
              "      <td>7 out of 14</td>\n",
              "      <td>New Property</td>\n",
              "      <td>Unfurnished</td>\n",
              "      <td>East</td>\n",
              "      <td>4910000.0</td>\n",
              "      <td>2</td>\n",
              "      <td>Kavisha AER, Shela Ahmedabad</td>\n",
              "    </tr>\n",
              "    <tr>\n",
              "      <th>7</th>\n",
              "      <td>2 BHK Apartment for Sale in Vivaan Aura, Zunda...</td>\n",
              "      <td>carpet area</td>\n",
              "      <td>85 sqyrd</td>\n",
              "      <td>ready</td>\n",
              "      <td>11 out of 14</td>\n",
              "      <td>New Property</td>\n",
              "      <td>Unfurnished</td>\n",
              "      <td>East</td>\n",
              "      <td>4840000.0</td>\n",
              "      <td>2</td>\n",
              "      <td>Vivaan Aura, Zundal Ahmedabad</td>\n",
              "    </tr>\n",
              "    <tr>\n",
              "      <th>8</th>\n",
              "      <td>2 BHK Apartment for Sale in Kavisha Atria, She...</td>\n",
              "      <td>carpet area</td>\n",
              "      <td>655 sqft</td>\n",
              "      <td>ready</td>\n",
              "      <td>New Property</td>\n",
              "      <td>Unfurnished</td>\n",
              "      <td>North - East</td>\n",
              "      <td>Garden/Park</td>\n",
              "      <td>4520000.0</td>\n",
              "      <td>2</td>\n",
              "      <td>Kavisha Atria, Shela Ahmedabad</td>\n",
              "    </tr>\n",
              "    <tr>\n",
              "      <th>9</th>\n",
              "      <td>2 BHK Apartment for Sale in Sun Parkwest, Shel...</td>\n",
              "      <td>carpet area</td>\n",
              "      <td>676 sqft</td>\n",
              "      <td>ready</td>\n",
              "      <td>5 out of 14</td>\n",
              "      <td>New Property</td>\n",
              "      <td>Unfurnished</td>\n",
              "      <td>East</td>\n",
              "      <td>4260000.0</td>\n",
              "      <td>2</td>\n",
              "      <td>Sun Parkwest, Shela Ahmedabad</td>\n",
              "    </tr>\n",
              "  </tbody>\n",
              "</table>\n",
              "</div>"
            ],
            "text/plain": [
              "                                               Title    type_area value_area  \\\n",
              "0  2 BHK Apartment for Sale in Vivaan Aura, Zunda...   super area  155 sqyrd   \n",
              "1  2 BHK Apartment for Sale in SP Epitome, Shela ...  carpet area   710 sqft   \n",
              "2  2 BHK Apartment for Sale in Pacifica Amara, Sa...  carpet area   588 sqft   \n",
              "3  2 BHK Apartment for Sale in Kavisha AER, Shela...  carpet area   687 sqft   \n",
              "4  2 BHK Apartment for Sale in Aarambh Vistara, G...  carpet area   621 sqft   \n",
              "5  2 BHK Apartment for Sale in Vivaan Essence, Zu...   super area  1413 sqft   \n",
              "6  2 BHK Apartment for Sale in Kavisha AER, Shela...  carpet area   700 sqft   \n",
              "7  2 BHK Apartment for Sale in Vivaan Aura, Zunda...  carpet area   85 sqyrd   \n",
              "8  2 BHK Apartment for Sale in Kavisha Atria, She...  carpet area   655 sqft   \n",
              "9  2 BHK Apartment for Sale in Sun Parkwest, Shel...  carpet area   676 sqft   \n",
              "\n",
              "  status         floor   transaction       furnishing       facing      price  \\\n",
              "0  ready  New Property   Unfurnished      Vivaan Aura            2  4810000.0   \n",
              "1  ready  New Property   Unfurnished       SP Epitome            2  5000000.0   \n",
              "2  ready  New Property   Unfurnished   Pacifica Amara            2  4000000.0   \n",
              "3  ready  New Property   Unfurnished      Kavisha AER            2  4880000.0   \n",
              "4  ready  New Property   Unfurnished  Aarambh Vistara            2  4800000.0   \n",
              "5  ready  New Property   Unfurnished   Vivaan Essence    1 Covered  4990000.0   \n",
              "6  ready   7 out of 14  New Property      Unfurnished         East  4910000.0   \n",
              "7  ready  11 out of 14  New Property      Unfurnished         East  4840000.0   \n",
              "8  ready  New Property   Unfurnished     North - East  Garden/Park  4520000.0   \n",
              "9  ready   5 out of 14  New Property      Unfurnished         East  4260000.0   \n",
              "\n",
              "  BHK                          location  \n",
              "0   2     Vivaan Aura, Zundal Ahmedabad  \n",
              "1   2       SP Epitome, Shela Ahmedabad  \n",
              "2   2  Pacifica Amara, Sanand Ahmedabad  \n",
              "3   2      Kavisha AER, Shela Ahmedabad  \n",
              "4   2   Aarambh Vistara, Gota Ahmedabad  \n",
              "5   2  Vivaan Essence, Zundal Ahmedabad  \n",
              "6   2      Kavisha AER, Shela Ahmedabad  \n",
              "7   2     Vivaan Aura, Zundal Ahmedabad  \n",
              "8   2    Kavisha Atria, Shela Ahmedabad  \n",
              "9   2     Sun Parkwest, Shela Ahmedabad  "
            ]
          },
          "execution_count": 1555,
          "metadata": {},
          "output_type": "execute_result"
        }
      ],
      "source": [
        "df.head(10)"
      ]
    },
    {
      "cell_type": "code",
      "execution_count": 1556,
      "metadata": {
        "colab": {
          "base_uri": "https://localhost:8080/"
        },
        "id": "fWUjhZvZuk2V",
        "outputId": "688694e5-6775-4c34-a3ac-f0ca9d4696c8"
      },
      "outputs": [
        {
          "data": {
            "text/plain": [
              "['Vivaan Aura, Zundal Ahmedabad',\n",
              " 'SP Epitome, Shela Ahmedabad',\n",
              " 'Pacifica Amara, Sanand Ahmedabad',\n",
              " 'Kavisha AER, Shela Ahmedabad',\n",
              " 'Aarambh Vistara, Gota Ahmedabad',\n",
              " 'Vivaan Essence, Zundal Ahmedabad',\n",
              " 'Kavisha Atria, Shela Ahmedabad',\n",
              " 'Sun Parkwest, Shela Ahmedabad',\n",
              " 'Shilp Ananta, Shela Ahmedabad',\n",
              " 'Zundal Ahmedabad',\n",
              " 'Savvy Studioz, Jagatpur Ahmedabad',\n",
              " 'Devam, Jagatpur Ahmedabad',\n",
              " 'Orchid Blues, Shela Ahmedabad',\n",
              " 'Aadhvan Rise, South Bopal, Bopal Ahmedabad',\n",
              " 'Atlantis wave Ahmedabad',\n",
              " 'Zaveri Greens, Ghuma Ahmedabad',\n",
              " 'Mahadev Lavish, South Bopal, Bopal Ahmedabad',\n",
              " 'Sun Footprints, Shela Ahmedabad',\n",
              " 'Eden Godrej Garden city, Jagatpur Village, Gota Ahmedabad',\n",
              " 'Sacred Shivansh, Shela Ahmedabad',\n",
              " 'Sheladia Eris, Shela Ahmedabad',\n",
              " 'Shela Ahmedabad',\n",
              " 'Gota Ahmedabad',\n",
              " 'HR Eternia, Shela Ahmedabad',\n",
              " 'Indraprasth Ixora, Shela Ahmedabad',\n",
              " 'Shoolin Kopren Park View, Vasant Nagar Ahmedabad',\n",
              " 'Aarambh Zest, Gota Ahmedabad',\n",
              " 'Aarohi Club Road Ahmedabad',\n",
              " 'Orchid Valley, Shela Ahmedabad',\n",
              " 'Mahadev Harsh Platinum 3, Bopal Ahmedabad',\n",
              " 'Ahmedabad',\n",
              " 'CTM, Amraiwadi Ahmedabad',\n",
              " 'Applewood Estate Satyesh Residency, Bopal Ahmedabad',\n",
              " 'Jagatpur Ahmedabad',\n",
              " 'Silverline Residency, New CG Road Ahmedabad',\n",
              " 'Ganesh Genesis, Jagatpur Village, Gota Ahmedabad',\n",
              " 'Zion Heights, Vastral Ahmedabad',\n",
              " 'Vatva Ahmedabad',\n",
              " 'Ranip Ahmedabad',\n",
              " 'Vandematram City, Gota Ahmedabad',\n",
              " 'Godrej Green Glades, Jagatpur Ahmedabad',\n",
              " 'Shree Vishnudhara Homes, Devnagar, Gota Ahmedabad',\n",
              " 'Premjyot Tower, Gurukul Ahmedabad',\n",
              " 'Vinzol Ahmedabad',\n",
              " 'Shaligram Prime, South Bopal, Bopal Ahmedabad',\n",
              " 'Shoolin Kopren Park View, Ognaj Ahmedabad',\n",
              " 'Bopal Ahmedabad',\n",
              " 'Avalon courtyard, Ghodasar Ahmedabad',\n",
              " 'Narolgam Ahmedabad',\n",
              " 'Shrinand city-1 Ahmedabad',\n",
              " 'Aditya Enclave, Behrampura Ahmedabad',\n",
              " 'Garden Paradise, Bopal Ahmedabad',\n",
              " 'Parshwanath Atlantis Park, Sughad Ahmedabad',\n",
              " 'Prakruti Residency, Vastral Ahmedabad',\n",
              " 'Shukun Heights, Vastral Ahmedabad',\n",
              " 'Vasna Ahmedabad',\n",
              " 'Orchid Greenfield, Sardar Patel Ring Road Ahmedabad',\n",
              " 'Ghatlodiya Ahmedabad',\n",
              " 'Yash Flora, Nikol Ahmedabad',\n",
              " 'Sanatan Residency, Vejalpur, Jivraj park Ahmedabad',\n",
              " 'Swareet, Vejalpur, Jivraj park Ahmedabad',\n",
              " 'Godrej Garden City, Chandkheda Ahmedabad',\n",
              " 'Vaishnodevi Circle Ahmedabad',\n",
              " 'Vrundavan Skyline, Vastral Ahmedabad',\n",
              " 'New Maninagar Ahmedabad',\n",
              " 'Naroda Ahmedabad',\n",
              " 'Vastral Ahmedabad',\n",
              " 'Nava Naroda Ahmedabad',\n",
              " 'Bapashree Park Ahmedabad',\n",
              " 'Nikol Ahmedabad',\n",
              " 'Maninagar Ahmedabad',\n",
              " 'Radheshyam Residency, Nikol Ahmedabad',\n",
              " 'Hanspura, Naroda Ahmedabad',\n",
              " 'Orchid Green Field, Sardar Patel Ring Road Ahmedabad',\n",
              " 'Sky One, North Bopal Ahmedabad',\n",
              " 'Vandanam, Gota Ahmedabad',\n",
              " 'Vrundavan Vihar, Vastral Ahmedabad',\n",
              " 'Aleta, Jagatpur Ahmedabad',\n",
              " 'Saraspur Ahmedabad',\n",
              " 'Swastikkrut, Bopal Ahmedabad',\n",
              " 'Shrifal Apartment, Gota Ahmedabad',\n",
              " 'Madhav Homes, Vastral Ahmedabad',\n",
              " 'HR Evernest, South Bopal, Bopal Ahmedabad',\n",
              " 'Godrej Garden City, Gota Ahmedabad',\n",
              " 'Memnagar Ahmedabad',\n",
              " 'Maher Homes 5, Shela Ahmedabad',\n",
              " 'Saujanya, Khokhra Ahmedabad',\n",
              " 'Sun Atmosphere, Shela Ahmedabad',\n",
              " 'Saanvi Nirman Solace, South Bopal, Bopal Ahmedabad',\n",
              " 'Omro Anmol Avenue, Nikol Ahmedabad',\n",
              " 'Khadia Ahmedabad',\n",
              " 'Prathna Dev Residency, Gota Gam Ahmedabad',\n",
              " 'Shagun 108, Zundal circle Ahmedabad',\n",
              " 'Palash Homes, Shantipura Circle Ahmedabad',\n",
              " 'South Bopal, Bopal Ahmedabad',\n",
              " 'Saanvi Aarambh, Chandlodiya Ahmedabad',\n",
              " 'Parshwanath Atlantis Park, Parshwanath Atlantis Park Ahmedabad',\n",
              " 'New Ranip Ahmedabad',\n",
              " 'shukan lotus Ahmedabad',\n",
              " 'Shukan Lotus , Gota Ahmedabad',\n",
              " 'Rudra Anmol Arise, Vinzol Ahmedabad',\n",
              " 'Silver Pearl, Chanakyapuri Ahmedabad',\n",
              " 'SP Nirvana, South Bopal, Bopal Ahmedabad',\n",
              " 'Shaunak Apartments, Vejalpur, Jivraj park Ahmedabad',\n",
              " 'Ghodasar Ahmedabad',\n",
              " 'Hathijan Ahmedabad',\n",
              " 'Merlin Sparsh, Narolgam Ahmedabad',\n",
              " 'Pavansut Monarc Clans, Zundal Ahmedabad',\n",
              " 'Sarkhej Gandhinagar Highway Ahmedabad',\n",
              " 'Pavan Apartment, Nikol Ahmedabad',\n",
              " 'Sainath Avenue, Kasindra Ahmedabad',\n",
              " 'Aaryan Gloria, South Bopal, Bopal Ahmedabad',\n",
              " 'Ganesh Genesis, Gota Ahmedabad',\n",
              " 'shashwat vinayak vastral Ahmedabad',\n",
              " 'Ramdevnagar Road Ahmedabad',\n",
              " 'Shree Vallabh Devgram Residency, Nana Chiloda Ahmedabad',\n",
              " 'Sorrel Apartments, Shela Ahmedabad',\n",
              " 'Happy Uptown, Shela Ahmedabad',\n",
              " 'Shivalik Kirtisagar Apartment, Satellite Ahmedabad',\n",
              " 'Shreeji Tulsi Heights, Tragad Ahmedabad',\n",
              " 'Vrindavan Godrej Garden City, Jagatpur Village, Gota Ahmedabad',\n",
              " 'Satyesh Residency, Sardar Patel Ring Road Ahmedabad',\n",
              " 'Bopal Road Ahmedabad',\n",
              " 'Viaan Skyrise, New Vatva Road Ahmedabad',\n",
              " 'Abhay Ratna Shashwat, Chandlodiya Ahmedabad',\n",
              " 'Harmony Happy Heights , Ghuma Ahmedabad',\n",
              " 'Palm Greens Makarba, Makarba Ahmedabad',\n",
              " 'Orchid Greenfields, South Bopal, Bopal Ahmedabad',\n",
              " 'Maher Homes, Shela Ahmedabad',\n",
              " 'Sun Rising Homes, Jagatpur Ahmedabad',\n",
              " 'Sky Sol, South Bopal, Bopal Ahmedabad',\n",
              " 'Paramdham Society, Bopal Ahmedabad',\n",
              " 'Arihant Nagar Naroda Ahmedabad',\n",
              " 'Sun Simpolo, North Bopal Ahmedabad',\n",
              " 'Soham Sanidhya, New Maninagar Ahmedabad',\n",
              " 'Stavan Parishray, Gota Ahmedabad',\n",
              " 'New CG Road Ahmedabad',\n",
              " 'Paldi Ahmedabad',\n",
              " 'Madhuram Flora 2, Chandkheda Ahmedabad',\n",
              " 'Ganesh Genesis, Sarkhej Gandhinagar Highway Ahmedabad',\n",
              " 'Ganesh Residency, Chandkheda Ahmedabad',\n",
              " 'Motera Ahmedabad',\n",
              " 'Chanakyapuri Ahmedabad',\n",
              " 'Stavan Ample, Devnagar, Gota Ahmedabad',\n",
              " 'Vejalpur, Jivraj park Ahmedabad',\n",
              " 'Adani Aangan, Vaishnodevi Circle Ahmedabad',\n",
              " 'Vastral Road Ahmedabad',\n",
              " 'Avalon Skyline, Vatva Ahmedabad',\n",
              " 'Vasan Ahmedabad',\n",
              " 'Dev Darshan Apartment, Ranip Ahmedabad',\n",
              " 'Bhagirath City Homes, Narolgam Ahmedabad',\n",
              " 'Ashraya 10, New Ranip Ahmedabad',\n",
              " 'Vyapti Himali Tower, Satellite Ahmedabad',\n",
              " 'Aryaman Heights, Vatva Ahmedabad',\n",
              " 'Nava Naroda Road Ahmedabad',\n",
              " 'Vrindavan Godrej Garden City, Sarkhej Gandhinagar Highway Ahmedabad',\n",
              " 'BelleVue Vieraaa, Chandkheda Ahmedabad',\n",
              " 'Vraj Dham II, Ghatlodiya Ahmedabad',\n",
              " 'Nicol Gam Ahmedabad',\n",
              " 'Smarana, Vejalpur, Jivraj park Ahmedabad',\n",
              " 'Shakti Tulsi Residency, Chandkheda Ahmedabad',\n",
              " 'Sangath 2, Motera Ahmedabad',\n",
              " 'Dev Paradise, Chandkheda Ahmedabad',\n",
              " 'Rameshwaram Apartment, Kameshwar Vihar Satellite Ahmedabad',\n",
              " 'Chandkheda Ahmedabad',\n",
              " 'Adani Aangan, Sarkhej Gandhinagar Highway Ahmedabad',\n",
              " 'satya Ahmedabad',\n",
              " 'Isanpur Ahmedabad',\n",
              " 'Shaunak Apartments, Bakeri City Ahmedabad',\n",
              " 'Vyapti Himali Towers, Shyamal Ahmedabad',\n",
              " 'Karnavati Enclave, Ramol, Amraiwadi Ahmedabad',\n",
              " 'Aakash Residency, Shela Ahmedabad',\n",
              " 'Vrindavan Godrej Garden City, Gota Ahmedabad',\n",
              " 'Navrangpura Ahmedabad',\n",
              " 'Arvind Aavishkaar, Naroda Road Ahmedabad',\n",
              " 'Safal Parishkaar 2, Amraiwadi Ahmedabad',\n",
              " 'Eden Godrej Garden city, Sarkhej Gandhinagar Highway Ahmedabad',\n",
              " 'Sarvopari Elegance, Ranip Ahmedabad',\n",
              " 'Shubham Galaxy, Naroda Ahmedabad',\n",
              " 'Jigish Rohitbhai Patel Jahnvi Residency Phase 2, Maninagar Ahmedabad',\n",
              " 'Mayur Apartment, Shahpur Ahmedabad',\n",
              " 'Saanvi Aarambh, Shivshakti Nagar Chandlodiya Ahmedabad',\n",
              " 'Silver Pearl, Sarkhej Gandhinagar Highway Ahmedabad',\n",
              " 'Saujanya II, Khokhra Ahmedabad',\n",
              " 'Shalin Heights 1, Narolgam Ahmedabad',\n",
              " 'Swaminarayan Park Phase 5, Naroda Ahmedabad',\n",
              " 'Aarambh, Changodar Ahmedabad',\n",
              " 'Nana Chiloda Gam Ahmedabad',\n",
              " 'Nana Chiloda Ahmedabad',\n",
              " 'Suryam Elegance, Vastral Ahmedabad',\n",
              " 'Shyam Tirth, Chandlodiya Ahmedabad',\n",
              " 'Sarovar 4, Bapa Sitaram Chowk Road Ahmedabad',\n",
              " 'Shyam Villa Greens, Nikol Ahmedabad',\n",
              " 'Ankur Chokadi Ahmedabad',\n",
              " 'Gajanan Dev Residency 2, Tragad Ahmedabad',\n",
              " 'Sola Road Ahmedabad',\n",
              " 'Karnavati 3, Narolgam Ahmedabad',\n",
              " 'Narol Ahmedabad',\n",
              " 'Nijanand Pushkar Elegance, Ghodasar Ahmedabad',\n",
              " 'Shakti Gardenia, Vatva Ahmedabad',\n",
              " 'Sanand Ahmedabad',\n",
              " 'Panchsheel Residency, Gota Ahmedabad',\n",
              " 'Shashwat Mahadev Heights, Vastral Ahmedabad',\n",
              " 'Siddharth Icon, Tragad Ahmedabad',\n",
              " 'Sun Real Homes, Ranip Ahmedabad',\n",
              " 'Shilp Solace, Chandkheda Ahmedabad',\n",
              " 'Riverside Park, Vasna Ahmedabad',\n",
              " 'Navkar Kala Dham, Chandkheda Ahmedabad',\n",
              " 'New Vatva Road Ahmedabad',\n",
              " 'VandeMatram Prime, 2bhk vandanam gota Ahmedabad',\n",
              " 'Sujan appartment, Jaymala, Isanpur Ahmedabad',\n",
              " 'Ghuma Ahmedabad',\n",
              " 'samarpan Avenue Ahmedabad',\n",
              " 'Bopal, Ahmedabad Ahmedabad',\n",
              " 'ICB Park, Chandlodiya Ahmedabad',\n",
              " 'Laxmi Nivas, Narolgam Ahmedabad',\n",
              " 'Shree Prayosha Residency, Vinzol Ahmedabad',\n",
              " 'Shashwat Mahadev Heights, Sardar Patel Ring Road Ahmedabad',\n",
              " 'Narayan Nagar Ahmedabad',\n",
              " 'sarfaraj sarkar Ahmedabad',\n",
              " 'Shree Sahjanand Residency, Daskroi Ahmedabad',\n",
              " 'Anand Apartment, Hathijan Ahmedabad',\n",
              " 'Rashmi Vihar, Narolgam Ahmedabad',\n",
              " 'Dharti Silver, Chandkheda Ahmedabad',\n",
              " 'Green City, Nirnay Nagar Ahmedabad',\n",
              " 'Bakeri Suprabh Studio Apartment, Juhapura Ahmedabad',\n",
              " 'Neeldip Complex Ahmedabad',\n",
              " 'Pramukh Avenue Ahmedabad',\n",
              " 'Shreeji Sky, Lambha Ahmedabad',\n",
              " 'Avkar hall Ahmedabad',\n",
              " 'DBS Umang Homes, Naroda Ahmedabad',\n",
              " 'Pramukh Darshan Apartment Ahmedabad',\n",
              " 'Bhagvat enclave Ahmedabad',\n",
              " 'Sainath Karnavati Apartment 5, Vatva Ahmedabad',\n",
              " 'Suryam Greens, Vastral Ahmedabad',\n",
              " 'Swastik Elegance, Tragad Ahmedabad',\n",
              " 'Krish Elite, Nikol Ahmedabad',\n",
              " 'Tulsi status Ahmedabad',\n",
              " 'Galaxy Anmol Galaxy 77, Nikol Ahmedabad',\n",
              " 'Swaminarayan Park Nava Naroda Ahmedabad',\n",
              " 'Sabarmati Ahmedabad',\n",
              " 'Shri Hari Sahitya Residency, Vastral Ahmedabad',\n",
              " 'RP Suvarnam Heights, Sardar Colony Ahmedabad',\n",
              " 'Naroda Road Ahmedabad',\n",
              " 'Jamalpur Ahmedabad',\n",
              " 'Shilpika Appartment, Chandlodiya, Ahmedabad Ahmedabad',\n",
              " 'Samor Residency, Narolgam Ahmedabad',\n",
              " 'Shrinandnagar Part 5 Vejalpur, Makarba Ahmedabad',\n",
              " 'Indiabulls Centrum Ahmedabad, Saraspur Ahmedabad',\n",
              " 'Gajanan Hill, Narol Vatva Road Ahmedabad',\n",
              " 'Shankheshwar Township Block A G H And I, Naroda Ahmedabad',\n",
              " 'Sharnam Residency, Vastral Ahmedabad',\n",
              " 'Dev Aashish Pride And Plaza, Hanspura, Naroda Ahmedabad',\n",
              " 'Mahadev Platinum, Ghodasar Ahmedabad',\n",
              " 'Astodia, Khamasa Ahmedabad',\n",
              " 'Mangalam Sanskrut Flat, Sanskrut Flat, Ghatlodiya, Ahmedabad Ahmedabad',\n",
              " 'Suryam Pride, Vastral Ahmedabad',\n",
              " 'Rashmi Flat, near Godavari Derasar, Vasna Ahmedabad',\n",
              " 'Prathna Parisar, Naroda Ahmedabad',\n",
              " 'Bhulabhai Park, Behrampura Ahmedabad',\n",
              " 'Kalash 2 Enclave, Vatva Ahmedabad',\n",
              " 'Jodhpur Gam Road Ahmedabad',\n",
              " 'Aavkar Height, Chandkheda Ahmedabad',\n",
              " 'Shree Ram Heights, Muthia Ahmedabad',\n",
              " 'Sarjan Tower, Memnagar Ahmedabad',\n",
              " 'Maitri Lake View, Zundal Ahmedabad',\n",
              " 'Godrej Vananta, Sarkhej Gandhinagar Highway Ahmedabad',\n",
              " 'dev hometown 4 Ahmedabad',\n",
              " 'Radhey Residency, Hathijan Ahmedabad',\n",
              " 'Aakruti Township, Narolgam Ahmedabad',\n",
              " 'Maninagar East, Maninagar Ahmedabad',\n",
              " 'R D Sai Sharnam And Sai Platinum, Naroda Ahmedabad',\n",
              " 'Safal Parishkaar, Maningar East, Khokhra Ahmedabad',\n",
              " 'Shahpur Ahmedabad',\n",
              " 'Neelkanth Residency, Narolgam Ahmedabad',\n",
              " 'Platina, New CG Road Ahmedabad',\n",
              " 'Riddhi Siddhi Parivar Homes, Gota Ahmedabad',\n",
              " 'Tragad Ahmedabad',\n",
              " 'Kalol Ahmedabad',\n",
              " 'Shubh Jivan, Vastral Ahmedabad',\n",
              " 'Tragad Road Ahmedabad',\n",
              " 'Dharm Vatika, Hathijan Ahmedabad',\n",
              " 'Dev Castle, Govindwadi Ahmedabad',\n",
              " 'Visva Kunj, Ghuma Ahmedabad',\n",
              " 'Changodar Ahmedabad',\n",
              " 'Satej Homes, Vatva Ahmedabad',\n",
              " 'Jashoda Nagar Ahmedabad',\n",
              " 'Shantipura Ahmedabad',\n",
              " 'Divya Jivan Residency, Chandkheda Ahmedabad',\n",
              " 'Someshwar Sunsiesta, Vaishnodevi Circle Ahmedabad',\n",
              " 'Prathna Lavish, Gota Ahmedabad',\n",
              " 'Nikol Naroda Road Ahmedabad',\n",
              " 'Thaltej Ahmedabad',\n",
              " 'New Maninagar Road Ahmedabad',\n",
              " 'Isanpur Road Ahmedabad',\n",
              " 'Nehru Park Ahmedabad',\n",
              " 'Poddar Heights, Chandkheda Ahmedabad',\n",
              " 'Maruti 7, Tragad Ahmedabad',\n",
              " 'Gurukul Ahmedabad',\n",
              " 'New Naroda Ahmedabad',\n",
              " 'Dholka Ahmedabad',\n",
              " 'Abjibapa Lakeview, Vastral Ahmedabad',\n",
              " 'Nava Vadaj Ahmedabad',\n",
              " 'Chenpur Road Ahmedabad',\n",
              " 'Shastrinagar, Nirnay Nagar Ahmedabad',\n",
              " 'Krishna Nagar Saijpur Bogha Ahmedabad',\n",
              " 'Sangani Homz, Vatva Ahmedabad',\n",
              " 'Satyay Sarthi Height, Nikol Ahmedabad',\n",
              " 'united Amaltous Ahmedabad',\n",
              " 'Kuber Nagar Ahmedabad',\n",
              " 'Dariyapur Ahmedabad',\n",
              " 'Khanpur Ahmedabad',\n",
              " 'Savaliya Krish Avenue 2, Vastral Ahmedabad',\n",
              " 'Sushrut Saujanya III, Maninagar East, Maninagar Ahmedabad',\n",
              " 'Raipur, Khadia Ahmedabad',\n",
              " 'Sardar Patel Ring Road Ahmedabad',\n",
              " 'Prahlad Nagar Ahmedabad',\n",
              " 'Pushpkunj, Maninagar Ahmedabad',\n",
              " 'Hiloni 444, Naroda Ahmedabad',\n",
              " 'Sarkhej Ahmedabad',\n",
              " 'Hansol Ahmedabad',\n",
              " 'Bapunagar Ahmedabad',\n",
              " 'Kalupur Ahmedabad',\n",
              " 'off sindhubhavan thaltej Ahmedabad',\n",
              " 'Project Vastrapur, Vastrapur Ahmedabad',\n",
              " 'Geratpur Ahmedabad',\n",
              " 'India Colony, Bapunagar Ahmedabad',\n",
              " 'Godhavi Ahmedabad',\n",
              " 'Khokhra Ahmedabad',\n",
              " 'Nandej Ahmedabad',\n",
              " 'Moraiya Ahmedabad',\n",
              " 'Devraj Residency, New Naroda Ahmedabad',\n",
              " 'Sepal Elegant 1, Vatva Ahmedabad',\n",
              " 'Sanatan Residency, Part 1 Vejalpur Ahmedabad',\n",
              " 'Bhadaj Ahmedabad',\n",
              " 'NAROL Ahmedabad',\n",
              " 'Athithi Ashray, Narolgam Ahmedabad',\n",
              " 'Mahavir Daksh Residency, Nikol Ahmedabad',\n",
              " 'Dev Exotica, Ghuma Ahmedabad',\n",
              " 'Vejalpur Road Ahmedabad',\n",
              " 'Shrinandnagar part 4 L Block 202 Ahmedabad',\n",
              " 'Shiv Swati Apartment, Nana Chiloda Ahmedabad',\n",
              " 'Aryaman Awas, Narolgam Ahmedabad',\n",
              " 'Satyam Sarjan, Changodar Ahmedabad',\n",
              " 'Bopal Shilaj Road Ahmedabad',\n",
              " 'Ratanpura Gam Ahmedabad',\n",
              " 'Gujrat Housing Board, Krishna Nagar Saijpur Bogha Ahmedabad',\n",
              " 'Kalash Parisar and Plaza, Naroda Ahmedabad',\n",
              " 'Mukhyamantri Awas Yojana Ahmedabad, Gota Ahmedabad',\n",
              " 'Savvy Swaraaj, Jagatpur Ahmedabad',\n",
              " 'Nandanvan Heights, Narolgam Ahmedabad',\n",
              " 'Ramol Residency, Ramol, Amraiwadi Ahmedabad',\n",
              " 'Samruddhi Residency, Narolgam Ahmedabad',\n",
              " 'Bhagwat Elegance, Narolgam Ahmedabad',\n",
              " 'jayraj flats Ahmedabad',\n",
              " 'Ambawadi Ahmedabad',\n",
              " 'Sanskrut Apartments, Ghatlodiya Ahmedabad',\n",
              " 'Gokul Platinum, Ghodasar Ahmedabad',\n",
              " 'Law Garden Ahmedabad',\n",
              " 'Shahibag Ahmedabad',\n",
              " 'Gujarat housing board sanand Ahmedabad',\n",
              " 'Shilp enclave, jantagar Ahmedabad',\n",
              " 'Janta Nagar Chandkheda Ahmedabad',\n",
              " 'Bopal Ghuma Road Ahmedabad',\n",
              " 'Swaminarayan Park III, Vasna Ahmedabad',\n",
              " 'sahaj solitaire Ahmedabad',\n",
              " 'Ganesh Green, New Ranip Ahmedabad',\n",
              " 'Old Wadaj Ahmedabad',\n",
              " 'Vadsar Ahmedabad',\n",
              " 'Daxini Society, Maninagar Ahmedabad',\n",
              " 'Kankaria Ahmedabad',\n",
              " 'Mihir Tower, jawahar chowk Uttamnagar Ahmedabad',\n",
              " 'Jay Residency, Vastral Ahmedabad',\n",
              " 'Shrirampur Ahmedabad',\n",
              " 'Aditya Oasis, Lambha Ahmedabad',\n",
              " 'Sharma Corner opp Dholeshwar Mahadev Temple Vishal Nagar Isanpur Road Isanpur Ahmedabad',\n",
              " 'Vastrapur Station Road Ahmedabad',\n",
              " 'Naroda Smart City 2, Naroda Dehgam Road Ahmedabad',\n",
              " 'Shreejibapa Complex Ahmedabad',\n",
              " 'Firdosh Koh E Toor Arcade, Juhapura Ahmedabad',\n",
              " 'maruti haritage part - 2 Ahmedabad',\n",
              " 'KP Residency, Nikol Ahmedabad',\n",
              " 'Meghaninagar Ahmedabad',\n",
              " 'bakeri sugam vasna Ahmedabad',\n",
              " 'Karnavati apartment Ahmedabad',\n",
              " 'Drive In Road Ahmedabad',\n",
              " 'Devnandan Park, Nikol Naroda Road Ahmedabad',\n",
              " 'Panacea Residency, Naroda Ahmedabad',\n",
              " 'Bodakdev Ahmedabad',\n",
              " 'Om ShaantiNagar 3 Plus, Vatva Ahmedabad',\n",
              " 'Suramya Apartment, Ghodasar Ahmedabad',\n",
              " 'Bapunagar One, Bapunagar Ahmedabad',\n",
              " '5 Ahmedabad',\n",
              " 'Ghatlodiya, Ahmedabad Ahmedabad',\n",
              " 'Lambha Ahmedabad',\n",
              " 'Abhilasha Sky, Nikol Ahmedabad',\n",
              " 'Shrinand city 5 Ahmedabad',\n",
              " 'Sarthi Parisar, Ramol, Amraiwadi Ahmedabad',\n",
              " 'Vision Madhuvan Glory, Krishna Nagar Saijpur Bogha Ahmedabad',\n",
              " 'Keshav Apartment , Chandkheda Ahmedabad',\n",
              " 'Malay Heights, Janta nagar Ahmedabad',\n",
              " 'Rajipa Green Land, Nikol Ahmedabad',\n",
              " 'bhulabhai park 1 Ahmedabad',\n",
              " 'Satatya Avenue, New Ranip Ahmedabad',\n",
              " 'Chandlodiya Ahmedabad',\n",
              " 'Polaris Anand, Nikol Ahmedabad',\n",
              " 'Vitthal Nagar Tekra Ahmedabad',\n",
              " 'Shalibhadra Tower, Sardar Colony Ahmedabad',\n",
              " 'Rajyash Reyansh, Vasna Ahmedabad',\n",
              " 'Maniknath Nagar Ahmedabad',\n",
              " 'Satyam Appartment Ahmedabad',\n",
              " 'Shiv Tirth Apartment, Krishna Baug Ahmedabad',\n",
              " 'Vishwas City V, Gota Ahmedabad',\n",
              " 'Godrej Vanaangan, Jagatpur Ahmedabad',\n",
              " 'Swati Greens, Chandkheda Ahmedabad',\n",
              " 'Divyarath Flats Ahmedabad',\n",
              " 'Shrinand Nagar, Juhapura Ahmedabad',\n",
              " 'Krish Exotica, Nikol Ahmedabad',\n",
              " 'Signature Vrajdham, Jivraj Park Ahmedabad',\n",
              " 'Platinum Elegance, Vinzol Ahmedabad',\n",
              " 'Swati Residency 5, Chandkheda Ahmedabad',\n",
              " 'Divyapunj Shalom, Chandkheda Ahmedabad',\n",
              " 'Sterling City, Bopal Ahmedabad',\n",
              " 'Shrinand Flora, Nana Chiloda Ahmedabad',\n",
              " 'Shashwat Mahadev 1, Vastral Ahmedabad',\n",
              " 'Ghanshyam Complex, Chandlodiya Ahmedabad',\n",
              " 'Parth Avenue Nava Naroda Ahmedabad',\n",
              " 'Uttamnagar Maninagar Ahmedabad',\n",
              " 'Gaurav Tower, Ghatlodiya Ahmedabad',\n",
              " 'Visva Kunj I, Ghuma Ahmedabad',\n",
              " 'Makarba Ahmedabad',\n",
              " 'JIVANPRAN RESIDENCY Ahmedabad',\n",
              " 'Nebula Aavas Sanand Phase 1, Sanand Ahmedabad',\n",
              " 'Odhav Ahmedabad',\n",
              " 'khokhra circle parishkar phase 2 Ahmedabad',\n",
              " 'Gajanan Dev Home Town 4, Chandkheda Ahmedabad',\n",
              " 'Vir savarkar heights 3 Ahmedabad',\n",
              " 'SHARAN RESIDENCY II, Chandkheda Ahmedabad',\n",
              " 'Narayan Crystal, Vatva Ahmedabad',\n",
              " 'Saujanya II, Maningar East, Khokhra Ahmedabad',\n",
              " 'Jay Bhimnath society isanpur Ahmedabad',\n",
              " 'Vastrapur Ahmedabad',\n",
              " 'Nirman Shyamved Residency, Nikol Ahmedabad',\n",
              " 'Shyam Vihar Shahwadi Ahmedabad',\n",
              " 'tata Ahmedabad',\n",
              " 'Chevron Plaza, Motera Ahmedabad',\n",
              " 'Avani Square Manohar Villa Char Rasta Ahmedabad',\n",
              " 'Satellite Ahmedabad',\n",
              " 'hariom appartment nava wadaj Ahmedabad',\n",
              " 'Karnavati Apartment II, Narolgam Ahmedabad',\n",
              " 'KP Heights, Odhav Ahmedabad',\n",
              " 'sarjan tower Ahmedabad',\n",
              " 'Ramdev Nagar Ahmedabad',\n",
              " 'Malhar flats Ahmedabad',\n",
              " 'Dhairya Paradise, Isanpur Ahmedabad',\n",
              " 'Redevelopment society    investment opportunity Ahmedabad',\n",
              " 'Pandav Apartment, Ghodasar Ahmedabad',\n",
              " 'Juhapura Ahmedabad',\n",
              " 'Vitthal Plaza, Naroda Ahmedabad',\n",
              " 'Karnavati Nagar Sabarmati, Vastral Ahmedabad',\n",
              " 'Vibrant Homes, Nava Naroda Ahmedabad',\n",
              " 'Santinagar Ahmedabad',\n",
              " 'D Cabin, Chandkheda Ahmedabad',\n",
              " 'Smit Tankar Residency 4, Vatva Ahmedabad',\n",
              " 'Shukan Platinum, Chandlodiya Ahmedabad',\n",
              " 'Shanti Shukra, Narolgam Ahmedabad',\n",
              " 'Aaditya Appartment New CG Raod Ahmedabad',\n",
              " 'Sankalp Residency, Vatva Ahmedabad',\n",
              " 'Murlidhar Heights, Naroda Ahmedabad',\n",
              " 'Dev Darshan Residency, Vastral Ahmedabad',\n",
              " 'Galaxy Vraj Residency, Naroda Ahmedabad',\n",
              " 'Malhar Flats, Bodakdev Ahmedabad',\n",
              " 'Palash 80, Motera Ahmedabad',\n",
              " 'Adani Pratham, Sarkhej Gandhinagar Highway Ahmedabad',\n",
              " 'Shreenath Residency, Narolgam Ahmedabad',\n",
              " 'Vasana Ahmedabad',\n",
              " 'Kathwada Ahmedabad',\n",
              " 'Diwali Homes, Chandkheda Ahmedabad',\n",
              " 'Ashtavinayak Aatrey Ivaan 3, Nana Chiloda Ahmedabad',\n",
              " 'Ashtavinayak Icon, Nikol Ahmedabad',\n",
              " 'Vinayak Residency, New Ranip Ahmedabad',\n",
              " 'Shyamal Ahmedabad',\n",
              " 'Shubhmilan Radhe Hills, Hathijan Ahmedabad',\n",
              " 'Ahmedabad Ahmedabad',\n",
              " 'Ashray Platina, New Ranip Ahmedabad',\n",
              " 'Bhaikakanagar Ahmedabad',\n",
              " 'Shrinandnagar part 4 you Ahmedabad',\n",
              " 'shapers swastik city narolgam Ahmedabad',\n",
              " 'shrinand city 8 Ahmedabad',\n",
              " 'Kuha Ahmedabad',\n",
              " 'Poonam Park Apartment, Daxini Society, Maninagar Ahmedabad',\n",
              " 'jay shefali apartment Ahmedabad',\n",
              " 'mansi flat 102 opposite dwarikadas park society ambika garden ranip Ahmedabad',\n",
              " 'Pavan A Appartment Ahmedabad',\n",
              " 'Shyam Shivalay Residency, Behrampura Ahmedabad',\n",
              " 'Parikrama Appartment,Bopal Ahmedabad',\n",
              " 'Ganesh Green, Chainpur Ahmedabad',\n",
              " 'Shivam Hariom Elegance, Vastral Ahmedabad',\n",
              " 'upvan avenue, Tragad Ahmedabad',\n",
              " 'Mahadev Sri Nand City 7, New Maninagar Ahmedabad',\n",
              " 'Tagore Apartment, Maninagar Ahmedabad',\n",
              " 'Chehar Maruti Bliss, Maninagar Ahmedabad',\n",
              " 'Veer Savarker Heights 2 Vasantnagar, Gota Ahmedabad',\n",
              " 'Polaris Anand, Nikol Odhav Road Ahmedabad',\n",
              " 'Vandemataram Empire, Vinzol Ahmedabad',\n",
              " 'Parishkaar, Khokhra Ahmedabad',\n",
              " 'Nirnay Nagar Ahmedabad',\n",
              " 'Hatkeshwar Ahmedabad',\n",
              " 'Madhuvan Residency, Nana Chiloda Ahmedabad',\n",
              " 'Hari Om Elegance, Bopal Ahmedabad',\n",
              " 'Manthan 222, Vatva Ahmedabad',\n",
              " 'Shrinandnagar part 3 Ahmedabad',\n",
              " 'Kansas County, Vastral Ahmedabad',\n",
              " 'Keshav Nagar Ahmedabad',\n",
              " 'Suryam Sky, Vastral Ahmedabad',\n",
              " 'Pushp Heights, Ramol, Amraiwadi Ahmedabad',\n",
              " 'ashtvinayk Resedency Ahmedabad',\n",
              " 'Aroma Aakruti Status, Narolgam Ahmedabad',\n",
              " 'Bhudarpura Ahmedabad',\n",
              " 'Kushal Awaas, Vatva Ahmedabad',\n",
              " 'Suryam Elegance Phase II, Vastral Ahmedabad',\n",
              " 'Orange Paarijat Heights, Gamdi Road Ahmedabad',\n",
              " 'Shashwat Mahadev 2, Vastral Ahmedabad',\n",
              " 'Shiv tower, old vadej Ahmedabad',\n",
              " 'Samarpan Ashirwad Flora, New Maninagar Ahmedabad',\n",
              " 'Bavla Ahmedabad',\n",
              " 'Shivansh Signature, Chandkheda Ahmedabad',\n",
              " 'Gandhinagar Ahmedabad Road Ahmedabad',\n",
              " 'Riviera Karnavati, New Maninagar Ahmedabad',\n",
              " 'Garden Paradise, North Bopal Road Ahmedabad',\n",
              " 'silver pearls Ahmedabad',\n",
              " 'Parsi Dungarvadi Ahmedabad',\n",
              " 'Bakeri City, Vejalpur, Jivraj park Ahmedabad',\n",
              " 'Shanidhya flora new ranip Ahmedabad',\n",
              " 'Victoria Heights, Nava Naroda Ahmedabad',\n",
              " 'Keshavpriya Naroda Smart City 3, Dehgam Road Ahmedabad',\n",
              " 'Thakkarbapanagar Ahmedabad',\n",
              " 'Adani Shantigram, Sarkhej Gandhinagar Highway Ahmedabad',\n",
              " 'Sarvopari Homes, Nava Naroda Ahmedabad',\n",
              " 'Snehadri Flats, Ambawadi Ahmedabad',\n",
              " 'Alok Paredise, Vastral Ahmedabad',\n",
              " 'Umang Narol, Narolgam Ahmedabad',\n",
              " 'Adani Pratham, Vaishnodevi Circle Ahmedabad',\n",
              " 'Umang Vatva, Vatva Ahmedabad',\n",
              " 'Rudraksha Apartment, naroda, Ahmedabad Ahmedabad',\n",
              " 'Sanand Greens Residency 2, Dambha Ahmedabad',\n",
              " 'Panch Shlok Residency, Chandkheda Ahmedabad',\n",
              " 'Sudev Homes, Narolgam Ahmedabad',\n",
              " 'NURSARY ROAD Ahmedabad',\n",
              " 'Sanand Greens Residency, Sanand Ahmedabad',\n",
              " 'Sangani Platinum, Narolgam Ahmedabad',\n",
              " 'Ashraya 9, New Ranip Ahmedabad',\n",
              " 'Sukh shahitya hight Naroda Ahmedabad',\n",
              " 'Shakti Apartments, Maninagar Ahmedabad',\n",
              " 'Gokul Gold Flat, Jashodanagar Ahmedabad',\n",
              " 'Behrampura Ahmedabad',\n",
              " 'Akshar Platinium, Nana Chiloda Ahmedabad',\n",
              " 'Panchshil Residency, Gota Ahmedabad',\n",
              " 'Hirabaug Railway crossing Ahmedabad',\n",
              " 'Siddhi Vinayak Avenue, Vatva Ahmedabad',\n",
              " 'Samor Heights, Muthia Ahmedabad',\n",
              " 'avas yojna Ahmedabad',\n",
              " 'Bilasiya Ahmedabad',\n",
              " 'dharti status vastral Ahmedabad',\n",
              " 'Bindu Society Ahmedabad',\n",
              " 'Swastik Residency, Ghodasar, Ahmedabad Ahmedabad',\n",
              " 'Tata Housing Shubh Griha, Gurukul Ahmedabad',\n",
              " 'shrinand nagar 4 Ahmedabad',\n",
              " 'Vaishali Twonship Ahmedabad',\n",
              " 'Parv Anmol Residency, New Ranip Ahmedabad',\n",
              " 'Rajpath Rowhouse, Bodakdev Ahmedabad',\n",
              " 'Akruti Township Ahmedabad',\n",
              " 'Pushp Residency, Vastral Ahmedabad',\n",
              " 'Cama Hotel Ahmedabad',\n",
              " 'Ved Shree, Vastral Ahmedabad',\n",
              " 'Project Swaminarayan Park, Naroda Ahmedabad',\n",
              " 'Shantinath Apartment, Vejalpur Ahmedabad',\n",
              " 'Naranpura Ahmedabad',\n",
              " 'Aakruti Township, New Mani Nagar Narolgam Ahmedabad',\n",
              " 'JIVAN PRAN RESIDENCY Ahmedabad',\n",
              " 'Sun Pushkar Luxuria, Jashoda Nagar Ahmedabad',\n",
              " 'Dholera Ahmedabad',\n",
              " 'Opp: IOCL Pretol Pump Adalaj Ahmedabad',\n",
              " 'Singarwa Ahmedabad',\n",
              " 'Kautilya 99, Tragad Road Ahmedabad',\n",
              " 'maniyasha Ahmedabad',\n",
              " 'Foliage Navjivan Flats, Vatva Ahmedabad',\n",
              " 'Samarth Avenue Ahmedabad',\n",
              " 'Asarwa, Saraspur Ahmedabad',\n",
              " 'Divyajivan Lifestyle, Nikol Ahmedabad',\n",
              " 'Eklingji Radhe Skyline, Bodakdev Ahmedabad',\n",
              " 'Swati Appartment 2, Jivraj Park Ahmedabad',\n",
              " 'Veer Savarkar Heights, Vastral Ahmedabad',\n",
              " 'Iscon Flower, Bopal Ghuma Road Ahmedabad',\n",
              " 'Zaveri Palash Homes Ahmedabad',\n",
              " 'Vastu Maruti Homes, Nana Chiloda Ahmedabad',\n",
              " 'Rushabh Avenue Ahmedabad',\n",
              " 'Devnandan Residency, Nikol Ahmedabad',\n",
              " 'AUDA Narmada Nagar, Kathwada Ahmedabad',\n",
              " 'Godrej Vananta, Jagatpur Ahmedabad',\n",
              " 'arya arcade Ahmedabad',\n",
              " 'Raghav Mangalya Sapphire, Vastral Ahmedabad',\n",
              " 'Shiv Ugati City, Naroda Ahmedabad',\n",
              " 'Naiya Apartments, Ahmedabad',\n",
              " 'Maninagar West Ahmedabad',\n",
              " 'Samyaka Apartments, Vejalpur, Jivraj park Ahmedabad',\n",
              " 'Girivar Pride, Odhav Ahmedabad',\n",
              " 'Shrinand City 4, New Maninagar Ahmedabad',\n",
              " 'Narol Road Ahmedabad',\n",
              " 'Sarangpur Ahmedabad',\n",
              " 'Dharmanagar Society Ahmedabad',\n",
              " 'Safal Parishkaar 2, Maninagar Ahmedabad',\n",
              " 'Bhadwatnagar Ahmedabad',\n",
              " 'Prerna Raj Vijay Tirth, Sanand Ahmedabad',\n",
              " 'Gujarat Housing Board, Krishna Nagar Ahmedabad',\n",
              " 'Rudram Sky, New Ranip Ahmedabad',\n",
              " 'Savvy Strata, Sarkhej Gandhinagar Highway Ahmedabad',\n",
              " 'Ramol, Amraiwadi Ahmedabad',\n",
              " 'NEAR GOTA CROSS ROAD Ahmedabad',\n",
              " 'Shalin Heights 5, Vinzol Ahmedabad',\n",
              " 'Malay Hills, New Ranip Ahmedabad',\n",
              " 'Dev manek 101 nikol Ahmedabad',\n",
              " 'Godrej Garden City, Sarkhej Gandhinagar Highway Ahmedabad',\n",
              " 'Pipal Ahmedabad',\n",
              " 'Saurabh Apartment Ahmedabad',\n",
              " 'new project ready pajeshon Ahmedabad',\n",
              " 'Vraj Dham I, Ghatlodiya Ahmedabad',\n",
              " 'SP Nirvana Ahmedabad',\n",
              " 'Silver Star cross roads Ahmedabad',\n",
              " 'Signature Homes, Sanand Sarkhej Road Ahmedabad',\n",
              " 'Swatantra Senani Nagar, Nava Vadaj Ahmedabad',\n",
              " 'Rangtarang Apartments, Ambawadi Ahmedabad',\n",
              " 'Prakash Nagar, Ghodasar Ahmedabad',\n",
              " 'Shiv Shakti Om Villa, Odhav Ahmedabad',\n",
              " 'Castle Villa, GST Crossing Ahmedabad',\n",
              " 'Samor residency,vatva Ahmedabad',\n",
              " 'santinagar Ahmedabad',\n",
              " 'Kotarpur Ahmedabad',\n",
              " 'Path Kesar Vatika, Nana Chiloda Ahmedabad',\n",
              " 'Sai Flora, Nikol Ahmedabad',\n",
              " 'Saijpur Bogha Ahmedabad',\n",
              " 'Shree Sharan, Chandkheda Ahmedabad',\n",
              " 'Signature Homes, Sarkhej Okaf Ahmedabad',\n",
              " 'Omnium Royal, Nana Chiloda Ahmedabad',\n",
              " 'KV Satva Shiv Gold, Ankur Chokadi Ahmedabad',\n",
              " 'Burhani Park Ahmedabad',\n",
              " 'Eden Godrej Garden city, Godrej Garden City Ahmedabad',\n",
              " 'Maniyasa Ahmedabad',\n",
              " 'Atithi Avenue, Narolgam Ahmedabad',\n",
              " 'Kesar Orchid, Nava Naroda Ahmedabad',\n",
              " 'Utsav City, Vastral Ahmedabad',\n",
              " 'Swaminaray appartment, Narolgam Ahmedabad',\n",
              " 'Paradise Park, Ahmedabad Ahmedabad',\n",
              " 'Jivraj Park Ahmedabad',\n",
              " 'Devraj Residency, Naroda Ahmedabad',\n",
              " 'Anand Vihar, Chandkheda Ahmedabad',\n",
              " 'opposite vastrapur lake Ahmedabad',\n",
              " 'Rudra Avenue Vastral Ahmedabad',\n",
              " 'Diva Heights, Gota Ahmedabad',\n",
              " 'Tapasvi Flora, Maninagar Ahmedabad',\n",
              " 'Lotus Aditya Elite, Chandkheda Ahmedabad',\n",
              " 'Shree Vishnudhara homes, Gota Ahmedabad',\n",
              " 'Takshashila Mahadev Greens, CTM, Amraiwadi Ahmedabad',\n",
              " 'Binori Park Ridge, Binori, Bopal Ahmedabad',\n",
              " 'Sambhavnath Upvan, Chandkheda Ahmedabad',\n",
              " 'chankheda new c g road Ahmedabad',\n",
              " 'Shree Hari Nirmit Flora, Nirmit flora sanand Ahmedabad',\n",
              " 'Pavan Complex Ahmedabad',\n",
              " 'Dwarkesh Sun Residency, Vastral Ahmedabad',\n",
              " 'Vastral, Ahmedabad Ahmedabad',\n",
              " 'Gayatri Exotica, Narolgam Ahmedabad',\n",
              " 'Jodhpur Village, Jodhpur Ahmedabad',\n",
              " 'Parishkaar 2, Maninagar Ahmedabad',\n",
              " 'Om Shanti Gold Plus, Narolgam Ahmedabad',\n",
              " 'Divyajivan Smart Homes, Nikol Ahmedabad',\n",
              " 'Gold Coast Residency, Vastral Ahmedabad',\n",
              " 'Sakar Residency, Vastral Ahmedabad',\n",
              " 'Dharmadev Swaminarayan Business Park , Shyamal Cross Road Ahmedabad',\n",
              " 'KB Royal Homes, Chandkheda Ahmedabad',\n",
              " 'Gopinath Pride, New Naroda Ahmedabad',\n",
              " 'Fatehwadi, Juhapura Ahmedabad',\n",
              " 'Bapashree park Ahmedabad',\n",
              " 'New Mani Nagar Narolgam Ahmedabad',\n",
              " 'Vibrant Homes, New Naroda Ahmedabad',\n",
              " 'Suryoday Complex, Ghatlodiya Ahmedabad',\n",
              " 'Bhagwat Greens, Narolgam Ahmedabad',\n",
              " 'Harsh Apartment, Maninagar Ahmedabad',\n",
              " 'Shayona Pushp, Ghatlodiya Ahmedabad',\n",
              " 'shreenath hill Ahmedabad',\n",
              " 'Avalon Skyline, Narolgam Ahmedabad',\n",
              " 'Paras Nagar Isanpur Ahmedabad',\n",
              " 'Narayan Residency, Nikol Ahmedabad',\n",
              " 'Rajarhat Ahmedabad',\n",
              " 'Parth Indraprasth Tower, Gurukul Ahmedabad',\n",
              " 'Ognaj Gota Road Ahmedabad',\n",
              " 'Dev Aashish 2, Naroda Ahmedabad',\n",
              " 'Jay bhimnath society Ahmedabad',\n",
              " 'Shree Prime Hill, Hanspura, Naroda Ahmedabad',\n",
              " 'the shubhgriha society Ahmedabad',\n",
              " 'Sardar patel Nagar Chamunda Nagar Ahmedabad',\n",
              " 'Shagun Saral 207, Zundal Ahmedabad',\n",
              " 'Suvas Apartments, Thaltej Road Ahmedabad',\n",
              " 'Mohanlal co op society Ahmedabad',\n",
              " 'Shivansh Green, Vastral Ahmedabad',\n",
              " 'Sola Ahmedabad',\n",
              " 'Kaberi Bunglows Ahmedabad',\n",
              " 'Eklingji Residency 2, Sanand Ahmedabad',\n",
              " 'Jashoda Nagar, Ahmedabad Ahmedabad',\n",
              " 'Shilp Serene, Shilaj Ahmedabad',\n",
              " 'Vivaan Ixora, Zundal Ahmedabad',\n",
              " 'Aashray Aurum, Ambli Ahmedabad',\n",
              " 'Adani Atrius, Jagatpur Ahmedabad',\n",
              " 'Swastik Promont, South Bopal, Bopal Ahmedabad',\n",
              " 'Saanvi Nirman Solace, Bopal Ahmedabad',\n",
              " 'Turquoise Greenz, Shela Ahmedabad',\n",
              " 'Adani Archway, Jagatpur Ahmedabad',\n",
              " 'Imperia Lavish, Zundal Ahmedabad',\n",
              " 'Keshvam Clifton, Vaishnodevi Circle Ahmedabad',\n",
              " 'Rajvi Opal, Naranpura Ahmedabad',\n",
              " 'Savera Prarambh, Ghuma Ahmedabad',\n",
              " 'Takshashila Elegna Residential, Mithakhali, Navrangpura Ahmedabad',\n",
              " 'Swarnim Sun, Ghuma Ahmedabad',\n",
              " 'North Enclave, Vaishnodevi Circle Ahmedabad',\n",
              " 'Ganesh Legacy, Vaishnodevi Circle Ahmedabad',\n",
              " 'Maher Select, Shela Ahmedabad',\n",
              " 'Adani Aster, Vaishnodevi Circle Ahmedabad',\n",
              " 'Vivaan Solitaire, Zundal Ahmedabad',\n",
              " 'Shilp Revanta, Shela Ahmedabad',\n",
              " 'Seventh Bliss, Gota Ahmedabad',\n",
              " 'The Green Parmeshwar, Jagatpur Ahmedabad',\n",
              " 'Shaligram Lakeview, Vaishnodevi Circle Ahmedabad',\n",
              " 'Elenza Greenwood, South Bopal, Bopal Ahmedabad',\n",
              " 'Casa Vyoma, Vastrapur Ahmedabad',\n",
              " 'Chharodi Ahmedabad',\n",
              " 'Lakhani Pravish Vienza, Vaishnodevi Circle Ahmedabad',\n",
              " 'Swati Premier, Shantipura Circle Ahmedabad',\n",
              " 'Science City Ahmedabad',\n",
              " 'Shilaj Ahmedabad',\n",
              " 'Sun Premium, Sola Ahmedabad',\n",
              " 'NB Upavan, Ognaj Ahmedabad',\n",
              " 'Orchid Sky, Shela Ahmedabad',\n",
              " 'Serenity Sky, South Bopal, Bopal Ahmedabad',\n",
              " 'Sharanya Altura, Shilaj Ahmedabad',\n",
              " 'Silver Brook 2, Shilaj Ahmedabad',\n",
              " 'Ratnaakar Verte, Sector 7 South Bopal Ahmedabad',\n",
              " 'Nivaasa, Shela Ahmedabad',\n",
              " 'Swojas Pride, Ognaj Ahmedabad',\n",
              " 'VR Reflection, Shela Ahmedabad',\n",
              " 'Serenity Shivam, South Bopal, Bopal Ahmedabad',\n",
              " 'The Atlantis 2 Ahmedabad',\n",
              " 'Aristo Anandam, Vaishnodevi Circle Ahmedabad',\n",
              " 'Shayona Green, Gota Gam Ahmedabad',\n",
              " 'Samanvay Scintilla, South Bopal, Bopal Ahmedabad',\n",
              " 'Olive Greens, Gota Ahmedabad',\n",
              " 'Aster, Vaishnodevi Circle Ahmedabad',\n",
              " 'Shilp Residency, Gota Ahmedabad',\n",
              " 'Shivalay Sattva, Shilaj Ahmedabad',\n",
              " 'Mahadev Lavish, Aaryan Gloria Ahmedabad',\n",
              " 'Green Garnet, Shela Ahmedabad',\n",
              " 'Praharsh Bluebell, South Bopal, Bopal Ahmedabad',\n",
              " 'The Canvas, South Bopal, Bopal Ahmedabad',\n",
              " 'The Q, Chharodi Ahmedabad',\n",
              " 'Elenza Gradient, Shela Ahmedabad',\n",
              " 'Saanvi Nirman Stellar, Ghuma Ahmedabad',\n",
              " 'Ivory Orchards, Shilaj Ahmedabad',\n",
              " 'Kavisha The Portrait, Shela Ahmedabad',\n",
              " 'Capstone Zuri, Zundal Ahmedabad',\n",
              " 'Bhagwat Elysium, Nikol Ahmedabad',\n",
              " 'Pearl Heights, Ghatlodiya Ahmedabad',\n",
              " 'Akhbar Nagar, Nava Vadaj Ahmedabad',\n",
              " 'Serenity Satyam, South Bopal, Bopal Ahmedabad',\n",
              " 'Omkar Elegance, Zundal Ahmedabad',\n",
              " 'Richmond Grand, Prahlad Nagar Ahmedabad',\n",
              " 'Sukirti 54, Shela Ahmedabad',\n",
              " 'Aster Neo, Vaishnodevi Circle Ahmedabad',\n",
              " 'Sky Elegante, Motera Ahmedabad',\n",
              " 'Shyamal Cross Road Ahmedabad',\n",
              " 'Aaryan Eminent, Sarkhej Gandhinagar Highway Ahmedabad',\n",
              " 'Nirgun Rise, Shilaj Ahmedabad',\n",
              " 'Malabar County 2, Sarkhej Gandhinagar Highway Ahmedabad',\n",
              " 'Satyam Skyline, AEC Char Rasta Ahmedabad',\n",
              " 'Colin Haven, Chandkheda Ahmedabad',\n",
              " 'Eden Parmeshwar, Chandkheda Ahmedabad',\n",
              " 'Shree Ram Avadh Highland, Bhadaj Ahmedabad',\n",
              " 'JBR Residency, Science City Ahmedabad',\n",
              " 'Gala Aria, South Bopal, Bopal Ahmedabad',\n",
              " 'Saral Residency, Devnagar, Gota Ahmedabad',\n",
              " 'Airan Shela 24, Shela Ahmedabad',\n",
              " 'Swasthi, Shilaj Ahmedabad',\n",
              " 'Suhaal Serenity, Zundal Ahmedabad',\n",
              " 'Ashram Road Area Ahmedabad',\n",
              " 'Samarth Stanza, Shela Ahmedabad',\n",
              " 'Krishna Heights, Gota Ahmedabad',\n",
              " 'Bapashree Apartment, New Naroda Ahmedabad',\n",
              " 'Mahadev Platinum, Punitnagar Ghodasar Ahmedabad',\n",
              " 'Ghuma Gam Ahmedabad',\n",
              " 'Beryl Crystal, Science City Ahmedabad',\n",
              " 'Usmanpura Ahmedabad',\n",
              " 'Godrej Tivoli, Chandkheda Ahmedabad',\n",
              " 'Diwali Blessings, Vaishnodevi Circle Ahmedabad',\n",
              " 'Siddhi Kabir Enclave, Bopal Ahmedabad',\n",
              " 'Rococo Earth Rosette, Shilaj Ahmedabad',\n",
              " 'Sivanta Apartments, Vejalpur, Jivraj park Ahmedabad',\n",
              " 'Digvijaynagar, New Ranip Ahmedabad',\n",
              " 'Shayona Tilak 3, Gota Ahmedabad',\n",
              " 'Shukun Krushnadham, Maninagar Ahmedabad',\n",
              " 'Satyadeep Heights, Prahlad Nagar Ahmedabad',\n",
              " 'Satellite Road Ahmedabad',\n",
              " 'Jawaharchowk Maninagar Ahmedabad',\n",
              " 'Saffrony, Bopal Ahmedabad',\n",
              " 'Shiv Sadhna Skywalk Manglaam, Chandkheda Ahmedabad',\n",
              " 'Captown Enhance, Shilaj Ahmedabad',\n",
              " 'Orchard Godrej Garden City, Jagatpur Ahmedabad',\n",
              " 'Savvy Swaraj Phase 2, Gota Ahmedabad',\n",
              " 'Shanti Towar, Nehru Nagar Ambawadi Ahmedabad',\n",
              " 'Rang Jyot Society Naranpura Ahmedabad',\n",
              " 'Avalon Courtyard 2, Maninagar Ahmedabad',\n",
              " 'Kasturi Tower, Bodakdev Ahmedabad',\n",
              " 'Zion Prime, Ambawadi Ahmedabad',\n",
              " 'Godrej Garden City Road Ahmedabad',\n",
              " 'Navarangpura Ahmedabad',\n",
              " 'Ashram Road Ahmedabad',\n",
              " 'Turquoise Blu, Shela Ahmedabad',\n",
              " 'Abhilash, Sarkhej Gandhinagar Highway Ahmedabad',\n",
              " 'Silver Casa, Thaltej Ahmedabad',\n",
              " 'Dharmadev Neelkanth Elegance, Satellite Ahmedabad',\n",
              " 'Victory Sunrise, Bodakdev Ahmedabad',\n",
              " 'Science City Road Ahmedabad',\n",
              " 'Happy Skyside, Ghuma Ahmedabad',\n",
              " 'Motera CHS, Motera Ahmedabad',\n",
              " 'Takshashila AIR, Ellisbridge Ahmedabad',\n",
              " 'Shlok Parisar, Devnagar, Gota Ahmedabad',\n",
              " 'komal enclave, Khodiyar Ahmedabad',\n",
              " 'Kalasagar Skyz, Vejalpur, Jivraj park Ahmedabad',\n",
              " 'Sheladia Sarva, Shela Ahmedabad',\n",
              " 'Kavisha Celebration, South Bopal, Bopal Ahmedabad',\n",
              " 'Aaryan Pride, Jagatpur Village, Gota Ahmedabad',\n",
              " 'Vikas Gruh Road Ahmedabad',\n",
              " 'Westside Elegance, Shilaj Ahmedabad',\n",
              " 'ICB Flora, Gota Ahmedabad',\n",
              " 'Nishant Richmond Grand Phase 2, Makarba Ahmedabad',\n",
              " 'Adani Elysium, AG Complex Ahmedabad',\n",
              " 'kesar alanta chharodi Ahmedabad',\n",
              " 'Kaveri Soham Vistara, Shilaj Ahmedabad',\n",
              " 'Orchid Heaven, Shela Ahmedabad',\n",
              " 'Atishay Residency, Motera Ahmedabad',\n",
              " 'sahajanand osice Ahmedabad',\n",
              " 'Alpine heights, Navrangpura Ahmedabad',\n",
              " 'Godrej Garden City Ahmedabad',\n",
              " 'Swati Florence, South Bopal, Bopal Ahmedabad',\n",
              " 'Aaryan Aviskaar, Shela Ahmedabad',\n",
              " 'KK Nagar Road Ahmedabad',\n",
              " 'Suryansh Solitaire, Shilaj Ahmedabad',\n",
              " 'Ratna Turquoise , Shela Ahmedabad',\n",
              " 'vishwa kunj 2, Shela Ahmedabad',\n",
              " 'Maher Homes 2, Shela Ahmedabad',\n",
              " 'Gandhi Yashodhar Residency, Ramnagar Ahmedabad',\n",
              " 'Shree Anusthan, Vaishnodevi Circle Ahmedabad',\n",
              " 'Maninagar Road Ahmedabad',\n",
              " 'Pacifica Reflections, Vaishnodevi Circle Ahmedabad',\n",
              " 'Sun South Winds, South Bopal, Bopal Ahmedabad',\n",
              " 'Pratham Vatika, South Bopal, Bopal Ahmedabad',\n",
              " 'Binori Gracia, South Bopal, Bopal Ahmedabad',\n",
              " 'Ansh Ambition, Ghuma Ahmedabad',\n",
              " 'Kaveri Trisara, Shilaj Ahmedabad',\n",
              " 'ICB Ishwarcharan Park, Naranpura Ahmedabad',\n",
              " 'Palm Glory III, Gandhinagar Ahmedabad Road Ahmedabad',\n",
              " 'Kalasagar Skies, Chandkheda Ahmedabad',\n",
              " 'Shypram Parisar, Ognaj Ahmedabad',\n",
              " 'Suramya Status, Sola Ahmedabad',\n",
              " 'Kadamb Greens, Zundal Ahmedabad',\n",
              " 'Samprat Residency, Shilaj Ahmedabad',\n",
              " 'Ognaj Ahmedabad',\n",
              " 'Orchid Harmony, South Bopal, Bopal Ahmedabad',\n",
              " 'Goyal Intercity, Memnagar Ahmedabad',\n",
              " 'Orchid Elegance, South Bopal, Bopal Ahmedabad',\n",
              " 'Airan Sun Shela One, Shela Ahmedabad',\n",
              " 'Maighar Residency, Bopal Gam Ahmedabad',\n",
              " 'Amiraj Mulberry Heights, Shilaj Ahmedabad',\n",
              " 'Aristo Bliss, Gota Gam Ahmedabad',\n",
              " 'Anushthan, Vaishnodevi Circle Ahmedabad',\n",
              " 'Krupal Bachpan, Shela Ahmedabad',\n",
              " 'Rosewood Tower, Satellite Ahmedabad',\n",
              " 'Dharti Skyline, Jagatpur Ahmedabad',\n",
              " 'Parmeshwar Nilayam, Tragad Ahmedabad',\n",
              " 'Vishwa Lake Iksa, Memnagar Ahmedabad',\n",
              " 'Panchshil Punit Apartment, Maninagar Ahmedabad',\n",
              " 'Alaya Belmonte, Chharodi Ahmedabad',\n",
              " 'Vishwanath Sharanam 10, Prahlad Nagar Ahmedabad',\n",
              " 'Pavan Putra Pancham Pentagon, Chandkheda Ahmedabad',\n",
              " 'Magnate Luxuria, Gota Ahmedabad',\n",
              " 'Vashikaa Prime, Chandkheda Ahmedabad',\n",
              " 'shashwat apartment Ahmedabad',\n",
              " 'Swati Chrysantha, Shela Ahmedabad',\n",
              " 'Dev Aurum, Anand Nagar Prahlad Nagar Ahmedabad',\n",
              " 'Swati Gardenia, Prahlad Nagar Ahmedabad',\n",
              " 'Savvy Swaraj, Jagatpur Village, Gota Ahmedabad',\n",
              " 'Venus Parkland, Vejalpur, Jivraj park Ahmedabad',\n",
              " 'Saanvi Nirman Stellar, South Bopal, Bopal Ahmedabad',\n",
              " 'Shivalik Sharda Park View 2, Shela Ahmedabad',\n",
              " 'Safal Sameep, South Bopal, Bopal Ahmedabad',\n",
              " 'Anand Elegance, Shela Ahmedabad',\n",
              " 'Silicon Valley Ahmedabad',\n",
              " 'Kaveri Soham, Shilaj Ahmedabad',\n",
              " 'Aaryan Gloria, Aaryan Gloria Ahmedabad',\n",
              " 'Applewoods Sorrel Apartments, Ghuma Ahmedabad',\n",
              " 'Devnandan Heights, Nigam Nagar, Chandkheda Ahmedabad',\n",
              " 'Applewoods Sorrel Apartments, Bopal Ahmedabad',\n",
              " 'Trident Elanzza, Khodiyar Ahmedabad',\n",
              " 'Shree Sarju Greens, Chandkheda Ahmedabad',\n",
              " 'Soham Devdeep, Koteshwar Ahmedabad',\n",
              " 'Flora Iris, Ghuma Ahmedabad',\n",
              " 'Anikedhya Atlantis, Chandkheda Ahmedabad',\n",
              " 'Shypram, South Bopal, Bopal Ahmedabad',\n",
              " 'S G Shiv Ganesh, Vaishnodevi Circle Ahmedabad',\n",
              " 'Devnagar, Gota Ahmedabad',\n",
              " 'Vivaan Elysium, Zundal Ahmedabad',\n",
              " 'Gala Haven, Sarkhej Gandhinagar Highway Ahmedabad',\n",
              " 'Shree Ami Pearl Apartment, Satellite Ahmedabad',\n",
              " 'Krishna Bungalows 1 Ahmedabad',\n",
              " 'Swastik Heights, Zundal Ahmedabad',\n",
              " 'Sun South Park, South Bopal, Bopal Ahmedabad',\n",
              " 'Shivam Priory, Prahlad Nagar Ahmedabad',\n",
              " 'Malabar County 3, Vaishnodevi Circle Ahmedabad',\n",
              " 'Orchid Divine, South Bopal, Bopal Ahmedabad',\n",
              " 'Sangath Pylon, Koteshwar Ahmedabad',\n",
              " 'Orchid Whitefield, Prahlad Nagar Ahmedabad',\n",
              " 'Garden Residency 1, South Bopal, Bopal Ahmedabad',\n",
              " 'Shree Balaji Wind Park, Vaishnodevi Circle Ahmedabad',\n",
              " 'Shree Narayan Exotica, Memnagar Ahmedabad',\n",
              " 'Rajyash Rains, Vasna Ahmedabad',\n",
              " 'Koteshwar Ahmedabad',\n",
              " 'Aarya Villa, New Ranip Ahmedabad',\n",
              " 'Savvy Solaris, Motera Ahmedabad',\n",
              " 'Savvy Swarraj Pragati Ph 2C, Jagatpur Village, Gota Ahmedabad',\n",
              " 'Asmaakam, Makarba Ahmedabad',\n",
              " 'Celeste, Jagatpur Ahmedabad',\n",
              " 'Orchid Whitefield, Anand Nagar Prahlad Nagar Ahmedabad',\n",
              " 'R CITY Ahmedabad',\n",
              " 'Vishnudhara Garden, Gota Ahmedabad',\n",
              " 'Mahadev Elegance, South Bopal, Bopal Ahmedabad',\n",
              " 'Sun Skyview, Shela Ahmedabad',\n",
              " 'Radhe skyline, Sanand Ahmedabad',\n",
              " 'Samarpan Tower , Ghatlodiya Ahmedabad',\n",
              " 'Yash Pinnacle, Paldi Ahmedabad',\n",
              " 'Dwarkesh Tower, Bodakdev Ahmedabad',\n",
              " 'Aristo Anandam 2, Tragad Ahmedabad',\n",
              " 'Polaris Celestia, Motera Ahmedabad',\n",
              " 'Shagun 108, Science City Ahmedabad',\n",
              " 'Yashkamal Society Ahmedabad',\n",
              " 'Shalimar Flat Shahibaug Ahmedabad',\n",
              " 'Khodiyar Ahmedabad',\n",
              " 'Godrej Garden City, Jagatpur Ahmedabad',\n",
              " 'Aristo Bliss, Gota Ahmedabad',\n",
              " 'Nirmal Kala, Motera Ahmedabad',\n",
              " 'Oxford Tower, Memnagar Ahmedabad',\n",
              " 'Goyal Complex, Vastrapur Ahmedabad',\n",
              " 'RajYash Reeva, Vasna Ahmedabad',\n",
              " 'Bhavya Developers Simandhar Sharan, Chanakyapuri Ahmedabad',\n",
              " 'Shukan Ornate, Sardarnagar Ahmedabad',\n",
              " 'Seattle Sky, Shantipura Circle Ahmedabad',\n",
              " 'Revanta Swastik Revanta, Vaishnodevi Circle Ahmedabad',\n",
              " 'Aaryan Heights, Shilaj Ahmedabad',\n",
              " 'Raj Hills, Nikol Ahmedabad',\n",
              " 'Radhey Flats, Usmanpura Ahmedabad',\n",
              " 'Alpine heights, Thaltej Ahmedabad',\n",
              " 'Shivalay, Maninagar West Ahmedabad',\n",
              " 'Shri Balaji Enclave, Naroda Ahmedabad',\n",
              " 'SKJ Siddharth Luxuria, Tragad Ahmedabad',\n",
              " 'Kavisha Panorama, South Bopal, Bopal Ahmedabad',\n",
              " 'Dharti Exotica, Chandkheda Ahmedabad',\n",
              " 'Laxmi Sky City, Kathwada Ahmedabad',\n",
              " 'Shyam Villa Greens, Nava Naroda Ahmedabad',\n",
              " 'Shayona Aagman, NR Vandematram Cross Road Ahmedabad',\n",
              " 'Devkrupa Avenue, Sardar Patel Ring Road, Near Hathijan Circle , Ahmedabad Ahmedabad',\n",
              " 'Shantivan Ahmedabad',\n",
              " 'Gala Haven Apartment, Vaishnodevi Circle Ahmedabad',\n",
              " 'Royal Homes, Gota Ahmedabad',\n",
              " 'Savvy Swaraj Phase 2, Jagatpur Road Ahmedabad',\n",
              " 'Jagabhai Park Ahmedabad',\n",
              " 'Vidhi Apartment, Maninagar Ahmedabad',\n",
              " 'Flora Ixora, Bopal Ahmedabad',\n",
              " 'Setu Vertica, Gota Ahmedabad',\n",
              " 'Shree Prashanti Geeta Apartments, Ambawadi Ahmedabad',\n",
              " 'Aditya Greens, Chandkheda Ahmedabad',\n",
              " 'jaldeep icon 2 Ahmedabad',\n",
              " 'Vishwas Appartment, KK Nagar Ahmedabad',\n",
              " 'Siddhi Kabir Enclave, Bopal Ghuma Road Ahmedabad',\n",
              " 'Smita Tower Gurukul, Memnagar Ahmedabad',\n",
              " 'Zaheer Paradise, TP 85 Ahmedabad',\n",
              " 'Satva Shreeji, Naroda Ahmedabad',\n",
              " 'Satnam Residency Ahmedabad',\n",
              " 'Devnandan Infinity, Motera Ahmedabad',\n",
              " 'Silver Gardenia, Gota Ahmedabad',\n",
              " 'Nila Atuulyam, Makarba Ahmedabad',\n",
              " 'Rajvi Elegance, Nikol Ahmedabad',\n",
              " 'Anjan Apartments, Bhaikakanagar, Thaltej Ahmedabad',\n",
              " 'Zalod Ahmedabad Highway Ahmedabad',\n",
              " 'Saransh Ambience, Vasna Ahmedabad',\n",
              " 'Rajgarden Tower Ahmedabad',\n",
              " ...]"
            ]
          },
          "execution_count": 1556,
          "metadata": {},
          "output_type": "execute_result"
        }
      ],
      "source": [
        "df['location'].unique().tolist()"
      ]
    },
    {
      "cell_type": "code",
      "execution_count": 1557,
      "metadata": {
        "id": "uIVVfZkgMX76"
      },
      "outputs": [],
      "source": [
        "def clean_location(text):\n",
        "    text = text.strip().strip(\"'\")\n",
        "\n",
        "    if text.endswith(\"Ahmedabad\"):\n",
        "        text = text.replace(\"Ahmedabad\", \"\").strip(\", \").strip()\n",
        "\n",
        "    parts = [p.strip() for p in text.split(\",\")]\n",
        "\n",
        "    if len(parts) == 1:\n",
        "        project = None\n",
        "        locality = parts[0]\n",
        "    else:\n",
        "        project = parts[0]\n",
        "        locality = \" \".join(parts[1:])\n",
        "\n",
        "    return pd.Series([project, locality, \"Ahmedabad\"])\n",
        "\n",
        "df[['Building', 'locality','city']] = df['location'].apply(clean_location)\n"
      ]
    },
    {
      "cell_type": "code",
      "execution_count": 1558,
      "metadata": {
        "id": "X9sXG78-P0gX"
      },
      "outputs": [],
      "source": [
        "df = df[df['price'] != 'Call for Price']\n",
        "df = df.replace('', np.nan).dropna()\n",
        "df['price'] = df['price'].astype('float64')"
      ]
    },
    {
      "cell_type": "code",
      "execution_count": null,
      "metadata": {
        "id": "14qrz4aORobm"
      },
      "outputs": [],
      "source": []
    },
    {
      "cell_type": "code",
      "execution_count": 1559,
      "metadata": {
        "id": "dOHPVusd0aAl"
      },
      "outputs": [],
      "source": [
        "def area_fix(text):\n",
        "    text = str(text).strip().lower()\n",
        "    result = None\n",
        "\n",
        "    if text.endswith('sqft'):\n",
        "        text = text.replace('sqft', \"\").replace(',', \"\").strip()\n",
        "        result= float(text)\n",
        "\n",
        "    elif text.endswith('sqyrd'):\n",
        "        text = text.replace('sqyrd', \"\").replace(',', \"\").strip()\n",
        "        result = float(text) * 9\n",
        "\n",
        "    elif text.endswith('smt'):\n",
        "        text = text.replace('smt', \"\").replace(',', \"\").strip()\n",
        "        result = float(text) * 10.7639\n",
        "\n",
        "    return result\n",
        "\n",
        "df['area_sqft'] = df['value_area'].apply(area_fix)"
      ]
    },
    {
      "cell_type": "code",
      "execution_count": 1560,
      "metadata": {
        "colab": {
          "base_uri": "https://localhost:8080/",
          "height": 640
        },
        "id": "9wMqLbqeM2NL",
        "outputId": "12cd08e1-8cd4-4228-9d37-9be7bce402ec"
      },
      "outputs": [
        {
          "data": {
            "text/html": [
              "<div>\n",
              "<style scoped>\n",
              "    .dataframe tbody tr th:only-of-type {\n",
              "        vertical-align: middle;\n",
              "    }\n",
              "\n",
              "    .dataframe tbody tr th {\n",
              "        vertical-align: top;\n",
              "    }\n",
              "\n",
              "    .dataframe thead th {\n",
              "        text-align: right;\n",
              "    }\n",
              "</style>\n",
              "<table border=\"1\" class=\"dataframe\">\n",
              "  <thead>\n",
              "    <tr style=\"text-align: right;\">\n",
              "      <th></th>\n",
              "      <th>Title</th>\n",
              "      <th>type_area</th>\n",
              "      <th>value_area</th>\n",
              "      <th>status</th>\n",
              "      <th>floor</th>\n",
              "      <th>transaction</th>\n",
              "      <th>furnishing</th>\n",
              "      <th>facing</th>\n",
              "      <th>price</th>\n",
              "      <th>BHK</th>\n",
              "      <th>location</th>\n",
              "      <th>Building</th>\n",
              "      <th>locality</th>\n",
              "      <th>city</th>\n",
              "      <th>area_sqft</th>\n",
              "    </tr>\n",
              "  </thead>\n",
              "  <tbody>\n",
              "    <tr>\n",
              "      <th>0</th>\n",
              "      <td>2 BHK Apartment for Sale in Vivaan Aura, Zunda...</td>\n",
              "      <td>super area</td>\n",
              "      <td>155 sqyrd</td>\n",
              "      <td>ready</td>\n",
              "      <td>New Property</td>\n",
              "      <td>Unfurnished</td>\n",
              "      <td>Vivaan Aura</td>\n",
              "      <td>2</td>\n",
              "      <td>4810000.0</td>\n",
              "      <td>2</td>\n",
              "      <td>Vivaan Aura, Zundal Ahmedabad</td>\n",
              "      <td>Vivaan Aura</td>\n",
              "      <td>Zundal</td>\n",
              "      <td>Ahmedabad</td>\n",
              "      <td>1395.0</td>\n",
              "    </tr>\n",
              "    <tr>\n",
              "      <th>1</th>\n",
              "      <td>2 BHK Apartment for Sale in SP Epitome, Shela ...</td>\n",
              "      <td>carpet area</td>\n",
              "      <td>710 sqft</td>\n",
              "      <td>ready</td>\n",
              "      <td>New Property</td>\n",
              "      <td>Unfurnished</td>\n",
              "      <td>SP Epitome</td>\n",
              "      <td>2</td>\n",
              "      <td>5000000.0</td>\n",
              "      <td>2</td>\n",
              "      <td>SP Epitome, Shela Ahmedabad</td>\n",
              "      <td>SP Epitome</td>\n",
              "      <td>Shela</td>\n",
              "      <td>Ahmedabad</td>\n",
              "      <td>710.0</td>\n",
              "    </tr>\n",
              "    <tr>\n",
              "      <th>2</th>\n",
              "      <td>2 BHK Apartment for Sale in Pacifica Amara, Sa...</td>\n",
              "      <td>carpet area</td>\n",
              "      <td>588 sqft</td>\n",
              "      <td>ready</td>\n",
              "      <td>New Property</td>\n",
              "      <td>Unfurnished</td>\n",
              "      <td>Pacifica Amara</td>\n",
              "      <td>2</td>\n",
              "      <td>4000000.0</td>\n",
              "      <td>2</td>\n",
              "      <td>Pacifica Amara, Sanand Ahmedabad</td>\n",
              "      <td>Pacifica Amara</td>\n",
              "      <td>Sanand</td>\n",
              "      <td>Ahmedabad</td>\n",
              "      <td>588.0</td>\n",
              "    </tr>\n",
              "    <tr>\n",
              "      <th>3</th>\n",
              "      <td>2 BHK Apartment for Sale in Kavisha AER, Shela...</td>\n",
              "      <td>carpet area</td>\n",
              "      <td>687 sqft</td>\n",
              "      <td>ready</td>\n",
              "      <td>New Property</td>\n",
              "      <td>Unfurnished</td>\n",
              "      <td>Kavisha AER</td>\n",
              "      <td>2</td>\n",
              "      <td>4880000.0</td>\n",
              "      <td>2</td>\n",
              "      <td>Kavisha AER, Shela Ahmedabad</td>\n",
              "      <td>Kavisha AER</td>\n",
              "      <td>Shela</td>\n",
              "      <td>Ahmedabad</td>\n",
              "      <td>687.0</td>\n",
              "    </tr>\n",
              "    <tr>\n",
              "      <th>4</th>\n",
              "      <td>2 BHK Apartment for Sale in Aarambh Vistara, G...</td>\n",
              "      <td>carpet area</td>\n",
              "      <td>621 sqft</td>\n",
              "      <td>ready</td>\n",
              "      <td>New Property</td>\n",
              "      <td>Unfurnished</td>\n",
              "      <td>Aarambh Vistara</td>\n",
              "      <td>2</td>\n",
              "      <td>4800000.0</td>\n",
              "      <td>2</td>\n",
              "      <td>Aarambh Vistara, Gota Ahmedabad</td>\n",
              "      <td>Aarambh Vistara</td>\n",
              "      <td>Gota</td>\n",
              "      <td>Ahmedabad</td>\n",
              "      <td>621.0</td>\n",
              "    </tr>\n",
              "  </tbody>\n",
              "</table>\n",
              "</div>"
            ],
            "text/plain": [
              "                                               Title    type_area value_area  \\\n",
              "0  2 BHK Apartment for Sale in Vivaan Aura, Zunda...   super area  155 sqyrd   \n",
              "1  2 BHK Apartment for Sale in SP Epitome, Shela ...  carpet area   710 sqft   \n",
              "2  2 BHK Apartment for Sale in Pacifica Amara, Sa...  carpet area   588 sqft   \n",
              "3  2 BHK Apartment for Sale in Kavisha AER, Shela...  carpet area   687 sqft   \n",
              "4  2 BHK Apartment for Sale in Aarambh Vistara, G...  carpet area   621 sqft   \n",
              "\n",
              "  status         floor  transaction       furnishing facing      price BHK  \\\n",
              "0  ready  New Property  Unfurnished      Vivaan Aura      2  4810000.0   2   \n",
              "1  ready  New Property  Unfurnished       SP Epitome      2  5000000.0   2   \n",
              "2  ready  New Property  Unfurnished   Pacifica Amara      2  4000000.0   2   \n",
              "3  ready  New Property  Unfurnished      Kavisha AER      2  4880000.0   2   \n",
              "4  ready  New Property  Unfurnished  Aarambh Vistara      2  4800000.0   2   \n",
              "\n",
              "                           location         Building locality       city  \\\n",
              "0     Vivaan Aura, Zundal Ahmedabad      Vivaan Aura   Zundal  Ahmedabad   \n",
              "1       SP Epitome, Shela Ahmedabad       SP Epitome    Shela  Ahmedabad   \n",
              "2  Pacifica Amara, Sanand Ahmedabad   Pacifica Amara   Sanand  Ahmedabad   \n",
              "3      Kavisha AER, Shela Ahmedabad      Kavisha AER    Shela  Ahmedabad   \n",
              "4   Aarambh Vistara, Gota Ahmedabad  Aarambh Vistara     Gota  Ahmedabad   \n",
              "\n",
              "   area_sqft  \n",
              "0     1395.0  \n",
              "1      710.0  \n",
              "2      588.0  \n",
              "3      687.0  \n",
              "4      621.0  "
            ]
          },
          "execution_count": 1560,
          "metadata": {},
          "output_type": "execute_result"
        }
      ],
      "source": [
        "df.head()"
      ]
    },
    {
      "cell_type": "code",
      "execution_count": 1561,
      "metadata": {
        "id": "_De8qg8wu5l6"
      },
      "outputs": [],
      "source": [
        "df = df.drop(['Title', 'location'], axis=1)"
      ]
    },
    {
      "cell_type": "code",
      "execution_count": 1562,
      "metadata": {
        "id": "uSAsy2HIvvaT"
      },
      "outputs": [],
      "source": [
        "df = df.drop([ 'city', 'facing'], axis=1)"
      ]
    },
    {
      "cell_type": "code",
      "execution_count": 1563,
      "metadata": {
        "id": "G79azvAExHvQ"
      },
      "outputs": [],
      "source": [
        "df = df.drop(['floor', 'value_area'], axis=1)"
      ]
    },
    {
      "cell_type": "code",
      "execution_count": 1564,
      "metadata": {
        "colab": {
          "base_uri": "https://localhost:8080/",
          "height": 366
        },
        "id": "xZAc54P7xTvW",
        "outputId": "51325c5c-9117-4135-ff8a-61b4efc20d5c"
      },
      "outputs": [
        {
          "data": {
            "text/plain": [
              "type_area      0.000000\n",
              "status         0.000000\n",
              "transaction    0.000000\n",
              "furnishing     0.000000\n",
              "price          0.000000\n",
              "BHK            0.000000\n",
              "Building       0.000000\n",
              "locality       0.000000\n",
              "area_sqft      0.782176\n",
              "dtype: float64"
            ]
          },
          "execution_count": 1564,
          "metadata": {},
          "output_type": "execute_result"
        }
      ],
      "source": [
        "df.isnull().mean() * 100"
      ]
    },
    {
      "cell_type": "code",
      "execution_count": 1565,
      "metadata": {
        "colab": {
          "base_uri": "https://localhost:8080/"
        },
        "id": "r50EJMNXyLRG",
        "outputId": "da15d9b7-4fc2-4bf6-fccf-ce4518becfb2"
      },
      "outputs": [
        {
          "name": "stdout",
          "output_type": "stream",
          "text": [
            "<class 'pandas.core.frame.DataFrame'>\n",
            "Index: 4219 entries, 0 to 6852\n",
            "Data columns (total 9 columns):\n",
            " #   Column       Non-Null Count  Dtype  \n",
            "---  ------       --------------  -----  \n",
            " 0   type_area    4219 non-null   object \n",
            " 1   status       4219 non-null   object \n",
            " 2   transaction  4219 non-null   object \n",
            " 3   furnishing   4219 non-null   object \n",
            " 4   price        4219 non-null   float64\n",
            " 5   BHK          4219 non-null   object \n",
            " 6   Building     4219 non-null   object \n",
            " 7   locality     4219 non-null   object \n",
            " 8   area_sqft    4186 non-null   float64\n",
            "dtypes: float64(2), object(7)\n",
            "memory usage: 329.6+ KB\n"
          ]
        }
      ],
      "source": [
        "df.info()"
      ]
    },
    {
      "cell_type": "code",
      "execution_count": 1566,
      "metadata": {
        "colab": {
          "base_uri": "https://localhost:8080/",
          "height": 363
        },
        "id": "ZCaoNLcSxBMZ",
        "outputId": "927a5c79-aa76-4706-a1f7-7b3154e17fda"
      },
      "outputs": [
        {
          "data": {
            "text/html": [
              "<div>\n",
              "<style scoped>\n",
              "    .dataframe tbody tr th:only-of-type {\n",
              "        vertical-align: middle;\n",
              "    }\n",
              "\n",
              "    .dataframe tbody tr th {\n",
              "        vertical-align: top;\n",
              "    }\n",
              "\n",
              "    .dataframe thead th {\n",
              "        text-align: right;\n",
              "    }\n",
              "</style>\n",
              "<table border=\"1\" class=\"dataframe\">\n",
              "  <thead>\n",
              "    <tr style=\"text-align: right;\">\n",
              "      <th></th>\n",
              "      <th>type_area</th>\n",
              "      <th>status</th>\n",
              "      <th>transaction</th>\n",
              "      <th>furnishing</th>\n",
              "      <th>price</th>\n",
              "      <th>BHK</th>\n",
              "      <th>Building</th>\n",
              "      <th>locality</th>\n",
              "      <th>area_sqft</th>\n",
              "    </tr>\n",
              "  </thead>\n",
              "  <tbody>\n",
              "    <tr>\n",
              "      <th>2940</th>\n",
              "      <td>super area</td>\n",
              "      <td>ready</td>\n",
              "      <td>Resale</td>\n",
              "      <td>Furnished</td>\n",
              "      <td>6800000.0</td>\n",
              "      <td>2</td>\n",
              "      <td>Sangath IPL Pure</td>\n",
              "      <td>Chandkheda</td>\n",
              "      <td>712.0</td>\n",
              "    </tr>\n",
              "    <tr>\n",
              "      <th>2485</th>\n",
              "      <td>super area</td>\n",
              "      <td>ready</td>\n",
              "      <td>Resale</td>\n",
              "      <td>Furnished</td>\n",
              "      <td>8000000.0</td>\n",
              "      <td>3</td>\n",
              "      <td>Shukan Residency</td>\n",
              "      <td>Chandlodiya</td>\n",
              "      <td>1665.0</td>\n",
              "    </tr>\n",
              "    <tr>\n",
              "      <th>5938</th>\n",
              "      <td>super area</td>\n",
              "      <td>ready</td>\n",
              "      <td>Resale</td>\n",
              "      <td>Unfurnished</td>\n",
              "      <td>36600000.0</td>\n",
              "      <td>4</td>\n",
              "      <td>Oeuvre 2</td>\n",
              "      <td>Bodakdev</td>\n",
              "      <td>4260.0</td>\n",
              "    </tr>\n",
              "    <tr>\n",
              "      <th>564</th>\n",
              "      <td>carpet area</td>\n",
              "      <td>ready</td>\n",
              "      <td>Resale</td>\n",
              "      <td>Semi-Furnished</td>\n",
              "      <td>3800000.0</td>\n",
              "      <td>3</td>\n",
              "      <td>Athithi Ashray</td>\n",
              "      <td>Narolgam</td>\n",
              "      <td>1512.0</td>\n",
              "    </tr>\n",
              "    <tr>\n",
              "      <th>4230</th>\n",
              "      <td>carpet area</td>\n",
              "      <td>ready</td>\n",
              "      <td>Resale</td>\n",
              "      <td>Unfurnished</td>\n",
              "      <td>17000000.0</td>\n",
              "      <td>4</td>\n",
              "      <td>Swati Parkside</td>\n",
              "      <td>Shela</td>\n",
              "      <td>1120.0</td>\n",
              "    </tr>\n",
              "    <tr>\n",
              "      <th>3965</th>\n",
              "      <td>carpet area</td>\n",
              "      <td>ready</td>\n",
              "      <td>Resale</td>\n",
              "      <td>Furnished</td>\n",
              "      <td>12500000.0</td>\n",
              "      <td>4</td>\n",
              "      <td>Mithakhali</td>\n",
              "      <td>Navrangpura</td>\n",
              "      <td>1700.0</td>\n",
              "    </tr>\n",
              "    <tr>\n",
              "      <th>6005</th>\n",
              "      <td>carpet area</td>\n",
              "      <td>ready</td>\n",
              "      <td>New Property</td>\n",
              "      <td>Unfurnished</td>\n",
              "      <td>49900000.0</td>\n",
              "      <td>4</td>\n",
              "      <td>Oeuvre 2</td>\n",
              "      <td>Sumeru</td>\n",
              "      <td>3256.0</td>\n",
              "    </tr>\n",
              "    <tr>\n",
              "      <th>743</th>\n",
              "      <td>carpet area</td>\n",
              "      <td>ready</td>\n",
              "      <td>Resale</td>\n",
              "      <td>Furnished</td>\n",
              "      <td>4600000.0</td>\n",
              "      <td>2</td>\n",
              "      <td>Garden Paradise</td>\n",
              "      <td>Bopal</td>\n",
              "      <td>990.0</td>\n",
              "    </tr>\n",
              "    <tr>\n",
              "      <th>3374</th>\n",
              "      <td>carpet area</td>\n",
              "      <td>ready</td>\n",
              "      <td>Resale</td>\n",
              "      <td>Semi-Furnished</td>\n",
              "      <td>11000000.0</td>\n",
              "      <td>3</td>\n",
              "      <td>Gala Eternia</td>\n",
              "      <td>Thaltej</td>\n",
              "      <td>1000.0</td>\n",
              "    </tr>\n",
              "    <tr>\n",
              "      <th>5010</th>\n",
              "      <td>carpet area</td>\n",
              "      <td>ready</td>\n",
              "      <td>New Property</td>\n",
              "      <td>Unfurnished</td>\n",
              "      <td>31500000.0</td>\n",
              "      <td>4</td>\n",
              "      <td>Aranyam</td>\n",
              "      <td>Shilaj</td>\n",
              "      <td>2300.0</td>\n",
              "    </tr>\n",
              "  </tbody>\n",
              "</table>\n",
              "</div>"
            ],
            "text/plain": [
              "        type_area status   transaction      furnishing       price BHK  \\\n",
              "2940   super area  ready        Resale       Furnished   6800000.0   2   \n",
              "2485   super area  ready        Resale       Furnished   8000000.0   3   \n",
              "5938   super area  ready        Resale     Unfurnished  36600000.0   4   \n",
              "564   carpet area  ready        Resale  Semi-Furnished   3800000.0   3   \n",
              "4230  carpet area  ready        Resale     Unfurnished  17000000.0   4   \n",
              "3965  carpet area  ready        Resale       Furnished  12500000.0   4   \n",
              "6005  carpet area  ready  New Property     Unfurnished  49900000.0   4   \n",
              "743   carpet area  ready        Resale       Furnished   4600000.0   2   \n",
              "3374  carpet area  ready        Resale  Semi-Furnished  11000000.0   3   \n",
              "5010  carpet area  ready  New Property     Unfurnished  31500000.0   4   \n",
              "\n",
              "              Building     locality  area_sqft  \n",
              "2940  Sangath IPL Pure   Chandkheda      712.0  \n",
              "2485  Shukan Residency  Chandlodiya     1665.0  \n",
              "5938          Oeuvre 2     Bodakdev     4260.0  \n",
              "564     Athithi Ashray     Narolgam     1512.0  \n",
              "4230    Swati Parkside        Shela     1120.0  \n",
              "3965        Mithakhali  Navrangpura     1700.0  \n",
              "6005          Oeuvre 2       Sumeru     3256.0  \n",
              "743    Garden Paradise        Bopal      990.0  \n",
              "3374      Gala Eternia      Thaltej     1000.0  \n",
              "5010           Aranyam       Shilaj     2300.0  "
            ]
          },
          "execution_count": 1566,
          "metadata": {},
          "output_type": "execute_result"
        }
      ],
      "source": [
        "df.sample(10)"
      ]
    },
    {
      "cell_type": "code",
      "execution_count": 1567,
      "metadata": {
        "colab": {
          "base_uri": "https://localhost:8080/"
        },
        "id": "s-NLChRShCTf",
        "outputId": "968a7193-3994-4f1d-dc5d-cd0d7fc9517a"
      },
      "outputs": [
        {
          "name": "stdout",
          "output_type": "stream",
          "text": [
            "2\n"
          ]
        }
      ],
      "source": [
        "print(df['type_area'].nunique())"
      ]
    },
    {
      "cell_type": "code",
      "execution_count": 1568,
      "metadata": {
        "colab": {
          "base_uri": "https://localhost:8080/"
        },
        "id": "26lreNaa23g4",
        "outputId": "ea2844ca-3314-4990-f60d-18fd955599da"
      },
      "outputs": [
        {
          "name": "stdout",
          "output_type": "stream",
          "text": [
            "11\n"
          ]
        }
      ],
      "source": [
        "print(df['transaction'].nunique())"
      ]
    },
    {
      "cell_type": "code",
      "execution_count": 1569,
      "metadata": {
        "colab": {
          "base_uri": "https://localhost:8080/"
        },
        "id": "cJ8Qkt7v3Cjv",
        "outputId": "38c98d17-e41b-426f-866f-c943d8579328"
      },
      "outputs": [
        {
          "name": "stdout",
          "output_type": "stream",
          "text": [
            "125\n"
          ]
        }
      ],
      "source": [
        "print(df['furnishing'].nunique())"
      ]
    },
    {
      "cell_type": "code",
      "execution_count": 1570,
      "metadata": {
        "colab": {
          "base_uri": "https://localhost:8080/"
        },
        "id": "QIQfKVBZ3P0p",
        "outputId": "04e14a56-10ad-4ea2-cd17-7f35fd38d226"
      },
      "outputs": [
        {
          "name": "stdout",
          "output_type": "stream",
          "text": [
            "2\n"
          ]
        }
      ],
      "source": [
        "print(df['status'].nunique())"
      ]
    },
    {
      "cell_type": "code",
      "execution_count": 1571,
      "metadata": {
        "colab": {
          "base_uri": "https://localhost:8080/"
        },
        "id": "9NVBwYRnztV1",
        "outputId": "291d93f0-c0f9-42e7-f96a-eaf109f0c68b"
      },
      "outputs": [
        {
          "name": "stdout",
          "output_type": "stream",
          "text": [
            "['ready' 'not ready']\n"
          ]
        }
      ],
      "source": [
        "print(df['status'].unique())"
      ]
    },
    {
      "cell_type": "code",
      "execution_count": 1572,
      "metadata": {},
      "outputs": [
        {
          "data": {
            "text/plain": [
              "0"
            ]
          },
          "execution_count": 1572,
          "metadata": {},
          "output_type": "execute_result"
        }
      ],
      "source": [
        "df[df['status'] == 'floor'].shape[0]"
      ]
    },
    {
      "cell_type": "code",
      "execution_count": 1573,
      "metadata": {
        "colab": {
          "base_uri": "https://localhost:8080/"
        },
        "id": "xwM-y4Kmz8W8",
        "outputId": "34c29a33-0ab1-469b-b775-c43fa07f6f0a"
      },
      "outputs": [
        {
          "data": {
            "text/plain": [
              "array(['ready', 'not ready'], dtype=object)"
            ]
          },
          "execution_count": 1573,
          "metadata": {},
          "output_type": "execute_result"
        }
      ],
      "source": [
        "df['status'].unique()"
      ]
    },
    {
      "cell_type": "code",
      "execution_count": 1574,
      "metadata": {
        "colab": {
          "base_uri": "https://localhost:8080/"
        },
        "id": "cAG7zjUu3W_U",
        "outputId": "83404571-2514-4bc5-8589-0d9b03f8b0aa"
      },
      "outputs": [
        {
          "name": "stdout",
          "output_type": "stream",
          "text": [
            "1342\n"
          ]
        }
      ],
      "source": [
        "print(df['Building'].nunique())"
      ]
    },
    {
      "cell_type": "code",
      "execution_count": 1575,
      "metadata": {
        "colab": {
          "base_uri": "https://localhost:8080/",
          "height": 115
        },
        "id": "oUFmsM2YlJTQ",
        "outputId": "1970d743-14a0-49cb-dc07-072a7597bcda"
      },
      "outputs": [
        {
          "data": {
            "text/plain": [
              "3567    Orchid Heights\n",
              "Name: Building, dtype: object"
            ]
          },
          "execution_count": 1575,
          "metadata": {},
          "output_type": "execute_result"
        }
      ],
      "source": [
        "df['Building'].sample()"
      ]
    },
    {
      "cell_type": "code",
      "execution_count": 1576,
      "metadata": {
        "colab": {
          "base_uri": "https://localhost:8080/"
        },
        "id": "EakPb0Q530QD",
        "outputId": "da9c7957-2f7f-4a03-9639-5d8e16e2a7ee"
      },
      "outputs": [
        {
          "name": "stdout",
          "output_type": "stream",
          "text": [
            "261\n"
          ]
        }
      ],
      "source": [
        "print(df['locality'].nunique())"
      ]
    },
    {
      "cell_type": "code",
      "execution_count": 1577,
      "metadata": {
        "colab": {
          "base_uri": "https://localhost:8080/"
        },
        "id": "PdzBLwDI46Ds",
        "outputId": "0bee491c-ec7e-420b-b2ad-417217995c04"
      },
      "outputs": [
        {
          "name": "stdout",
          "output_type": "stream",
          "text": [
            "<class 'pandas.core.frame.DataFrame'>\n",
            "Index: 4219 entries, 0 to 6852\n",
            "Data columns (total 9 columns):\n",
            " #   Column       Non-Null Count  Dtype  \n",
            "---  ------       --------------  -----  \n",
            " 0   type_area    4219 non-null   object \n",
            " 1   status       4219 non-null   object \n",
            " 2   transaction  4219 non-null   object \n",
            " 3   furnishing   4219 non-null   object \n",
            " 4   price        4219 non-null   float64\n",
            " 5   BHK          4219 non-null   object \n",
            " 6   Building     4219 non-null   object \n",
            " 7   locality     4219 non-null   object \n",
            " 8   area_sqft    4186 non-null   float64\n",
            "dtypes: float64(2), object(7)\n",
            "memory usage: 329.6+ KB\n"
          ]
        }
      ],
      "source": [
        "df.info()"
      ]
    },
    {
      "cell_type": "code",
      "execution_count": 1578,
      "metadata": {
        "colab": {
          "base_uri": "https://localhost:8080/"
        },
        "id": "I6zUpvqxOVlz",
        "outputId": "e781fca4-ceef-4e22-94a7-ac05ed856824"
      },
      "outputs": [
        {
          "data": {
            "text/plain": [
              "dtype('int64')"
            ]
          },
          "execution_count": 1578,
          "metadata": {},
          "output_type": "execute_result"
        }
      ],
      "source": [
        "df['BHK'] = df['BHK'].astype('int')\n",
        "df['BHK'].dtype"
      ]
    },
    {
      "cell_type": "code",
      "execution_count": 1579,
      "metadata": {},
      "outputs": [],
      "source": [
        "def furnishing_fix(text):\n",
        "    if text not in ['Unfurnished', 'Furnished']:\n",
        "        return 'Furnished'\n",
        "\n",
        "    else:\n",
        "        return text\n",
        "\n",
        "df['furnishing'] = df['furnishing'].apply(furnishing_fix)"
      ]
    },
    {
      "cell_type": "code",
      "execution_count": 1580,
      "metadata": {},
      "outputs": [],
      "source": [
        "def transaction_fix(text):\n",
        "    if text not in ['New Property', 'Resale']:\n",
        "        return 'New Property'\n",
        "    else:\n",
        "        return text\n",
        "\n",
        "df['transaction'] = df['transaction'].apply(transaction_fix)"
      ]
    },
    {
      "cell_type": "code",
      "execution_count": null,
      "metadata": {},
      "outputs": [],
      "source": []
    },
    {
      "cell_type": "markdown",
      "metadata": {
        "id": "C4umeiU947Jq"
      },
      "source": [
        "# Now all the graphs work"
      ]
    },
    {
      "cell_type": "code",
      "execution_count": 1581,
      "metadata": {
        "colab": {
          "base_uri": "https://localhost:8080/",
          "height": 300
        },
        "id": "WJF4kiEOPNce",
        "outputId": "424ca164-01a7-48b1-9cd2-7841ab61b96a"
      },
      "outputs": [
        {
          "data": {
            "text/html": [
              "<div>\n",
              "<style scoped>\n",
              "    .dataframe tbody tr th:only-of-type {\n",
              "        vertical-align: middle;\n",
              "    }\n",
              "\n",
              "    .dataframe tbody tr th {\n",
              "        vertical-align: top;\n",
              "    }\n",
              "\n",
              "    .dataframe thead th {\n",
              "        text-align: right;\n",
              "    }\n",
              "</style>\n",
              "<table border=\"1\" class=\"dataframe\">\n",
              "  <thead>\n",
              "    <tr style=\"text-align: right;\">\n",
              "      <th></th>\n",
              "      <th>price</th>\n",
              "      <th>BHK</th>\n",
              "      <th>area_sqft</th>\n",
              "    </tr>\n",
              "  </thead>\n",
              "  <tbody>\n",
              "    <tr>\n",
              "      <th>count</th>\n",
              "      <td>4.219000e+03</td>\n",
              "      <td>4219.000000</td>\n",
              "      <td>4186.000000</td>\n",
              "    </tr>\n",
              "    <tr>\n",
              "      <th>mean</th>\n",
              "      <td>2.472075e+07</td>\n",
              "      <td>3.318796</td>\n",
              "      <td>2424.955805</td>\n",
              "    </tr>\n",
              "    <tr>\n",
              "      <th>std</th>\n",
              "      <td>9.683804e+07</td>\n",
              "      <td>1.044099</td>\n",
              "      <td>11673.048935</td>\n",
              "    </tr>\n",
              "    <tr>\n",
              "      <th>min</th>\n",
              "      <td>2.500000e+05</td>\n",
              "      <td>1.000000</td>\n",
              "      <td>12.000000</td>\n",
              "    </tr>\n",
              "    <tr>\n",
              "      <th>25%</th>\n",
              "      <td>7.000000e+06</td>\n",
              "      <td>3.000000</td>\n",
              "      <td>1134.250000</td>\n",
              "    </tr>\n",
              "    <tr>\n",
              "      <th>50%</th>\n",
              "      <td>1.600000e+07</td>\n",
              "      <td>3.000000</td>\n",
              "      <td>1901.000000</td>\n",
              "    </tr>\n",
              "    <tr>\n",
              "      <th>75%</th>\n",
              "      <td>3.370000e+07</td>\n",
              "      <td>4.000000</td>\n",
              "      <td>2970.000000</td>\n",
              "    </tr>\n",
              "    <tr>\n",
              "      <th>max</th>\n",
              "      <td>6.181500e+09</td>\n",
              "      <td>9.000000</td>\n",
              "      <td>750000.000000</td>\n",
              "    </tr>\n",
              "  </tbody>\n",
              "</table>\n",
              "</div>"
            ],
            "text/plain": [
              "              price          BHK      area_sqft\n",
              "count  4.219000e+03  4219.000000    4186.000000\n",
              "mean   2.472075e+07     3.318796    2424.955805\n",
              "std    9.683804e+07     1.044099   11673.048935\n",
              "min    2.500000e+05     1.000000      12.000000\n",
              "25%    7.000000e+06     3.000000    1134.250000\n",
              "50%    1.600000e+07     3.000000    1901.000000\n",
              "75%    3.370000e+07     4.000000    2970.000000\n",
              "max    6.181500e+09     9.000000  750000.000000"
            ]
          },
          "execution_count": 1581,
          "metadata": {},
          "output_type": "execute_result"
        }
      ],
      "source": [
        "df.describe()"
      ]
    },
    {
      "cell_type": "code",
      "execution_count": 1582,
      "metadata": {
        "id": "0UmAFkSZQwdt"
      },
      "outputs": [],
      "source": [
        "import copy\n",
        "df_cleaned = copy.deepcopy(df)"
      ]
    },
    {
      "cell_type": "code",
      "execution_count": 1583,
      "metadata": {
        "id": "WKxPQnqMPSpi"
      },
      "outputs": [],
      "source": [
        "# removing outliers for price\n",
        "\n",
        "\n",
        "Q1 = df_cleaned['price'].quantile(0.25)\n",
        "Q3 = df_cleaned['price'].quantile(0.75)\n",
        "\n",
        "IQR = Q3 - Q1\n",
        "\n",
        "lower_fence = Q1 - 1.5 * (IQR)\n",
        "upper_fence = Q3 + 1.5 * (IQR)\n",
        "\n",
        "df_cleaned = df_cleaned[(df_cleaned['price'] >= lower_fence) & (df_cleaned['price']<= upper_fence)]"
      ]
    },
    {
      "cell_type": "code",
      "execution_count": 1584,
      "metadata": {
        "id": "PXAdwU5eRhtt"
      },
      "outputs": [],
      "source": [
        "# removing outliers for area\n",
        "\n",
        "\n",
        "Q1 = df_cleaned['area_sqft'].quantile(0.25)\n",
        "Q3 = df_cleaned['area_sqft'].quantile(0.75)\n",
        "\n",
        "IQR = Q3 - Q1\n",
        "\n",
        "lower_fence = Q1 - 1.5 * (IQR)\n",
        "upper_fence = Q3 + 1.5 * (IQR)\n",
        "\n",
        "df_cleaned = df_cleaned[(df_cleaned['area_sqft'] >= lower_fence) & (df_cleaned['area_sqft']<= upper_fence)]"
      ]
    },
    {
      "cell_type": "code",
      "execution_count": 1585,
      "metadata": {
        "id": "KBQJybyKR5pf"
      },
      "outputs": [],
      "source": [
        "# removing outliers for BHK\n",
        "\n",
        "\n",
        "Q1 = df_cleaned['BHK'].quantile(0.25)\n",
        "Q3 = df_cleaned['BHK'].quantile(0.75)\n",
        "\n",
        "IQR = Q3 - Q1\n",
        "\n",
        "lower_fence = Q1 - 1.5 * (IQR)\n",
        "upper_fence = Q3 + 1.5 * (IQR)\n",
        "\n",
        "df_cleaned = df_cleaned[(df_cleaned['BHK'] >= lower_fence) & (df_cleaned['BHK']<= upper_fence)]"
      ]
    },
    {
      "cell_type": "code",
      "execution_count": 1586,
      "metadata": {
        "id": "eDOk_D6sOEAH"
      },
      "outputs": [],
      "source": [
        "# df_cleaned['furnishing'].unique()"
      ]
    },
    {
      "cell_type": "code",
      "execution_count": 1587,
      "metadata": {
        "colab": {
          "base_uri": "https://localhost:8080/"
        },
        "id": "-QzRgF8pOWeE",
        "outputId": "95488796-8af9-4307-8695-035123dc6348"
      },
      "outputs": [
        {
          "data": {
            "text/plain": [
              "array(['New Property', 'Resale'], dtype=object)"
            ]
          },
          "execution_count": 1587,
          "metadata": {},
          "output_type": "execute_result"
        }
      ],
      "source": [
        "df_cleaned['transaction'].unique()"
      ]
    },
    {
      "cell_type": "code",
      "execution_count": 1588,
      "metadata": {},
      "outputs": [
        {
          "data": {
            "text/plain": [
              "array(['New Property', 'Resale'], dtype=object)"
            ]
          },
          "execution_count": 1588,
          "metadata": {},
          "output_type": "execute_result"
        }
      ],
      "source": [
        "df_cleaned['transaction'].unique()"
      ]
    },
    {
      "cell_type": "code",
      "execution_count": 1589,
      "metadata": {},
      "outputs": [
        {
          "data": {
            "text/plain": [
              "array(['Furnished', 'Unfurnished'], dtype=object)"
            ]
          },
          "execution_count": 1589,
          "metadata": {},
          "output_type": "execute_result"
        }
      ],
      "source": [
        "df_cleaned['furnishing'].unique()"
      ]
    },
    {
      "cell_type": "code",
      "execution_count": 1590,
      "metadata": {
        "colab": {
          "base_uri": "https://localhost:8080/",
          "height": 269
        },
        "id": "8mY5XLLE5Wjs",
        "outputId": "24b27bf3-569b-460a-f4c6-d1672abdbd1a"
      },
      "outputs": [
        {
          "data": {
            "text/html": [
              "<div>\n",
              "<style scoped>\n",
              "    .dataframe tbody tr th:only-of-type {\n",
              "        vertical-align: middle;\n",
              "    }\n",
              "\n",
              "    .dataframe tbody tr th {\n",
              "        vertical-align: top;\n",
              "    }\n",
              "\n",
              "    .dataframe thead th {\n",
              "        text-align: right;\n",
              "    }\n",
              "</style>\n",
              "<table border=\"1\" class=\"dataframe\">\n",
              "  <thead>\n",
              "    <tr style=\"text-align: right;\">\n",
              "      <th></th>\n",
              "      <th>furnishing</th>\n",
              "      <th>transaction</th>\n",
              "    </tr>\n",
              "  </thead>\n",
              "  <tbody>\n",
              "    <tr>\n",
              "      <th>2375</th>\n",
              "      <td>Unfurnished</td>\n",
              "      <td>Resale</td>\n",
              "    </tr>\n",
              "    <tr>\n",
              "      <th>5095</th>\n",
              "      <td>Unfurnished</td>\n",
              "      <td>New Property</td>\n",
              "    </tr>\n",
              "    <tr>\n",
              "      <th>4838</th>\n",
              "      <td>Unfurnished</td>\n",
              "      <td>New Property</td>\n",
              "    </tr>\n",
              "    <tr>\n",
              "      <th>5266</th>\n",
              "      <td>Furnished</td>\n",
              "      <td>Resale</td>\n",
              "    </tr>\n",
              "    <tr>\n",
              "      <th>3905</th>\n",
              "      <td>Furnished</td>\n",
              "      <td>Resale</td>\n",
              "    </tr>\n",
              "    <tr>\n",
              "      <th>5072</th>\n",
              "      <td>Unfurnished</td>\n",
              "      <td>New Property</td>\n",
              "    </tr>\n",
              "    <tr>\n",
              "      <th>4872</th>\n",
              "      <td>Unfurnished</td>\n",
              "      <td>Resale</td>\n",
              "    </tr>\n",
              "  </tbody>\n",
              "</table>\n",
              "</div>"
            ],
            "text/plain": [
              "       furnishing   transaction\n",
              "2375  Unfurnished        Resale\n",
              "5095  Unfurnished  New Property\n",
              "4838  Unfurnished  New Property\n",
              "5266    Furnished        Resale\n",
              "3905    Furnished        Resale\n",
              "5072  Unfurnished  New Property\n",
              "4872  Unfurnished        Resale"
            ]
          },
          "execution_count": 1590,
          "metadata": {},
          "output_type": "execute_result"
        }
      ],
      "source": [
        "df_cleaned[['furnishing','transaction']].sample(7)"
      ]
    },
    {
      "cell_type": "code",
      "execution_count": 1591,
      "metadata": {
        "colab": {
          "base_uri": "https://localhost:8080/"
        },
        "id": "ofaMi3i5RRBI",
        "outputId": "2118ed4f-33bb-4864-d4f1-5131f973e1f4"
      },
      "outputs": [
        {
          "data": {
            "text/plain": [
              "array(['ready', 'not ready'], dtype=object)"
            ]
          },
          "execution_count": 1591,
          "metadata": {},
          "output_type": "execute_result"
        }
      ],
      "source": [
        "df_cleaned['status'].unique()"
      ]
    },
    {
      "cell_type": "code",
      "execution_count": 1592,
      "metadata": {},
      "outputs": [
        {
          "data": {
            "text/plain": [
              "array(['ready', 'not ready'], dtype=object)"
            ]
          },
          "execution_count": 1592,
          "metadata": {},
          "output_type": "execute_result"
        }
      ],
      "source": [
        "df_cleaned['status'].unique()"
      ]
    },
    {
      "cell_type": "code",
      "execution_count": 1593,
      "metadata": {
        "colab": {
          "base_uri": "https://localhost:8080/",
          "height": 363
        },
        "id": "pT3cPzYZQuvO",
        "outputId": "0138fbb0-7757-4de2-9245-9542a2ef3765"
      },
      "outputs": [
        {
          "data": {
            "text/html": [
              "<div>\n",
              "<style scoped>\n",
              "    .dataframe tbody tr th:only-of-type {\n",
              "        vertical-align: middle;\n",
              "    }\n",
              "\n",
              "    .dataframe tbody tr th {\n",
              "        vertical-align: top;\n",
              "    }\n",
              "\n",
              "    .dataframe thead th {\n",
              "        text-align: right;\n",
              "    }\n",
              "</style>\n",
              "<table border=\"1\" class=\"dataframe\">\n",
              "  <thead>\n",
              "    <tr style=\"text-align: right;\">\n",
              "      <th></th>\n",
              "      <th>status</th>\n",
              "      <th>Building</th>\n",
              "    </tr>\n",
              "  </thead>\n",
              "  <tbody>\n",
              "    <tr>\n",
              "      <th>4102</th>\n",
              "      <td>ready</td>\n",
              "      <td>Ratnaakar Pristine</td>\n",
              "    </tr>\n",
              "    <tr>\n",
              "      <th>3186</th>\n",
              "      <td>ready</td>\n",
              "      <td>Arham Luxuria</td>\n",
              "    </tr>\n",
              "    <tr>\n",
              "      <th>4592</th>\n",
              "      <td>ready</td>\n",
              "      <td>PRL Colony</td>\n",
              "    </tr>\n",
              "    <tr>\n",
              "      <th>1847</th>\n",
              "      <td>ready</td>\n",
              "      <td>The Q</td>\n",
              "    </tr>\n",
              "    <tr>\n",
              "      <th>1899</th>\n",
              "      <td>ready</td>\n",
              "      <td>Safal Sameep</td>\n",
              "    </tr>\n",
              "    <tr>\n",
              "      <th>1964</th>\n",
              "      <td>ready</td>\n",
              "      <td>Richmond Grand</td>\n",
              "    </tr>\n",
              "    <tr>\n",
              "      <th>4287</th>\n",
              "      <td>ready</td>\n",
              "      <td>Ratna Turquoise</td>\n",
              "    </tr>\n",
              "    <tr>\n",
              "      <th>5001</th>\n",
              "      <td>ready</td>\n",
              "      <td>Riviera Elite</td>\n",
              "    </tr>\n",
              "    <tr>\n",
              "      <th>5688</th>\n",
              "      <td>ready</td>\n",
              "      <td>Serenity Lavish</td>\n",
              "    </tr>\n",
              "    <tr>\n",
              "      <th>218</th>\n",
              "      <td>ready</td>\n",
              "      <td>Orchid Green Field</td>\n",
              "    </tr>\n",
              "  </tbody>\n",
              "</table>\n",
              "</div>"
            ],
            "text/plain": [
              "     status            Building\n",
              "4102  ready  Ratnaakar Pristine\n",
              "3186  ready       Arham Luxuria\n",
              "4592  ready          PRL Colony\n",
              "1847  ready               The Q\n",
              "1899  ready        Safal Sameep\n",
              "1964  ready      Richmond Grand\n",
              "4287  ready     Ratna Turquoise\n",
              "5001  ready       Riviera Elite\n",
              "5688  ready     Serenity Lavish\n",
              "218   ready  Orchid Green Field"
            ]
          },
          "execution_count": 1593,
          "metadata": {},
          "output_type": "execute_result"
        }
      ],
      "source": [
        "df_cleaned[['status', 'Building']].sample(10)"
      ]
    },
    {
      "cell_type": "code",
      "execution_count": 1594,
      "metadata": {
        "id": "y_CVPn7uS0bJ"
      },
      "outputs": [],
      "source": [
        "# df_cleaned['locality']\n"
      ]
    },
    {
      "cell_type": "code",
      "execution_count": 1595,
      "metadata": {
        "colab": {
          "base_uri": "https://localhost:8080/"
        },
        "id": "HI_34mKiVchJ",
        "outputId": "75d618d3-35f0-4be1-9bfe-fb8d1bf253da"
      },
      "outputs": [
        {
          "name": "stdout",
          "output_type": "stream",
          "text": [
            "<class 'pandas.core.frame.DataFrame'>\n",
            "Index: 3760 entries, 0 to 6852\n",
            "Data columns (total 9 columns):\n",
            " #   Column       Non-Null Count  Dtype  \n",
            "---  ------       --------------  -----  \n",
            " 0   type_area    3760 non-null   object \n",
            " 1   status       3760 non-null   object \n",
            " 2   transaction  3760 non-null   object \n",
            " 3   furnishing   3760 non-null   object \n",
            " 4   price        3760 non-null   float64\n",
            " 5   BHK          3760 non-null   int64  \n",
            " 6   Building     3760 non-null   object \n",
            " 7   locality     3760 non-null   object \n",
            " 8   area_sqft    3760 non-null   float64\n",
            "dtypes: float64(2), int64(1), object(6)\n",
            "memory usage: 293.8+ KB\n"
          ]
        }
      ],
      "source": [
        "df_cleaned.info()"
      ]
    },
    {
      "cell_type": "code",
      "execution_count": 1596,
      "metadata": {
        "id": "_Vp0wi0eekIz"
      },
      "outputs": [],
      "source": [
        "df_cleaned = df.dropna()"
      ]
    },
    {
      "cell_type": "code",
      "execution_count": 1597,
      "metadata": {},
      "outputs": [
        {
          "data": {
            "text/plain": [
              "np.float64(60.75075364828408)"
            ]
          },
          "execution_count": 1597,
          "metadata": {},
          "output_type": "execute_result"
        }
      ],
      "source": [
        "df_cleaned['price'].skew()"
      ]
    },
    {
      "cell_type": "code",
      "execution_count": 1598,
      "metadata": {
        "colab": {
          "base_uri": "https://localhost:8080/",
          "height": 466
        },
        "id": "cRkMWgpWSpVa",
        "outputId": "84b0f3c7-b02d-40e5-aa94-a290775fd613"
      },
      "outputs": [
        {
          "data": {
            "text/plain": [
              "<Axes: xlabel='price', ylabel='Count'>"
            ]
          },
          "execution_count": 1598,
          "metadata": {},
          "output_type": "execute_result"
        },
        {
          "data": {
            "image/png": "[encoded data removed]",
            "text/plain": [
              "<Figure size 640x480 with 1 Axes>"
            ]
          },
          "metadata": {},
          "output_type": "display_data"
        }
      ],
      "source": [
        "sns.histplot(np.log1p(df['price']), bins=50, kde= True)"
      ]
    },
    {
      "cell_type": "code",
      "execution_count": 1599,
      "metadata": {
        "colab": {
          "base_uri": "https://localhost:8080/",
          "height": 466
        },
        "id": "G57V6PMqTF3s",
        "outputId": "409eedf1-b866-44ed-a66b-bae881937119"
      },
      "outputs": [
        {
          "data": {
            "text/plain": [
              "<Axes: xlabel='price'>"
            ]
          },
          "execution_count": 1599,
          "metadata": {},
          "output_type": "execute_result"
        },
        {
          "data": {
            "image/png": "[encoded data removed]",
            "text/plain": [
              "<Figure size 640x480 with 1 Axes>"
            ]
          },
          "metadata": {},
          "output_type": "display_data"
        }
      ],
      "source": [
        "sns.boxplot(x=np.log1p(df_cleaned['price']))"
      ]
    },
    {
      "cell_type": "code",
      "execution_count": 1600,
      "metadata": {
        "id": "rxmjY2rG1B20"
      },
      "outputs": [],
      "source": [
        "df_cleaned.loc[:,'price'] = np.log1p(df_cleaned['price'])"
      ]
    },
    {
      "cell_type": "code",
      "execution_count": 1601,
      "metadata": {
        "colab": {
          "base_uri": "https://localhost:8080/"
        },
        "id": "p7MLhlOZjYYb",
        "outputId": "d5d70acd-25dc-458b-e615-36d94e6b8cdf"
      },
      "outputs": [
        {
          "data": {
            "text/plain": [
              "np.float64(-0.4845579020361784)"
            ]
          },
          "execution_count": 1601,
          "metadata": {},
          "output_type": "execute_result"
        }
      ],
      "source": [
        "np.log1p(df_cleaned['area_sqft']).skew()"
      ]
    },
    {
      "cell_type": "code",
      "execution_count": 1602,
      "metadata": {
        "colab": {
          "base_uri": "https://localhost:8080/",
          "height": 467
        },
        "id": "_-f8WCBwiHWF",
        "outputId": "0b2c9783-449f-4315-b13c-9634f7cd7068"
      },
      "outputs": [
        {
          "data": {
            "text/plain": [
              "<Axes: xlabel='area_sqft', ylabel='Count'>"
            ]
          },
          "execution_count": 1602,
          "metadata": {},
          "output_type": "execute_result"
        },
        {
          "data": {
            "image/png": "[encoded data removed]",
            "text/plain": [
              "<Figure size 640x480 with 1 Axes>"
            ]
          },
          "metadata": {},
          "output_type": "display_data"
        }
      ],
      "source": [
        "sns.histplot(np.log1p(df['area_sqft']), bins=50, kde=True)"
      ]
    },
    {
      "cell_type": "code",
      "execution_count": 1603,
      "metadata": {
        "colab": {
          "base_uri": "https://localhost:8080/",
          "height": 450
        },
        "id": "pUZ4PYsj4Ie7",
        "outputId": "f2b4696f-b9a9-4b99-8354-4dfb47f5023b"
      },
      "outputs": [
        {
          "data": {
            "image/png": "[encoded data removed]",
            "text/plain": [
              "<Figure size 640x480 with 1 Axes>"
            ]
          },
          "metadata": {},
          "output_type": "display_data"
        }
      ],
      "source": [
        "sns.boxplot(x=np.log1p(df_cleaned['area_sqft']))\n",
        "plt.show()"
      ]
    },
    {
      "cell_type": "code",
      "execution_count": 1604,
      "metadata": {
        "id": "TMV_fOnL3qrm"
      },
      "outputs": [],
      "source": [
        "df_cleaned.loc[:,'area_sqft'] = np.log1p(df_cleaned['area_sqft'])"
      ]
    },
    {
      "cell_type": "code",
      "execution_count": 1605,
      "metadata": {
        "colab": {
          "base_uri": "https://localhost:8080/"
        },
        "id": "ysMi7mvSjjgJ",
        "outputId": "79099de9-141d-4c6b-adab-3392deab538d"
      },
      "outputs": [
        {
          "data": {
            "text/plain": [
              "np.float64(-0.2257632340807098)"
            ]
          },
          "execution_count": 1605,
          "metadata": {},
          "output_type": "execute_result"
        }
      ],
      "source": [
        "df['BHK'].skew()"
      ]
    },
    {
      "cell_type": "code",
      "execution_count": 1606,
      "metadata": {
        "colab": {
          "base_uri": "https://localhost:8080/",
          "height": 466
        },
        "id": "m5zopfAIiXwJ",
        "outputId": "1b8c7890-8f7d-47d9-b3b4-81bbbab9bc4b"
      },
      "outputs": [
        {
          "data": {
            "text/plain": [
              "<Axes: xlabel='BHK', ylabel='Count'>"
            ]
          },
          "execution_count": 1606,
          "metadata": {},
          "output_type": "execute_result"
        },
        {
          "data": {
            "image/png": "[encoded data removed]",
            "text/plain": [
              "<Figure size 640x480 with 1 Axes>"
            ]
          },
          "metadata": {},
          "output_type": "display_data"
        }
      ],
      "source": [
        "sns.histplot(df['BHK'], bins=50, kde= True)"
      ]
    },
    {
      "cell_type": "code",
      "execution_count": 1607,
      "metadata": {
        "colab": {
          "base_uri": "https://localhost:8080/",
          "height": 466
        },
        "id": "8nRPtjs94p9E",
        "outputId": "830027cb-7cb5-49ac-a710-5f5aa1fa9464"
      },
      "outputs": [
        {
          "data": {
            "text/plain": [
              "<Axes: xlabel='BHK'>"
            ]
          },
          "execution_count": 1607,
          "metadata": {},
          "output_type": "execute_result"
        },
        {
          "data": {
            "image/png": "[encoded data removed]",
            "text/plain": [
              "<Figure size 640x480 with 1 Axes>"
            ]
          },
          "metadata": {},
          "output_type": "display_data"
        }
      ],
      "source": [
        "sns.boxenplot(x=(df_cleaned['BHK']))"
      ]
    },
    {
      "cell_type": "code",
      "execution_count": 1608,
      "metadata": {
        "colab": {
          "base_uri": "https://localhost:8080/"
        },
        "id": "jz0o3v2YMa5S",
        "outputId": "046c3319-3d9b-4033-e798-ff2b635e1aca"
      },
      "outputs": [
        {
          "name": "stdout",
          "output_type": "stream",
          "text": [
            "Index(['type_area', 'status', 'transaction', 'furnishing', 'Building',\n",
            "       'locality'],\n",
            "      dtype='object')\n"
          ]
        }
      ],
      "source": [
        "categorical_col = df.select_dtypes(include=['object', 'category']).columns\n",
        "print(categorical_col)"
      ]
    },
    {
      "cell_type": "code",
      "execution_count": 1609,
      "metadata": {
        "colab": {
          "base_uri": "https://localhost:8080/"
        },
        "id": "PjsGzjpvNDLX",
        "outputId": "270513e4-c305-45ee-e1e6-b38c1d3de50d"
      },
      "outputs": [
        {
          "name": "stdout",
          "output_type": "stream",
          "text": [
            "removed : 4219 and df_cleaned: 4186\n"
          ]
        }
      ],
      "source": [
        "print(f\"removed : {len(df)} and df_cleaned: {len(df_cleaned)}\")"
      ]
    },
    {
      "cell_type": "code",
      "execution_count": 1610,
      "metadata": {
        "colab": {
          "base_uri": "https://localhost:8080/",
          "height": 467
        },
        "id": "MeLn39om3zeb",
        "outputId": "e65535ea-8444-4f67-a5f3-5ba01bc56ef0"
      },
      "outputs": [
        {
          "data": {
            "text/plain": [
              "<Axes: xlabel='area_sqft'>"
            ]
          },
          "execution_count": 1610,
          "metadata": {},
          "output_type": "execute_result"
        },
        {
          "data": {
            "image/png": "[encoded data removed]",
            "text/plain": [
              "<Figure size 640x480 with 1 Axes>"
            ]
          },
          "metadata": {},
          "output_type": "display_data"
        }
      ],
      "source": [
        "# sns.boxplot(x=df_cleaned['price'])\n",
        "sns.boxenplot(x=df_cleaned['area_sqft'])"
      ]
    },
    {
      "cell_type": "code",
      "execution_count": 1611,
      "metadata": {
        "id": "m5WuDEYx5Jqo"
      },
      "outputs": [],
      "source": [
        "# the columns area_sqft and price are in log1p form"
      ]
    },
    {
      "cell_type": "code",
      "execution_count": 1612,
      "metadata": {},
      "outputs": [],
      "source": [
        "df_cleaned = df_cleaned.rename(columns={'furnishing':'furninshed', 'BHK':'bhk', 'type_area':'area_type', 'transaction':'new_property'})"
      ]
    },
    {
      "cell_type": "code",
      "execution_count": 1613,
      "metadata": {
        "colab": {
          "base_uri": "https://localhost:8080/",
          "height": 206
        },
        "id": "KU_q6uXl4vr6",
        "outputId": "b3869a6f-8575-41dc-92cf-816a3914363e"
      },
      "outputs": [
        {
          "data": {
            "text/html": [
              "<div>\n",
              "<style scoped>\n",
              "    .dataframe tbody tr th:only-of-type {\n",
              "        vertical-align: middle;\n",
              "    }\n",
              "\n",
              "    .dataframe tbody tr th {\n",
              "        vertical-align: top;\n",
              "    }\n",
              "\n",
              "    .dataframe thead th {\n",
              "        text-align: right;\n",
              "    }\n",
              "</style>\n",
              "<table border=\"1\" class=\"dataframe\">\n",
              "  <thead>\n",
              "    <tr style=\"text-align: right;\">\n",
              "      <th></th>\n",
              "      <th>area_type</th>\n",
              "      <th>status</th>\n",
              "      <th>new_property</th>\n",
              "      <th>furninshed</th>\n",
              "      <th>price</th>\n",
              "      <th>bhk</th>\n",
              "      <th>Building</th>\n",
              "      <th>locality</th>\n",
              "      <th>area_sqft</th>\n",
              "    </tr>\n",
              "  </thead>\n",
              "  <tbody>\n",
              "    <tr>\n",
              "      <th>3333</th>\n",
              "      <td>carpet area</td>\n",
              "      <td>ready</td>\n",
              "      <td>Resale</td>\n",
              "      <td>Unfurnished</td>\n",
              "      <td>16.883564</td>\n",
              "      <td>4</td>\n",
              "      <td>Galaxy Gala Laxuria</td>\n",
              "      <td>South Bopal Bopal</td>\n",
              "      <td>7.824446</td>\n",
              "    </tr>\n",
              "    <tr>\n",
              "      <th>2107</th>\n",
              "      <td>carpet area</td>\n",
              "      <td>ready</td>\n",
              "      <td>Resale</td>\n",
              "      <td>Unfurnished</td>\n",
              "      <td>15.761421</td>\n",
              "      <td>3</td>\n",
              "      <td>Shyamdeep Residency</td>\n",
              "      <td>Navjivan Navrangpura</td>\n",
              "      <td>6.909753</td>\n",
              "    </tr>\n",
              "    <tr>\n",
              "      <th>4113</th>\n",
              "      <td>carpet area</td>\n",
              "      <td>ready</td>\n",
              "      <td>New Property</td>\n",
              "      <td>Unfurnished</td>\n",
              "      <td>16.864784</td>\n",
              "      <td>4</td>\n",
              "      <td>Kavisha The Portrait</td>\n",
              "      <td>Shela</td>\n",
              "      <td>7.638680</td>\n",
              "    </tr>\n",
              "    <tr>\n",
              "      <th>5427</th>\n",
              "      <td>super area</td>\n",
              "      <td>ready</td>\n",
              "      <td>Resale</td>\n",
              "      <td>Unfurnished</td>\n",
              "      <td>17.118728</td>\n",
              "      <td>4</td>\n",
              "      <td>Riviera Elite</td>\n",
              "      <td>Shela</td>\n",
              "      <td>8.171599</td>\n",
              "    </tr>\n",
              "    <tr>\n",
              "      <th>4656</th>\n",
              "      <td>carpet area</td>\n",
              "      <td>ready</td>\n",
              "      <td>New Property</td>\n",
              "      <td>Unfurnished</td>\n",
              "      <td>17.318060</td>\n",
              "      <td>4</td>\n",
              "      <td>Jodhpur Village</td>\n",
              "      <td>Jodhpur</td>\n",
              "      <td>7.868254</td>\n",
              "    </tr>\n",
              "  </tbody>\n",
              "</table>\n",
              "</div>"
            ],
            "text/plain": [
              "        area_type status  new_property   furninshed      price  bhk  \\\n",
              "3333  carpet area  ready        Resale  Unfurnished  16.883564    4   \n",
              "2107  carpet area  ready        Resale  Unfurnished  15.761421    3   \n",
              "4113  carpet area  ready  New Property  Unfurnished  16.864784    4   \n",
              "5427   super area  ready        Resale  Unfurnished  17.118728    4   \n",
              "4656  carpet area  ready  New Property  Unfurnished  17.318060    4   \n",
              "\n",
              "                  Building              locality  area_sqft  \n",
              "3333   Galaxy Gala Laxuria     South Bopal Bopal   7.824446  \n",
              "2107   Shyamdeep Residency  Navjivan Navrangpura   6.909753  \n",
              "4113  Kavisha The Portrait                 Shela   7.638680  \n",
              "5427         Riviera Elite                 Shela   8.171599  \n",
              "4656       Jodhpur Village               Jodhpur   7.868254  "
            ]
          },
          "execution_count": 1613,
          "metadata": {},
          "output_type": "execute_result"
        }
      ],
      "source": [
        "df_cleaned.sample(5)"
      ]
    },
    {
      "cell_type": "markdown",
      "metadata": {
        "id": "4Lv34WdYl_M0"
      },
      "source": [
        "# data export to the csv file for training on another notebook\n"
      ]
    },
    {
      "cell_type": "code",
      "execution_count": null,
      "metadata": {
        "id": "dWCZJsD_erem"
      },
      "outputs": [],
      "source": [
        "# df_cleaned.to_csv('cleaned_data.csv', index=False)"
      ]
    },
    {
      "cell_type": "code",
      "execution_count": null,
      "metadata": {},
      "outputs": [],
      "source": [
        "# import pandas as pd\n",
        "# import json\n",
        "\n",
        "# # Example cleaned DataFrame\n",
        "# df_cleaned = pd.read_csv(\"cleaned_data.csv\")\n",
        "\n",
        "# # Categorical features JSON\n",
        "# cat_features = df_cleaned.select_dtypes(include=['object', 'category']).columns\n",
        "# cat_dict = {col: df_cleaned[col].dropna().unique().tolist() for col in cat_features}\n",
        "\n",
        "# with open(\"categorical_features.json\", \"w\") as f:\n",
        "#     json.dump(cat_dict, f, indent=4)\n",
        "\n",
        "# # Numeric features JSON\n",
        "# num_features = df_cleaned.select_dtypes(include=['int64', 'float64']).columns.tolist()\n",
        "# num_dict = {col: {\"min\": int(df_cleaned[col].min()), \"max\": int(df_cleaned[col].max()), \"mean\": float(df_cleaned[col].mean())} for col in num_features}\n",
        "\n",
        "# with open(\"numeric_features.json\", \"w\") as f:\n",
        "#     json.dump(num_dict, f, indent=4)\n"
      ]
    }
  ],
  "metadata": {
    "colab": {
      "provenance": []
    },
    "kaggle": {
      "accelerator": "none",
      "dataSources": [
        {
          "datasetId": 5178748,
          "sourceId": 8646510,
          "sourceType": "datasetVersion"
        }
      ],
      "dockerImageVersionId": 30732,
      "isGpuEnabled": false,
      "isInternetEnabled": true,
      "language": "python",
      "sourceType": "notebook"
    },
    "kernelspec": {
      "display_name": "Python 3",
      "language": "python",
      "name": "python3"
    },
    "language_info": {
      "codemirror_mode": {
        "name": "ipython",
        "version": 3
      },
      "file_extension": ".py",
      "mimetype": "text/x-python",
      "name": "python",
      "nbconvert_exporter": "python",
      "pygments_lexer": "ipython3",
      "version": "3.12.1"
    }
  },
  "nbformat": 4,
  "nbformat_minor": 0
}
